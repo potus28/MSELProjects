{
 "cells": [
  {
   "cell_type": "markdown",
   "id": "00a2c82c",
   "metadata": {},
   "source": [
    "# ASE & CP2K"
   ]
  },
  {
   "cell_type": "markdown",
   "id": "1c079c1a",
   "metadata": {},
   "source": [
    "Set some environment variables for the notebook. For doing this on a HPC resource, these would be set as export commands in the slurm script. Also, the ASE_CP2K_COMMAND would change to \"srun cp2k_shell.psmp\""
   ]
  },
  {
   "cell_type": "code",
   "execution_count": 3,
   "id": "3b13c924",
   "metadata": {},
   "outputs": [
    {
     "name": "stdout",
     "output_type": "stream",
     "text": [
      "env: SHELL=/bin/bash\n",
      "env: OMP_NUM_THREADS=8\n",
      "env: VECLIB_MAXIMUM_THREADS=1\n",
      "env: ASE_CP2K_COMMAND=cp2k_shell.ssmp\n"
     ]
    }
   ],
   "source": [
    "%set_env SHELL=/bin/bash\n",
    "%set_env OMP_NUM_THREADS=8\n",
    "%set_env VECLIB_MAXIMUM_THREADS=1\n",
    "%set_env ASE_CP2K_COMMAND=cp2k_shell.ssmp"
   ]
  },
  {
   "cell_type": "markdown",
   "id": "703fd075",
   "metadata": {},
   "source": [
    "## Modules"
   ]
  },
  {
   "cell_type": "code",
   "execution_count": 5,
   "id": "e1467479",
   "metadata": {
    "scrolled": true
   },
   "outputs": [],
   "source": [
    "# General\n",
    "import os\n",
    "import sys\n",
    "import numpy as np\n",
    "import pandas as pd\n",
    "import matplotlib as mpl\n",
    "import matplotlib.pyplot as plt\n",
    "\n",
    "# For building things\n",
    "from ase import Atom, Atoms\n",
    "from ase.io import read, write\n",
    "from ase.io.trajectory import Trajectory\n",
    "from ase.build import molecule\n",
    "from ase.visualize import view\n",
    "\n",
    "# Unit Conversions and Fixing Atoms\n",
    "from ase.units import Bohr,Rydberg,kJ,kB,fs,Hartree,mol,kcal\n",
    "from ase.constraints import FixedPlane, FixedLine, FixAtoms\n",
    "\n",
    "# ASE Calculators\n",
    "from plumed import Plumed\n",
    "from ase.calculators.cp2k import CP2K\n",
    "from ase.calculators.lj import LennardJones\n",
    "from ase.calculators.plumed import Plumed\n",
    "from ase.calculators.idealgas import IdealGas\n",
    "\n",
    "# Geometry Optimizations and Normal Mode Analysis\n",
    "from ase.optimize import LBFGS, FIRE\n",
    "from ase.vibrations import Vibrations\n",
    "from ase.thermochemistry import IdealGasThermo\n",
    "\n",
    "# EOS fitting for Unit Cells\n",
    "from ase.eos import EquationOfState\n",
    "\n",
    "# Molecular Dynamics\n",
    "from ase.md.velocitydistribution import MaxwellBoltzmannDistribution\n",
    "from ase.md.verlet import VelocityVerlet\n",
    "from ase.md.langevin import Langevin\n",
    "from ase.md.npt import NPT\n",
    "\n",
    "cwd = os.getcwd()"
   ]
  },
  {
   "cell_type": "code",
   "execution_count": 6,
   "id": "2e0cbb56",
   "metadata": {},
   "outputs": [],
   "source": [
    "def myCP2KCalculator(tag, functional, ecut):\n",
    "    \"\"\"Creates a CP2K calculator object with Settings for Production Runs\n",
    "    tag -> label for cp2k output\n",
    "    functional -> Either PBE+D3, BEEFVDW, rVV10, or LDA+FermiDirac\n",
    "    ecut -> PW Kinetic Energy Cutoff (Rydberg)\n",
    "    \"\"\"\n",
    "    \n",
    "    if functional == \"PBE+D3\":\n",
    "        xc = \"PBE\"\n",
    "        inp = '''\n",
    "&GLOBAL\n",
    "  WALLTIME 47:58:00\n",
    "&END GLOBAL\n",
    "&FORCE_EVAL\n",
    "  &DFT\n",
    "    SURFACE_DIPOLE_CORRECTION .FALSE.\n",
    "    SURF_DIP_DIR Z\n",
    "    &SCF\n",
    "      &OT .TRUE.\n",
    "        MINIMIZER DIIS\n",
    "        PRECONDITIONER FULL_SINGLE_INVERSE\n",
    "      &END OT\n",
    "      &OUTER_SCF .TRUE.\n",
    "        MAX_SCF 50\n",
    "      &END OUTER_SCF\n",
    "    &END SCF\n",
    "    &XC\n",
    "      &VDW_POTENTIAL\n",
    "        POTENTIAL_TYPE PAIR_POTENTIAL\n",
    "        &PAIR_POTENTIAL\n",
    "          R_CUTOFF 15.0\n",
    "          TYPE DFTD3\n",
    "          CALCULATE_C9_TERM .FALSE.\n",
    "          REFERENCE_FUNCTIONAL PBE\n",
    "          PARAMETER_FILE_NAME dftd3.dat\n",
    "        &END PAIR_POTENTIAL\n",
    "      &END VDW_POTENTIAL\n",
    "      &XC_GRID\n",
    "        XC_DERIV NN10_SMOOTH\n",
    "        XC_SMOOTH_RHO NN10\n",
    "      &END\n",
    "    &END XC\n",
    "    &PRINT\n",
    "      &E_DENSITY_BQB OFF\n",
    "      &END E_DENSITY_BQB\n",
    "      &VORONOI OFF\n",
    "          OUTPUT_TEXT .TRUE.\n",
    "      &END VORONOI\n",
    "    &END PRINT\n",
    "  &END DFT\n",
    "&END FORCE_EVAL\n",
    "'''\n",
    "    elif functional == \"BEEFVDW\":\n",
    "        xc = \"GGA_XC_BEEFVDW\"\n",
    "        inp = '''\n",
    "&GLOBAL\n",
    "  WALLTIME 47:58:00\n",
    "&END GLOBAL\n",
    "&FORCE_EVAL\n",
    "  &DFT\n",
    "    SURFACE_DIPOLE_CORRECTION .FALSE.\n",
    "    SURF_DIP_DIR Z\n",
    "    &SCF\n",
    "      &OT .TRUE.\n",
    "        MINIMIZER DIIS\n",
    "        PRECONDITIONER FULL_SINGLE_INVERSE\n",
    "      &END OT\n",
    "      &OUTER_SCF .TRUE.\n",
    "        MAX_SCF 50\n",
    "      &END OUTER_SCF\n",
    "    &END SCF\n",
    "    &XC\n",
    "      &XC_GRID\n",
    "        XC_DERIV NN10_SMOOTH\n",
    "        XC_SMOOTH_RHO NN10\n",
    "      &END\n",
    "      &VDW_POTENTIAL\n",
    "          &NON_LOCAL\n",
    "              TYPE LMKLL\n",
    "              KERNEL_FILE_NAME vdW_kernel_table.dat\n",
    "          &END NON_LOCAL\n",
    "      &END VDW_POTENTIAL\n",
    "    &END XC\n",
    "    &PRINT\n",
    "      &E_DENSITY_BQB OFF\n",
    "      &END E_DENSITY_BQB\n",
    "      &VORONOI ON\n",
    "          OUTPUT_TEXT .TRUE.\n",
    "      &END VORONOI\n",
    "    &END PRINT\n",
    "  &END DFT\n",
    "&END FORCE_EVAL\n",
    "'''\n",
    "    elif functional == \"rVV10\":\n",
    "        xc = None\n",
    "        inp = '''\n",
    "&GLOBAL\n",
    "  WALLTIME 47:58:00\n",
    "&END GLOBAL\n",
    "&FORCE_EVAL\n",
    "  &DFT\n",
    "    SURFACE_DIPOLE_CORRECTION .FALSE.\n",
    "    SURF_DIP_DIR Z\n",
    "    &SCF\n",
    "      &OT .TRUE.\n",
    "        MINIMIZER DIIS\n",
    "        PRECONDITIONER FULL_SINGLE_INVERSE\n",
    "      &END OT\n",
    "      &OUTER_SCF .TRUE.\n",
    "        MAX_SCF 50\n",
    "      &END OUTER_SCF\n",
    "    &END SCF\n",
    "    &XC\n",
    "       &XC_FUNCTIONAL\n",
    "         &GGA_X_RPW86\n",
    "         &END GGA_X_RPW86\n",
    "         &GGA_C_PBE\n",
    "         &END GGA_C_PBE\n",
    "       &END XC_FUNCTIONAL\n",
    "       &vdW_POTENTIAL\n",
    "          DISPERSION_FUNCTIONAL NON_LOCAL\n",
    "          &NON_LOCAL\n",
    "            TYPE RVV10\n",
    "            PARAMETERS 6.3 0.0093\n",
    "            VERBOSE_OUTPUT\n",
    "            KERNEL_FILE_NAME rVV10_kernel_table.dat\n",
    "            CUTOFF 40\n",
    "          &END NON_LOCAL\n",
    "       &END vdW_POTENTIAL\n",
    "      &XC_GRID\n",
    "        XC_DERIV NN10_SMOOTH\n",
    "        XC_SMOOTH_RHO NN10\n",
    "      &END\n",
    "    &END XC\n",
    "    &PRINT\n",
    "      &E_DENSITY_BQB OFF\n",
    "      &END E_DENSITY_BQB\n",
    "      &VORONOI ON\n",
    "          OUTPUT_TEXT .TRUE.\n",
    "      &END VORONOI\n",
    "    &END PRINT\n",
    "  &END DFT\n",
    "&END FORCE_EVAL\n",
    "'''\n",
    "    elif functional == \"LDA+FermiDirac\":\n",
    "        xc = \"LDA\"\n",
    "        inp = '''\n",
    "&GLOBAL\n",
    "  WALLTIME 47:58:00\n",
    "&END GLOBAL\n",
    "&FORCE_EVAL\n",
    "  &DFT\n",
    "    &KPOINTS\n",
    "        SCHEME MONKHORST-PACK 6 6 6\n",
    "    &END KPOINTS\n",
    "    &SCF\n",
    "      ADDED_MOS 10\n",
    "      &SMEAR ON\n",
    "          METHOD FERMI_DIRAC\n",
    "          ELECTRONIC_TEMPERATURE [K] 300\n",
    "      &END SMEAR\n",
    "      &MIXING .TRUE.\n",
    "          METHOD BROYDEN_MIXING\n",
    "      &END MIXING\n",
    "      &OUTER_SCF .TRUE.\n",
    "        MAX_SCF 50\n",
    "      &END OUTER_SCF\n",
    "    &END SCF\n",
    "    &XC\n",
    "      &XC_GRID\n",
    "        XC_DERIV NN10_SMOOTH\n",
    "        XC_SMOOTH_RHO NN10\n",
    "      &END\n",
    "    &END XC\n",
    "    &PRINT\n",
    "      &E_DENSITY_BQB OFF\n",
    "      &END E_DENSITY_BQB\n",
    "      &VORONOI OFF\n",
    "          OUTPUT_EMP .TRUE.\n",
    "      &END VORONOI\n",
    "    &END PRINT\n",
    "  &END DFT\n",
    "&END FORCE_EVAL\n",
    "'''\n",
    "        \n",
    "    elif functional == \"PBED3+FermiDirac\":\n",
    "        xc = \"PBE\"\n",
    "        inp = '''\n",
    "&GLOBAL\n",
    "  WALLTIME 47:58:00\n",
    "&END GLOBAL\n",
    "&FORCE_EVAL\n",
    "  &DFT\n",
    "    &KPOINTS\n",
    "        SCHEME MONKHORST-PACK 6 6 6\n",
    "    &END KPOINTS\n",
    "    &SCF\n",
    "      ADDED_MOS 10\n",
    "      &SMEAR ON\n",
    "          METHOD FERMI_DIRAC\n",
    "          ELECTRONIC_TEMPERATURE [K] 300\n",
    "      &END SMEAR\n",
    "      &MIXING .TRUE.\n",
    "          METHOD BROYDEN_MIXING\n",
    "      &END MIXING\n",
    "      &OUTER_SCF .TRUE.\n",
    "        MAX_SCF 50\n",
    "      &END OUTER_SCF\n",
    "    &END SCF\n",
    "    &XC\n",
    "      &VDW_POTENTIAL\n",
    "        POTENTIAL_TYPE PAIR_POTENTIAL\n",
    "        &PAIR_POTENTIAL\n",
    "          R_CUTOFF 15.0\n",
    "          TYPE DFTD3\n",
    "          CALCULATE_C9_TERM .FALSE.\n",
    "          REFERENCE_FUNCTIONAL PBE\n",
    "          PARAMETER_FILE_NAME dftd3.dat\n",
    "        &END PAIR_POTENTIAL\n",
    "      &END VDW_POTENTIAL\n",
    "      &XC_GRID\n",
    "        XC_DERIV NN10_SMOOTH\n",
    "        XC_SMOOTH_RHO NN10\n",
    "      &END\n",
    "    &END XC\n",
    "    &PRINT\n",
    "      &E_DENSITY_BQB OFF\n",
    "      &END E_DENSITY_BQB\n",
    "      &VORONOI OFF\n",
    "          OUTPUT_EMP .TRUE.\n",
    "      &END VORONOI\n",
    "    &END PRINT\n",
    "  &END DFT\n",
    "&END FORCE_EVAL\n",
    "'''\n",
    "    else:\n",
    "        xc = \"LDA\"\n",
    "        inp = ''''''\n",
    "        \n",
    "    calc = CP2K(\n",
    "        auto_write=False,\n",
    "        basis_set=\"DZVP-MOLOPT-SR-GTH\",\n",
    "        basis_set_file=\"BASIS_MOLOPT\",\n",
    "        charge=0,\n",
    "        cutoff = ecut*Rydberg,\n",
    "        debug = False,\n",
    "        force_eval_method = \"Quickstep\",\n",
    "        xc = xc,\n",
    "        inp = inp,\n",
    "        max_scf = 50,\n",
    "        poisson_solver =\"auto\",\n",
    "        potential_file = \"POTENTIAL\",\n",
    "        pseudo_potential = \"GTH-PBE\",\n",
    "        stress_tensor = True,\n",
    "        print_level = \"LOW\",\n",
    "        label = tag,\n",
    "    )\n",
    "    return calc"
   ]
  },
  {
   "cell_type": "markdown",
   "id": "7dde5769",
   "metadata": {},
   "source": [
    "## Molecule Optimization"
   ]
  },
  {
   "cell_type": "code",
   "execution_count": 7,
   "id": "aa27216c",
   "metadata": {},
   "outputs": [],
   "source": [
    "def MyFIREOptimization(atoms, dirname):\n",
    "\n",
    "    if not os.path.isdir(dirname):\n",
    "        os.mkdir(dirname)\n",
    "    else:\n",
    "        pass\n",
    "    os.chdir(dirname)\n",
    "    \n",
    "    atoms.calc = myCP2KCalculator(dirname, \"PBE+D3\", 400.0)\n",
    "    \n",
    "    minimizer = FIRE(atoms, trajectory=\"fire.traj\", logfile=\"fire.log\")\n",
    "    minimizer.run(fmax=0.03)\n",
    "    potentialenergy = atoms.get_potential_energy()\n",
    "    \n",
    "    os.chdir(cwd)\n",
    "\n",
    "def MyLBFGSOptimization(atoms, dirname):\n",
    "\n",
    "    if not os.path.isdir(dirname):\n",
    "        os.mkdir(dirname)\n",
    "    else:\n",
    "        pass\n",
    "    os.chdir(dirname)\n",
    "    \n",
    "    atoms.calc = myCP2KCalculator(dirname, \"PBE+D3\", 400.0)\n",
    "    \n",
    "    minimizer = LBFGS(atoms, trajectory=\"lbfgs.traj\", logfile=\"lbfgs.log\")\n",
    "    minimizer.run(fmax=0.03)\n",
    "    potentialenergy = atoms.get_potential_energy()\n",
    "    \n",
    "    os.chdir(cwd)\n",
    "\n",
    "    "
   ]
  },
  {
   "cell_type": "markdown",
   "id": "9fa79660",
   "metadata": {},
   "source": [
    "## Furfural and Derivatives"
   ]
  },
  {
   "cell_type": "code",
   "execution_count": 8,
   "id": "c50ba821",
   "metadata": {},
   "outputs": [
    {
     "data": {
      "application/vnd.jupyter.widget-view+json": {
       "model_id": "a87ef511a04b4a71b3fd0353139381ad",
       "version_major": 2,
       "version_minor": 0
      },
      "text/plain": []
     },
     "metadata": {},
     "output_type": "display_data"
    },
    {
     "data": {
      "application/vnd.jupyter.widget-view+json": {
       "model_id": "b9a08deda27343178db6e19de56fec15",
       "version_major": 2,
       "version_minor": 0
      },
      "text/plain": [
       "HBox(children=(NGLWidget(), VBox(children=(Dropdown(description='Show', options=('All', 'H', 'O', 'C'), value=…"
      ]
     },
     "metadata": {},
     "output_type": "display_data"
    }
   ],
   "source": [
    "fal = read(\"Resources/xyz/furfural/FAL.xyz\")\n",
    "fal.center(vacuum=6.0)\n",
    "fal.set_pbc(True)\n",
    "view(fal, viewer = \"ngl\")"
   ]
  },
  {
   "cell_type": "code",
   "execution_count": 9,
   "id": "1e9815af",
   "metadata": {
    "scrolled": true
   },
   "outputs": [],
   "source": [
    "MyFIREOptimization(fal, \"simulations-molecule-fal-minimization\")"
   ]
  },
  {
   "cell_type": "code",
   "execution_count": 10,
   "id": "7604daec",
   "metadata": {},
   "outputs": [
    {
     "data": {
      "application/vnd.jupyter.widget-view+json": {
       "model_id": "25617b3042d24ecfae7677138499d2ad",
       "version_major": 2,
       "version_minor": 0
      },
      "text/plain": [
       "HBox(children=(NGLWidget(), VBox(children=(Dropdown(description='Show', options=('All', 'H', 'O', 'C'), value=…"
      ]
     },
     "metadata": {},
     "output_type": "display_data"
    }
   ],
   "source": [
    "view(fal, viewer = \"ngl\")"
   ]
  },
  {
   "cell_type": "code",
   "execution_count": 13,
   "id": "f4d8f9a8",
   "metadata": {},
   "outputs": [],
   "source": [
    "write(\"Resources/xyz/furfural/FAL.xyz\",fal)"
   ]
  },
  {
   "cell_type": "code",
   "execution_count": 15,
   "id": "5840429e",
   "metadata": {},
   "outputs": [
    {
     "data": {
      "application/vnd.jupyter.widget-view+json": {
       "model_id": "3dc36f2a176944ad9d5698747d89b08d",
       "version_major": 2,
       "version_minor": 0
      },
      "text/plain": [
       "HBox(children=(NGLWidget(), VBox(children=(Dropdown(description='Show', options=('All', 'H', 'O', 'C'), value=…"
      ]
     },
     "metadata": {},
     "output_type": "display_data"
    }
   ],
   "source": [
    "fol = read(\"Resources/xyz/furfural/FOL.xyz\")\n",
    "fol.center(vacuum=6.0)\n",
    "fol.set_pbc(True)\n",
    "view(fol, viewer = \"ngl\")"
   ]
  },
  {
   "cell_type": "code",
   "execution_count": 16,
   "id": "9a599c0e",
   "metadata": {},
   "outputs": [],
   "source": [
    "MyFIREOptimization(fol, \"simulations-molecule-fol-minimization\")"
   ]
  },
  {
   "cell_type": "code",
   "execution_count": 17,
   "id": "bbe4ab80",
   "metadata": {},
   "outputs": [
    {
     "data": {
      "application/vnd.jupyter.widget-view+json": {
       "model_id": "004e25410ada430ea16b07c95d850689",
       "version_major": 2,
       "version_minor": 0
      },
      "text/plain": [
       "HBox(children=(NGLWidget(), VBox(children=(Dropdown(description='Show', options=('All', 'H', 'O', 'C'), value=…"
      ]
     },
     "metadata": {},
     "output_type": "display_data"
    }
   ],
   "source": [
    "view(fol, viewer = \"ngl\")"
   ]
  },
  {
   "cell_type": "code",
   "execution_count": 18,
   "id": "892d4039",
   "metadata": {},
   "outputs": [],
   "source": [
    "write(\"Resources/xyz/furfural/FOL.xyz\",fol)"
   ]
  },
  {
   "cell_type": "code",
   "execution_count": 19,
   "id": "c69496ff",
   "metadata": {},
   "outputs": [
    {
     "data": {
      "application/vnd.jupyter.widget-view+json": {
       "model_id": "4b26517ac5334076847bd7e3f9473072",
       "version_major": 2,
       "version_minor": 0
      },
      "text/plain": [
       "HBox(children=(NGLWidget(), VBox(children=(Dropdown(description='Show', options=('All', 'H', 'O', 'C'), value=…"
      ]
     },
     "metadata": {},
     "output_type": "display_data"
    }
   ],
   "source": [
    "mf = read(\"Resources/xyz/furfural/MF.xyz\")\n",
    "mf.center(vacuum=6.0)\n",
    "mf.set_pbc(True)\n",
    "view(mf, viewer = \"ngl\")"
   ]
  },
  {
   "cell_type": "code",
   "execution_count": 20,
   "id": "72db0937",
   "metadata": {},
   "outputs": [],
   "source": [
    "MyFIREOptimization(mf, \"simulations-molecule-mf-minimization\")"
   ]
  },
  {
   "cell_type": "code",
   "execution_count": 21,
   "id": "9448fc8e",
   "metadata": {},
   "outputs": [
    {
     "data": {
      "application/vnd.jupyter.widget-view+json": {
       "model_id": "514b6e5221ed482b82cbb14f892eaf1f",
       "version_major": 2,
       "version_minor": 0
      },
      "text/plain": [
       "HBox(children=(NGLWidget(), VBox(children=(Dropdown(description='Show', options=('All', 'H', 'O', 'C'), value=…"
      ]
     },
     "metadata": {},
     "output_type": "display_data"
    }
   ],
   "source": [
    "view(mf, viewer = \"ngl\")"
   ]
  },
  {
   "cell_type": "code",
   "execution_count": 22,
   "id": "8d49c8bc",
   "metadata": {},
   "outputs": [],
   "source": [
    "write(\"Resources/xyz/furfural/MF.xyz\",mf)"
   ]
  },
  {
   "cell_type": "code",
   "execution_count": 23,
   "id": "e56113f3",
   "metadata": {},
   "outputs": [
    {
     "data": {
      "application/vnd.jupyter.widget-view+json": {
       "model_id": "70bde51194304fc3abb092d0cfa255f3",
       "version_major": 2,
       "version_minor": 0
      },
      "text/plain": [
       "HBox(children=(NGLWidget(), VBox(children=(Dropdown(description='Show', options=('All', 'H', 'O', 'C'), value=…"
      ]
     },
     "metadata": {},
     "output_type": "display_data"
    }
   ],
   "source": [
    "thfol = read(\"Resources/xyz/furfural/THFOL.xyz\")\n",
    "thfol.center(vacuum=6.0)\n",
    "thfol.set_pbc(True)\n",
    "view(thfol, viewer = \"ngl\")"
   ]
  },
  {
   "cell_type": "code",
   "execution_count": 24,
   "id": "18965d82",
   "metadata": {},
   "outputs": [],
   "source": [
    "MyFIREOptimization(thfol, \"simulations-molecule-thfol-minimization\")"
   ]
  },
  {
   "cell_type": "code",
   "execution_count": 25,
   "id": "b5c82c94",
   "metadata": {},
   "outputs": [
    {
     "data": {
      "application/vnd.jupyter.widget-view+json": {
       "model_id": "31017c8da35e4419bf2300a76bd4bde4",
       "version_major": 2,
       "version_minor": 0
      },
      "text/plain": [
       "HBox(children=(NGLWidget(), VBox(children=(Dropdown(description='Show', options=('All', 'H', 'O', 'C'), value=…"
      ]
     },
     "metadata": {},
     "output_type": "display_data"
    }
   ],
   "source": [
    "view(thfol, viewer = \"ngl\")"
   ]
  },
  {
   "cell_type": "code",
   "execution_count": 26,
   "id": "e95f3968",
   "metadata": {},
   "outputs": [],
   "source": [
    "write(\"Resources/xyz/furfural/THFOL.xyz\",thfol)"
   ]
  },
  {
   "cell_type": "markdown",
   "id": "64d838ee",
   "metadata": {},
   "source": [
    "## GG Lignin Linkages"
   ]
  },
  {
   "cell_type": "code",
   "execution_count": 17,
   "id": "6aa746b0",
   "metadata": {},
   "outputs": [
    {
     "data": {
      "application/vnd.jupyter.widget-view+json": {
       "model_id": "ecee5d3e76924823b3c04e974c6a9161",
       "version_major": 2,
       "version_minor": 0
      },
      "text/plain": [
       "HBox(children=(NGLWidget(), VBox(children=(Dropdown(description='Show', options=('All', 'H', 'C', 'O'), value=…"
      ]
     },
     "metadata": {},
     "output_type": "display_data"
    }
   ],
   "source": [
    "bo4 = read(\"Resources/xyz/lignin/GG/BO4.xyz\")\n",
    "bo4.center(vacuum=6.0)\n",
    "bo4.set_pbc(True)\n",
    "view(bo4, viewer = \"ngl\")"
   ]
  },
  {
   "cell_type": "code",
   "execution_count": 18,
   "id": "803904b9",
   "metadata": {},
   "outputs": [],
   "source": [
    "MyFIREOptimization(bo4, \"simulations-molecule-bo4-minimization\")"
   ]
  },
  {
   "cell_type": "code",
   "execution_count": 19,
   "id": "8172b40a",
   "metadata": {},
   "outputs": [
    {
     "data": {
      "application/vnd.jupyter.widget-view+json": {
       "model_id": "ced000171ce7429b8fafa6130e27eb7b",
       "version_major": 2,
       "version_minor": 0
      },
      "text/plain": [
       "HBox(children=(NGLWidget(), VBox(children=(Dropdown(description='Show', options=('All', 'H', 'C', 'O'), value=…"
      ]
     },
     "metadata": {},
     "output_type": "display_data"
    }
   ],
   "source": [
    "view(bo4, viewer = \"ngl\")"
   ]
  },
  {
   "cell_type": "code",
   "execution_count": 20,
   "id": "9d38c7ba",
   "metadata": {},
   "outputs": [
    {
     "name": "stderr",
     "output_type": "stream",
     "text": [
      "/home/woodrowwilson/Programs/ase/dev/ase/io/extxyz.py:1001: UserWarning: write_xyz() overwriting array \"forces\" present in atoms.arrays with stored results from calculator\n",
      "  warnings.warn('write_xyz() overwriting array \"{0}\" present '\n"
     ]
    }
   ],
   "source": [
    "write(\"Resources/xyz/lignin/GG/BO4.xyz\",bo4)"
   ]
  },
  {
   "cell_type": "code",
   "execution_count": 8,
   "id": "41797473",
   "metadata": {},
   "outputs": [
    {
     "data": {
      "application/vnd.jupyter.widget-view+json": {
       "model_id": "946f0081af7c4e8682e2868bdfdf09ed",
       "version_major": 2,
       "version_minor": 0
      },
      "text/plain": []
     },
     "metadata": {},
     "output_type": "display_data"
    },
    {
     "data": {
      "application/vnd.jupyter.widget-view+json": {
       "model_id": "7cdfc75fe0f64a79a28e3634ee3e7e42",
       "version_major": 2,
       "version_minor": 0
      },
      "text/plain": [
       "HBox(children=(NGLWidget(), VBox(children=(Dropdown(description='Show', options=('All', 'H', 'C', 'O'), value=…"
      ]
     },
     "metadata": {},
     "output_type": "display_data"
    }
   ],
   "source": [
    "pe = read(\"Resources/xyz/lignin/PE/PE.xyz\")\n",
    "pe.center(vacuum=6.0)\n",
    "pe.set_pbc(True)\n",
    "view(pe, viewer = \"ngl\")"
   ]
  },
  {
   "cell_type": "code",
   "execution_count": 9,
   "id": "0d47d68f",
   "metadata": {},
   "outputs": [],
   "source": [
    "MyFIREOptimization(pe, \"simulations-molecule-pe-minimization\")"
   ]
  },
  {
   "cell_type": "code",
   "execution_count": 10,
   "id": "83feac3f",
   "metadata": {},
   "outputs": [
    {
     "data": {
      "application/vnd.jupyter.widget-view+json": {
       "model_id": "60dbe02e69be4fe3b46703078150142f",
       "version_major": 2,
       "version_minor": 0
      },
      "text/plain": [
       "HBox(children=(NGLWidget(), VBox(children=(Dropdown(description='Show', options=('All', 'H', 'C', 'O'), value=…"
      ]
     },
     "metadata": {},
     "output_type": "display_data"
    }
   ],
   "source": [
    "view(pe, viewer = \"ngl\")"
   ]
  },
  {
   "cell_type": "code",
   "execution_count": 11,
   "id": "d39f9fca",
   "metadata": {},
   "outputs": [],
   "source": [
    "write(\"Resources/xyz/lignin/PE/PE.xyz\",pe)"
   ]
  },
  {
   "cell_type": "code",
   "execution_count": 14,
   "id": "7d4661dc",
   "metadata": {
    "scrolled": false
   },
   "outputs": [
    {
     "data": {
      "application/vnd.jupyter.widget-view+json": {
       "model_id": "f688b9aae24c4869bd2b7bd3631ee96c",
       "version_major": 2,
       "version_minor": 0
      },
      "text/plain": [
       "HBox(children=(NGLWidget(), VBox(children=(Dropdown(description='Show', options=('All', 'H', 'C', 'O'), value=…"
      ]
     },
     "metadata": {},
     "output_type": "display_data"
    }
   ],
   "source": [
    "hh = read(\"Resources/xyz/lignin/HH/HH.xyz\")\n",
    "hh.center(vacuum=6.0)\n",
    "hh.set_pbc(True)\n",
    "view(hh, viewer = \"ngl\")"
   ]
  },
  {
   "cell_type": "code",
   "execution_count": 15,
   "id": "a786459f",
   "metadata": {},
   "outputs": [],
   "source": [
    "MyFIREOptimization(hh, \"simulations-molecule-hh-minimization\")"
   ]
  },
  {
   "cell_type": "code",
   "execution_count": 16,
   "id": "b1c168bc",
   "metadata": {},
   "outputs": [],
   "source": [
    "write(\"Resources/xyz/lignin/HH/HH.xyz\",hh)"
   ]
  },
  {
   "cell_type": "code",
   "execution_count": 23,
   "id": "23a06a50",
   "metadata": {
    "scrolled": false
   },
   "outputs": [
    {
     "data": {
      "application/vnd.jupyter.widget-view+json": {
       "model_id": "1726ae5bc5f9487391bb8835f84fcc60",
       "version_major": 2,
       "version_minor": 0
      },
      "text/plain": [
       "HBox(children=(NGLWidget(), VBox(children=(Dropdown(description='Show', options=('All', 'H', 'C', 'O'), value=…"
      ]
     },
     "metadata": {},
     "output_type": "display_data"
    }
   ],
   "source": [
    "pd = read(\"Resources/xyz/lignin/PD/PD.xyz\")\n",
    "pd.center(vacuum=6.0)\n",
    "pd.set_pbc(True)\n",
    "view(pd, viewer = \"ngl\")"
   ]
  },
  {
   "cell_type": "code",
   "execution_count": 24,
   "id": "3635393b",
   "metadata": {},
   "outputs": [],
   "source": [
    "MyFIREOptimization(pd, \"simulations-molecule-pd-minimization\")"
   ]
  },
  {
   "cell_type": "code",
   "execution_count": 30,
   "id": "6e4d297b",
   "metadata": {},
   "outputs": [
    {
     "name": "stdout",
     "output_type": "stream",
     "text": [
      "Resources/xyz/solvents/C10H12.xyz\n"
     ]
    },
    {
     "name": "stderr",
     "output_type": "stream",
     "text": [
      "/home/woodrowwilson/Programs/ase/dev/ase/io/extxyz.py:1001: UserWarning: write_xyz() overwriting array \"forces\" present in atoms.arrays with stored results from calculator\n",
      "  warnings.warn('write_xyz() overwriting array \"{0}\" present '\n"
     ]
    },
    {
     "name": "stdout",
     "output_type": "stream",
     "text": [
      "Resources/xyz/solvents/NH3.xyz\n",
      "Resources/xyz/solvents/CH3OH.xyz\n",
      "Resources/xyz/solvents/C5H5N.xyz\n",
      "Resources/xyz/solvents/H2O.xyz\n",
      "Resources/xyz/solvents/CH2O2.xyz\n"
     ]
    }
   ],
   "source": [
    "import glob\n",
    "os.chdir(cwd)\n",
    "solvents = glob.glob(\"Resources/xyz/solvents/*.xyz\")\n",
    "for solvent in solvents:\n",
    "    print(solvent)\n",
    "    atoms = read(solvent)\n",
    "    atoms.center(vacuum=6.0)\n",
    "    atoms.set_pbc(True)\n",
    "    MyFIREOptimization(atoms, \"simulations-molecule-minimization\")\n",
    "    write(solvent, atoms)\n"
   ]
  },
  {
   "cell_type": "code",
   "execution_count": null,
   "id": "605b48ac",
   "metadata": {},
   "outputs": [],
   "source": []
  }
 ],
 "metadata": {
  "kernelspec": {
   "display_name": "Python 3 (ipykernel)",
   "language": "python",
   "name": "python3"
  },
  "language_info": {
   "codemirror_mode": {
    "name": "ipython",
    "version": 3
   },
   "file_extension": ".py",
   "mimetype": "text/x-python",
   "name": "python",
   "nbconvert_exporter": "python",
   "pygments_lexer": "ipython3",
   "version": "3.9.12"
  }
 },
 "nbformat": 4,
 "nbformat_minor": 5
}
