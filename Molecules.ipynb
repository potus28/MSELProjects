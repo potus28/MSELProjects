{
 "cells": [
  {
   "cell_type": "markdown",
   "id": "00a2c82c",
   "metadata": {},
   "source": [
    "# ASE & CP2K"
   ]
  },
  {
   "cell_type": "markdown",
   "id": "1c079c1a",
   "metadata": {},
   "source": [
    "Set some environment variables for the notebook. For doing this on a HPC resource, these would be set as export commands in the slurm script. Also, the ASE_CP2K_COMMAND would change to \"srun cp2k_shell.psmp\""
   ]
  },
  {
   "cell_type": "code",
   "execution_count": 2,
   "id": "da866bc7",
   "metadata": {},
   "outputs": [
    {
     "name": "stdout",
     "output_type": "stream",
     "text": [
      "env: SHELL=/bin/bash\n",
      "env: OMP_NUM_THREADS=8\n"
     ]
    }
   ],
   "source": [
    "%set_env SHELL=/bin/bash\n",
    "%set_env OMP_NUM_THREADS=8"
   ]
  },
  {
   "cell_type": "code",
   "execution_count": null,
   "id": "7366343d",
   "metadata": {},
   "outputs": [],
   "source": [
    "# If on a Mac\n",
    "%set_env VECLIB_MAXIMUM_THREADS=1\n",
    "%set_env ASE_CP2K_COMMAND=/Users/Woody/Programs/cp2k/9.1/exe/Darwin-gfortran/cp2k_shell.ssmp"
   ]
  },
  {
   "cell_type": "code",
   "execution_count": 3,
   "id": "4654f11c",
   "metadata": {},
   "outputs": [
    {
     "name": "stdout",
     "output_type": "stream",
     "text": [
      "env: ASE_CP2K_COMMAND=/home/woodrowwilson/Programs/cp2k/9.1/exe/PopOS-x86-64-gfortran/cp2k_shell.ssmp\n"
     ]
    }
   ],
   "source": [
    "# If on Linux\n",
    "%set_env ASE_CP2K_COMMAND=/home/woodrowwilson/Programs/cp2k/9.1/exe/PopOS-x86-64-gfortran/cp2k_shell.ssmp"
   ]
  },
  {
   "cell_type": "markdown",
   "id": "703fd075",
   "metadata": {},
   "source": [
    "## Modules"
   ]
  },
  {
   "cell_type": "code",
   "execution_count": 4,
   "id": "e1467479",
   "metadata": {
    "scrolled": true
   },
   "outputs": [],
   "source": [
    "# General\n",
    "import os\n",
    "import sys\n",
    "import numpy as np\n",
    "import pandas as pd\n",
    "import matplotlib as mpl\n",
    "import matplotlib.pyplot as plt\n",
    "\n",
    "# For building things\n",
    "from ase import Atom, Atoms\n",
    "from ase.io import read, write\n",
    "from ase.io.trajectory import Trajectory\n",
    "from ase.build import molecule\n",
    "from ase.visualize import view\n",
    "\n",
    "# Unit Conversions and Fixing Atoms\n",
    "from ase.units import Bohr,Rydberg,kJ,kB,fs,Hartree,mol,kcal\n",
    "from ase.constraints import FixedPlane, FixedLine, FixAtoms\n",
    "\n",
    "# ASE Calculators\n",
    "#from plumed import Plumed\n",
    "from ase.calculators.cp2k import CP2K\n",
    "from ase.calculators.lj import LennardJones\n",
    "#from ase.calculators.plumed import Plumed\n",
    "from ase.calculators.idealgas import IdealGas\n",
    "\n",
    "# Geometry Optimizations and Normal Mode Analysis\n",
    "from ase.optimize import LBFGS, FIRE\n",
    "from ase.vibrations import Vibrations\n",
    "from ase.thermochemistry import IdealGasThermo\n",
    "\n",
    "# EOS fitting for Unit Cells\n",
    "from ase.eos import EquationOfState\n",
    "\n",
    "# Molecular Dynamics\n",
    "from ase.md.velocitydistribution import MaxwellBoltzmannDistribution\n",
    "from ase.md.verlet import VelocityVerlet\n",
    "from ase.md.langevin import Langevin\n",
    "from ase.md.npt import NPT"
   ]
  },
  {
   "cell_type": "code",
   "execution_count": 5,
   "id": "fae0e256",
   "metadata": {},
   "outputs": [
    {
     "data": {
      "text/plain": [
       "'/home/woodrowwilson/Documents/Projects/MSELProjects'"
      ]
     },
     "execution_count": 5,
     "metadata": {},
     "output_type": "execute_result"
    }
   ],
   "source": [
    "cwd = os.getcwd()\n",
    "cwd"
   ]
  },
  {
   "cell_type": "code",
   "execution_count": 6,
   "id": "2e0cbb56",
   "metadata": {},
   "outputs": [],
   "source": [
    "def myCP2KCalculator(tag, functional, ecut):\n",
    "    \"\"\"Creates a CP2K calculator object with Settings for Production Runs\n",
    "    tag -> label for cp2k output\n",
    "    functional -> Either PBE+D3, BEEFVDW, rVV10, or LDA+FermiDirac\n",
    "    ecut -> PW Kinetic Energy Cutoff (Rydberg)\n",
    "    \"\"\"\n",
    "    \n",
    "    if functional == \"PBE+D3\":\n",
    "        xc = \"PBE\"\n",
    "        inp = '''\n",
    "&GLOBAL\n",
    "  WALLTIME 47:58:00\n",
    "&END GLOBAL\n",
    "&FORCE_EVAL\n",
    "  &DFT\n",
    "    SURFACE_DIPOLE_CORRECTION .FALSE.\n",
    "    SURF_DIP_DIR Z\n",
    "    &SCF\n",
    "      &OT .TRUE.\n",
    "        MINIMIZER DIIS\n",
    "        PRECONDITIONER FULL_SINGLE_INVERSE\n",
    "      &END OT\n",
    "      &OUTER_SCF .TRUE.\n",
    "        MAX_SCF 50\n",
    "      &END OUTER_SCF\n",
    "    &END SCF\n",
    "    &XC\n",
    "      &VDW_POTENTIAL\n",
    "        POTENTIAL_TYPE PAIR_POTENTIAL\n",
    "        &PAIR_POTENTIAL\n",
    "          R_CUTOFF 15.0\n",
    "          TYPE DFTD3\n",
    "          CALCULATE_C9_TERM .FALSE.\n",
    "          REFERENCE_FUNCTIONAL PBE\n",
    "          PARAMETER_FILE_NAME dftd3.dat\n",
    "        &END PAIR_POTENTIAL\n",
    "      &END VDW_POTENTIAL\n",
    "      &XC_GRID\n",
    "        XC_DERIV NN10_SMOOTH\n",
    "        XC_SMOOTH_RHO NN10\n",
    "      &END\n",
    "    &END XC\n",
    "    &PRINT\n",
    "      &E_DENSITY_BQB OFF\n",
    "      &END E_DENSITY_BQB\n",
    "      &VORONOI OFF\n",
    "          OUTPUT_TEXT .TRUE.\n",
    "      &END VORONOI\n",
    "    &END PRINT\n",
    "  &END DFT\n",
    "&END FORCE_EVAL\n",
    "'''\n",
    "    elif functional == \"BEEFVDW\":\n",
    "        xc = \"GGA_XC_BEEFVDW\"\n",
    "        inp = '''\n",
    "&GLOBAL\n",
    "  WALLTIME 47:58:00\n",
    "&END GLOBAL\n",
    "&FORCE_EVAL\n",
    "  &DFT\n",
    "    SURFACE_DIPOLE_CORRECTION .FALSE.\n",
    "    SURF_DIP_DIR Z\n",
    "    &SCF\n",
    "      &OT .TRUE.\n",
    "        MINIMIZER DIIS\n",
    "        PRECONDITIONER FULL_SINGLE_INVERSE\n",
    "      &END OT\n",
    "      &OUTER_SCF .TRUE.\n",
    "        MAX_SCF 50\n",
    "      &END OUTER_SCF\n",
    "    &END SCF\n",
    "    &XC\n",
    "      &XC_GRID\n",
    "        XC_DERIV NN10_SMOOTH\n",
    "        XC_SMOOTH_RHO NN10\n",
    "      &END\n",
    "      &VDW_POTENTIAL\n",
    "          &NON_LOCAL\n",
    "              TYPE LMKLL\n",
    "              KERNEL_FILE_NAME vdW_kernel_table.dat\n",
    "          &END NON_LOCAL\n",
    "      &END VDW_POTENTIAL\n",
    "    &END XC\n",
    "    &PRINT\n",
    "      &E_DENSITY_BQB OFF\n",
    "      &END E_DENSITY_BQB\n",
    "      &VORONOI ON\n",
    "          OUTPUT_TEXT .TRUE.\n",
    "      &END VORONOI\n",
    "    &END PRINT\n",
    "  &END DFT\n",
    "&END FORCE_EVAL\n",
    "'''\n",
    "    elif functional == \"rVV10\":\n",
    "        xc = None\n",
    "        inp = '''\n",
    "&GLOBAL\n",
    "  WALLTIME 47:58:00\n",
    "&END GLOBAL\n",
    "&FORCE_EVAL\n",
    "  &DFT\n",
    "    SURFACE_DIPOLE_CORRECTION .FALSE.\n",
    "    SURF_DIP_DIR Z\n",
    "    &SCF\n",
    "      &OT .TRUE.\n",
    "        MINIMIZER DIIS\n",
    "        PRECONDITIONER FULL_SINGLE_INVERSE\n",
    "      &END OT\n",
    "      &OUTER_SCF .TRUE.\n",
    "        MAX_SCF 50\n",
    "      &END OUTER_SCF\n",
    "    &END SCF\n",
    "    &XC\n",
    "       &XC_FUNCTIONAL\n",
    "         &GGA_X_RPW86\n",
    "         &END GGA_X_RPW86\n",
    "         &GGA_C_PBE\n",
    "         &END GGA_C_PBE\n",
    "       &END XC_FUNCTIONAL\n",
    "       &vdW_POTENTIAL\n",
    "          DISPERSION_FUNCTIONAL NON_LOCAL\n",
    "          &NON_LOCAL\n",
    "            TYPE RVV10\n",
    "            PARAMETERS 6.3 0.0093\n",
    "            VERBOSE_OUTPUT\n",
    "            KERNEL_FILE_NAME rVV10_kernel_table.dat\n",
    "            CUTOFF 40\n",
    "          &END NON_LOCAL\n",
    "       &END vdW_POTENTIAL\n",
    "      &XC_GRID\n",
    "        XC_DERIV NN10_SMOOTH\n",
    "        XC_SMOOTH_RHO NN10\n",
    "      &END\n",
    "    &END XC\n",
    "    &PRINT\n",
    "      &E_DENSITY_BQB OFF\n",
    "      &END E_DENSITY_BQB\n",
    "      &VORONOI ON\n",
    "          OUTPUT_TEXT .TRUE.\n",
    "      &END VORONOI\n",
    "    &END PRINT\n",
    "  &END DFT\n",
    "&END FORCE_EVAL\n",
    "'''\n",
    "    elif functional == \"LDA+FermiDirac\":\n",
    "        xc = \"LDA\"\n",
    "        inp = '''\n",
    "&GLOBAL\n",
    "  WALLTIME 47:58:00\n",
    "&END GLOBAL\n",
    "&FORCE_EVAL\n",
    "  &DFT\n",
    "    &KPOINTS\n",
    "        SCHEME MONKHORST-PACK 6 6 6\n",
    "    &END KPOINTS\n",
    "    &SCF\n",
    "      ADDED_MOS 10\n",
    "      &SMEAR ON\n",
    "          METHOD FERMI_DIRAC\n",
    "          ELECTRONIC_TEMPERATURE [K] 300\n",
    "      &END SMEAR\n",
    "      &MIXING .TRUE.\n",
    "          METHOD BROYDEN_MIXING\n",
    "      &END MIXING\n",
    "      &OUTER_SCF .TRUE.\n",
    "        MAX_SCF 50\n",
    "      &END OUTER_SCF\n",
    "    &END SCF\n",
    "    &XC\n",
    "      &XC_GRID\n",
    "        XC_DERIV NN10_SMOOTH\n",
    "        XC_SMOOTH_RHO NN10\n",
    "      &END\n",
    "    &END XC\n",
    "    &PRINT\n",
    "      &E_DENSITY_BQB OFF\n",
    "      &END E_DENSITY_BQB\n",
    "      &VORONOI OFF\n",
    "          OUTPUT_EMP .TRUE.\n",
    "      &END VORONOI\n",
    "    &END PRINT\n",
    "  &END DFT\n",
    "&END FORCE_EVAL\n",
    "'''\n",
    "        \n",
    "    elif functional == \"PBED3+FermiDirac\":\n",
    "        xc = \"PBE\"\n",
    "        inp = '''\n",
    "&GLOBAL\n",
    "  WALLTIME 47:58:00\n",
    "&END GLOBAL\n",
    "&FORCE_EVAL\n",
    "  &DFT\n",
    "    &KPOINTS\n",
    "        SCHEME MONKHORST-PACK 6 6 6\n",
    "    &END KPOINTS\n",
    "    &SCF\n",
    "      ADDED_MOS 10\n",
    "      &SMEAR ON\n",
    "          METHOD FERMI_DIRAC\n",
    "          ELECTRONIC_TEMPERATURE [K] 300\n",
    "      &END SMEAR\n",
    "      &MIXING .TRUE.\n",
    "          METHOD BROYDEN_MIXING\n",
    "      &END MIXING\n",
    "      &OUTER_SCF .TRUE.\n",
    "        MAX_SCF 50\n",
    "      &END OUTER_SCF\n",
    "    &END SCF\n",
    "    &XC\n",
    "      &VDW_POTENTIAL\n",
    "        POTENTIAL_TYPE PAIR_POTENTIAL\n",
    "        &PAIR_POTENTIAL\n",
    "          R_CUTOFF 15.0\n",
    "          TYPE DFTD3\n",
    "          CALCULATE_C9_TERM .FALSE.\n",
    "          REFERENCE_FUNCTIONAL PBE\n",
    "          PARAMETER_FILE_NAME dftd3.dat\n",
    "        &END PAIR_POTENTIAL\n",
    "      &END VDW_POTENTIAL\n",
    "      &XC_GRID\n",
    "        XC_DERIV NN10_SMOOTH\n",
    "        XC_SMOOTH_RHO NN10\n",
    "      &END\n",
    "    &END XC\n",
    "    &PRINT\n",
    "      &E_DENSITY_BQB OFF\n",
    "      &END E_DENSITY_BQB\n",
    "      &VORONOI OFF\n",
    "          OUTPUT_EMP .TRUE.\n",
    "      &END VORONOI\n",
    "    &END PRINT\n",
    "  &END DFT\n",
    "&END FORCE_EVAL\n",
    "'''\n",
    "    else:\n",
    "        xc = \"LDA\"\n",
    "        inp = ''''''\n",
    "        \n",
    "    calc = CP2K(\n",
    "        auto_write=False,\n",
    "        basis_set=\"DZVP-MOLOPT-SR-GTH\",\n",
    "        basis_set_file=\"BASIS_MOLOPT\",\n",
    "        charge=0,\n",
    "        cutoff = ecut*Rydberg,\n",
    "        debug = False,\n",
    "        force_eval_method = \"Quickstep\",\n",
    "        xc = xc,\n",
    "        inp = inp,\n",
    "        max_scf = 50,\n",
    "        poisson_solver =\"auto\",\n",
    "        potential_file = \"POTENTIAL\",\n",
    "        pseudo_potential = \"GTH-PBE\",\n",
    "        stress_tensor = True,\n",
    "        print_level = \"LOW\",\n",
    "        label = tag,\n",
    "    )\n",
    "    return calc"
   ]
  },
  {
   "cell_type": "markdown",
   "id": "7dde5769",
   "metadata": {},
   "source": [
    "## Molecule Optimization"
   ]
  },
  {
   "cell_type": "code",
   "execution_count": 7,
   "id": "aa27216c",
   "metadata": {},
   "outputs": [],
   "source": [
    "def MyFIREOptimization(atoms, dirname):\n",
    "\n",
    "    if not os.path.isdir(dirname):\n",
    "        os.mkdir(dirname)\n",
    "    else:\n",
    "        pass\n",
    "    os.chdir(dirname)\n",
    "    \n",
    "    atoms.calc = myCP2KCalculator(dirname, \"PBE+D3\", 400.0)\n",
    "    \n",
    "    minimizer = FIRE(atoms, trajectory=\"fire.traj\", logfile=\"fire.log\")\n",
    "    minimizer.run(fmax=0.03)\n",
    "    potentialenergy = atoms.get_potential_energy()\n",
    "    \n",
    "    os.chdir(cwd)\n",
    "\n",
    "    "
   ]
  },
  {
   "cell_type": "markdown",
   "id": "847ebe4a",
   "metadata": {},
   "source": [
    "## Furfural and Derivatives"
   ]
  },
  {
   "cell_type": "code",
   "execution_count": 8,
   "id": "c50ba821",
   "metadata": {},
   "outputs": [
    {
     "data": {
      "application/vnd.jupyter.widget-view+json": {
       "model_id": "a87ef511a04b4a71b3fd0353139381ad",
       "version_major": 2,
       "version_minor": 0
      },
      "text/plain": []
     },
     "metadata": {},
     "output_type": "display_data"
    },
    {
     "data": {
      "application/vnd.jupyter.widget-view+json": {
       "model_id": "b9a08deda27343178db6e19de56fec15",
       "version_major": 2,
       "version_minor": 0
      },
      "text/plain": [
       "HBox(children=(NGLWidget(), VBox(children=(Dropdown(description='Show', options=('All', 'H', 'O', 'C'), value=…"
      ]
     },
     "metadata": {},
     "output_type": "display_data"
    }
   ],
   "source": [
    "fal = read(\"Resources/xyz/furfural/FAL.xyz\")\n",
    "fal.center(vacuum=6.0)\n",
    "fal.set_pbc(True)\n",
    "view(fal, viewer = \"ngl\")"
   ]
  },
  {
   "cell_type": "code",
   "execution_count": 9,
   "id": "1e9815af",
   "metadata": {
    "scrolled": true
   },
   "outputs": [],
   "source": [
    "MyFIREOptimization(fal, \"simulations-molecule-fal-minimization\")"
   ]
  },
  {
   "cell_type": "code",
   "execution_count": 10,
   "id": "7604daec",
   "metadata": {},
   "outputs": [
    {
     "data": {
      "application/vnd.jupyter.widget-view+json": {
       "model_id": "25617b3042d24ecfae7677138499d2ad",
       "version_major": 2,
       "version_minor": 0
      },
      "text/plain": [
       "HBox(children=(NGLWidget(), VBox(children=(Dropdown(description='Show', options=('All', 'H', 'O', 'C'), value=…"
      ]
     },
     "metadata": {},
     "output_type": "display_data"
    }
   ],
   "source": [
    "view(fal, viewer = \"ngl\")"
   ]
  },
  {
   "cell_type": "code",
   "execution_count": 13,
   "id": "8085014c",
   "metadata": {},
   "outputs": [],
   "source": [
    "write(\"Resources/xyz/furfural/FAL.xyz\",fal)"
   ]
  },
  {
   "cell_type": "code",
   "execution_count": 15,
   "id": "b642ef6d",
   "metadata": {},
   "outputs": [
    {
     "data": {
      "application/vnd.jupyter.widget-view+json": {
       "model_id": "3dc36f2a176944ad9d5698747d89b08d",
       "version_major": 2,
       "version_minor": 0
      },
      "text/plain": [
       "HBox(children=(NGLWidget(), VBox(children=(Dropdown(description='Show', options=('All', 'H', 'O', 'C'), value=…"
      ]
     },
     "metadata": {},
     "output_type": "display_data"
    }
   ],
   "source": [
    "fol = read(\"Resources/xyz/furfural/FOL.xyz\")\n",
    "fol.center(vacuum=6.0)\n",
    "fol.set_pbc(True)\n",
    "view(fol, viewer = \"ngl\")"
   ]
  },
  {
   "cell_type": "code",
   "execution_count": 16,
   "id": "5d134b7a",
   "metadata": {},
   "outputs": [],
   "source": [
    "MyFIREOptimization(fol, \"simulations-molecule-fol-minimization\")"
   ]
  },
  {
   "cell_type": "code",
   "execution_count": 17,
   "id": "bbe4ab80",
   "metadata": {},
   "outputs": [
    {
     "data": {
      "application/vnd.jupyter.widget-view+json": {
       "model_id": "004e25410ada430ea16b07c95d850689",
       "version_major": 2,
       "version_minor": 0
      },
      "text/plain": [
       "HBox(children=(NGLWidget(), VBox(children=(Dropdown(description='Show', options=('All', 'H', 'O', 'C'), value=…"
      ]
     },
     "metadata": {},
     "output_type": "display_data"
    }
   ],
   "source": [
    "view(fol, viewer = \"ngl\")"
   ]
  },
  {
   "cell_type": "code",
   "execution_count": 18,
   "id": "a4ea2d46",
   "metadata": {},
   "outputs": [],
   "source": [
    "write(\"Resources/xyz/furfural/FOL.xyz\",fol)"
   ]
  },
  {
   "cell_type": "code",
   "execution_count": 19,
   "id": "c69496ff",
   "metadata": {},
   "outputs": [
    {
     "data": {
      "application/vnd.jupyter.widget-view+json": {
       "model_id": "4b26517ac5334076847bd7e3f9473072",
       "version_major": 2,
       "version_minor": 0
      },
      "text/plain": [
       "HBox(children=(NGLWidget(), VBox(children=(Dropdown(description='Show', options=('All', 'H', 'O', 'C'), value=…"
      ]
     },
     "metadata": {},
     "output_type": "display_data"
    }
   ],
   "source": [
    "mf = read(\"Resources/xyz/furfural/MF.xyz\")\n",
    "mf.center(vacuum=6.0)\n",
    "mf.set_pbc(True)\n",
    "view(mf, viewer = \"ngl\")"
   ]
  },
  {
   "cell_type": "code",
   "execution_count": 20,
   "id": "0a0bbc77",
   "metadata": {},
   "outputs": [],
   "source": [
    "MyFIREOptimization(mf, \"simulations-molecule-mf-minimization\")"
   ]
  },
  {
   "cell_type": "code",
   "execution_count": 21,
   "id": "bb71339d",
   "metadata": {},
   "outputs": [
    {
     "data": {
      "application/vnd.jupyter.widget-view+json": {
       "model_id": "514b6e5221ed482b82cbb14f892eaf1f",
       "version_major": 2,
       "version_minor": 0
      },
      "text/plain": [
       "HBox(children=(NGLWidget(), VBox(children=(Dropdown(description='Show', options=('All', 'H', 'O', 'C'), value=…"
      ]
     },
     "metadata": {},
     "output_type": "display_data"
    }
   ],
   "source": [
    "view(mf, viewer = \"ngl\")"
   ]
  },
  {
   "cell_type": "code",
   "execution_count": 22,
   "id": "4f2b9468",
   "metadata": {},
   "outputs": [],
   "source": [
    "write(\"Resources/xyz/furfural/MF.xyz\",mf)"
   ]
  },
  {
   "cell_type": "code",
   "execution_count": 23,
   "id": "3731db13",
   "metadata": {},
   "outputs": [
    {
     "data": {
      "application/vnd.jupyter.widget-view+json": {
       "model_id": "70bde51194304fc3abb092d0cfa255f3",
       "version_major": 2,
       "version_minor": 0
      },
      "text/plain": [
       "HBox(children=(NGLWidget(), VBox(children=(Dropdown(description='Show', options=('All', 'H', 'O', 'C'), value=…"
      ]
     },
     "metadata": {},
     "output_type": "display_data"
    }
   ],
   "source": [
    "thfol = read(\"Resources/xyz/furfural/THFOL.xyz\")\n",
    "thfol.center(vacuum=6.0)\n",
    "thfol.set_pbc(True)\n",
    "view(thfol, viewer = \"ngl\")"
   ]
  },
  {
   "cell_type": "code",
   "execution_count": 24,
   "id": "0f319743",
   "metadata": {},
   "outputs": [],
   "source": [
    "MyFIREOptimization(thfol, \"simulations-molecule-thfol-minimization\")"
   ]
  },
  {
   "cell_type": "code",
   "execution_count": 25,
   "id": "d124dc5e",
   "metadata": {},
   "outputs": [
    {
     "data": {
      "application/vnd.jupyter.widget-view+json": {
       "model_id": "31017c8da35e4419bf2300a76bd4bde4",
       "version_major": 2,
       "version_minor": 0
      },
      "text/plain": [
       "HBox(children=(NGLWidget(), VBox(children=(Dropdown(description='Show', options=('All', 'H', 'O', 'C'), value=…"
      ]
     },
     "metadata": {},
     "output_type": "display_data"
    }
   ],
   "source": [
    "view(thfol, viewer = \"ngl\")"
   ]
  },
  {
   "cell_type": "code",
   "execution_count": 26,
   "id": "77394fc5",
   "metadata": {},
   "outputs": [],
   "source": [
    "write(\"Resources/xyz/furfural/THFOL.xyz\",thfol)"
   ]
  },
  {
   "cell_type": "markdown",
   "id": "319d7d10",
   "metadata": {},
   "source": [
    "## GG Lignin Linkages"
   ]
  },
  {
   "cell_type": "code",
   "execution_count": 27,
   "id": "31d5908a",
   "metadata": {},
   "outputs": [
    {
     "data": {
      "application/vnd.jupyter.widget-view+json": {
       "model_id": "1fccb08066244018a9ee19bf3dd316c9",
       "version_major": 2,
       "version_minor": 0
      },
      "text/plain": [
       "HBox(children=(NGLWidget(), VBox(children=(Dropdown(description='Show', options=('All', 'H', 'O', 'C'), value=…"
      ]
     },
     "metadata": {},
     "output_type": "display_data"
    }
   ],
   "source": [
    "bo4 = read(\"Resources/xyz/lignin/GG/BO4.xyz\")\n",
    "bo4.center(vacuum=6.0)\n",
    "bo4.set_pbc(True)\n",
    "view(bo4, viewer = \"ngl\")"
   ]
  },
  {
   "cell_type": "code",
   "execution_count": 30,
   "id": "d75f6c9c",
   "metadata": {},
   "outputs": [],
   "source": [
    "MyFIREOptimization(bo4, \"simulations-molecule-bo4-minimization\")"
   ]
  },
  {
   "cell_type": "code",
   "execution_count": 31,
   "id": "831c6800",
   "metadata": {},
   "outputs": [
    {
     "data": {
      "application/vnd.jupyter.widget-view+json": {
       "model_id": "31c41ee3e46640328958f6f45a54221f",
       "version_major": 2,
       "version_minor": 0
      },
      "text/plain": [
       "HBox(children=(NGLWidget(), VBox(children=(Dropdown(description='Show', options=('All', 'H', 'O', 'C'), value=…"
      ]
     },
     "metadata": {},
     "output_type": "display_data"
    }
   ],
   "source": [
    "view(bo4, viewer = \"ngl\")"
   ]
  },
  {
   "cell_type": "code",
   "execution_count": 32,
   "id": "ef90224a",
   "metadata": {},
   "outputs": [],
   "source": [
    "bo4 = write(\"Resources/xyz/lignin/GG/BO4.xyz\",bo4)"
   ]
  },
  {
   "cell_type": "code",
   "execution_count": null,
   "id": "da2b356b",
   "metadata": {},
   "outputs": [],
   "source": []
  }
 ],
 "metadata": {
  "kernelspec": {
   "display_name": "Python 3 (ipykernel)",
   "language": "python",
   "name": "python3"
  },
  "language_info": {
   "codemirror_mode": {
    "name": "ipython",
    "version": 3
   },
   "file_extension": ".py",
   "mimetype": "text/x-python",
   "name": "python",
   "nbconvert_exporter": "python",
   "pygments_lexer": "ipython3",
   "version": "3.9.12"
  }
 },
 "nbformat": 4,
 "nbformat_minor": 5
}
