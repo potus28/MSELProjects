{
 "cells": [
  {
   "cell_type": "markdown",
   "id": "00a2c82c",
   "metadata": {},
   "source": [
    "# ASE & CP2K"
   ]
  },
  {
   "cell_type": "markdown",
   "id": "1c079c1a",
   "metadata": {},
   "source": [
    "Set some environment variables for the notebook. For doing this on a HPC resource, these would be set as export commands in the slurm script. Also, the ASE_CP2K_COMMAND would change to \"srun cp2k_shell.psmp\""
   ]
  },
  {
   "cell_type": "code",
   "execution_count": 2,
   "id": "4654f11c",
   "metadata": {},
   "outputs": [
    {
     "name": "stdout",
     "output_type": "stream",
     "text": [
      "env: SHELL=/bin/bash\n",
      "env: OMP_NUM_THREADS=8\n",
      "env: ASE_CP2K_COMMAND=/home/woodrowwilson/Programs/cp2k/9.1/exe/PopOS-x86-64-gfortran/cp2k_shell.ssmp\n"
     ]
    }
   ],
   "source": [
    "%set_env SHELL=/bin/bash\n",
    "%set_env OMP_NUM_THREADS=8\n",
    "%set_env ASE_CP2K_COMMAND=/home/woodrowwilson/Programs/cp2k/9.1/exe/PopOS-x86-64-gfortran/cp2k_shell.ssmp"
   ]
  },
  {
   "cell_type": "markdown",
   "id": "241bdbf9",
   "metadata": {},
   "source": [
    "I had to change two things with my installed copy of ASE. I had to manually add the plumed.py file from the GitLab repository, and I also had to change the cp2k.py file."
   ]
  },
  {
   "cell_type": "markdown",
   "id": "43946af6",
   "metadata": {},
   "source": [
    "1. Go to ${HOME}/Programs/miniconda3/lib/python3.9/site-packages/ase/calculators\n",
    "2. Copy the plumed.py file from the [GitLab Repository](https://gitlab.com/ase/ase/-/blob/master/ase/calculators/plumed.py) to this directory\n",
    "3. Open the cp2k.py file\n",
    "4. Edit the expect function so that it reads as follows\n",
    "\n",
    "def expect(self, line):\n",
    "\n",
    "         \"\"\"Receive a line and asserts that it matches the expected one\"\"\"\n",
    "       \n",
    "         received = self.recv()\n",
    "         if \"VORONOI|\" in received:\n",
    "             while received != line:\n",
    "                 received = self.recv()\n",
    "         else:\n",
    "             assert received == line"
   ]
  },
  {
   "cell_type": "markdown",
   "id": "703fd075",
   "metadata": {},
   "source": [
    "## Modules"
   ]
  },
  {
   "cell_type": "code",
   "execution_count": 3,
   "id": "e1467479",
   "metadata": {
    "scrolled": true
   },
   "outputs": [
    {
     "name": "stderr",
     "output_type": "stream",
     "text": [
      "<frozen importlib._bootstrap>:228: RuntimeWarning: scipy._lib.messagestream.MessageStream size changed, may indicate binary incompatibility. Expected 56 from C header, got 64 from PyObject\n"
     ]
    }
   ],
   "source": [
    "# General\n",
    "import os\n",
    "import sys\n",
    "import numpy as np\n",
    "import pandas as pd\n",
    "import matplotlib as mpl\n",
    "import matplotlib.pyplot as plt\n",
    "\n",
    "# For building things\n",
    "from ase import Atom, Atoms\n",
    "from ase.io import read, write\n",
    "from ase.io.trajectory import Trajectory\n",
    "from ase.build import molecule\n",
    "from ase.visualize import view\n",
    "\n",
    "# Unit Conversions and Fixing Atoms\n",
    "from ase.units import Bohr,Rydberg,kJ,kB,fs,Hartree,mol,kcal\n",
    "from ase.constraints import FixedPlane, FixedLine, FixAtoms\n",
    "\n",
    "# ASE Calculators\n",
    "from plumed import Plumed\n",
    "from ase.calculators.cp2k import CP2K\n",
    "from ase.calculators.lj import LennardJones\n",
    "from ase.calculators.plumed import Plumed\n",
    "from ase.calculators.idealgas import IdealGas\n",
    "\n",
    "# Geometry Optimizations and Normal Mode Analysis\n",
    "from ase.optimize import LBFGS, FIRE\n",
    "from ase.vibrations import Vibrations\n",
    "from ase.thermochemistry import IdealGasThermo\n",
    "\n",
    "# EOS fitting for Unit Cells\n",
    "from ase.eos import EquationOfState\n",
    "\n",
    "# Molecular Dynamics\n",
    "from ase.md.velocitydistribution import MaxwellBoltzmannDistribution\n",
    "from ase.md.verlet import VelocityVerlet\n",
    "from ase.md.langevin import Langevin\n",
    "from ase.md.npt import NPT"
   ]
  },
  {
   "cell_type": "markdown",
   "id": "cd0cf906",
   "metadata": {},
   "source": [
    "Sets the current working directory"
   ]
  },
  {
   "cell_type": "code",
   "execution_count": 4,
   "id": "fae0e256",
   "metadata": {},
   "outputs": [
    {
     "data": {
      "text/plain": [
       "'/home/woodrowwilson/Documents/Projects/sandbox'"
      ]
     },
     "execution_count": 4,
     "metadata": {},
     "output_type": "execute_result"
    }
   ],
   "source": [
    "cwd = os.getcwd()\n",
    "cwd"
   ]
  },
  {
   "cell_type": "markdown",
   "id": "a7d93144",
   "metadata": {},
   "source": [
    "The beauty of using CP2K within ASE is that you can directly go from building a system, to running a calculation. The calculator object simply calculates the energy as a function of the coordinates, while ASE handles updating the positions of the particles. For these first few examples, we will just be performing DFT calculations on a single water molecule."
   ]
  },
  {
   "cell_type": "code",
   "execution_count": 5,
   "id": "6867adc2",
   "metadata": {},
   "outputs": [
    {
     "data": {
      "application/vnd.jupyter.widget-view+json": {
       "model_id": "1f9001d367ce46e4af54b9c589c44603",
       "version_major": 2,
       "version_minor": 0
      },
      "text/plain": []
     },
     "metadata": {},
     "output_type": "display_data"
    },
    {
     "data": {
      "application/vnd.jupyter.widget-view+json": {
       "model_id": "78349f6f28ce41ef8a72298c5186d332",
       "version_major": 2,
       "version_minor": 0
      },
      "text/plain": [
       "HBox(children=(NGLWidget(), VBox(children=(Dropdown(description='Show', options=('All', 'O', 'H'), value='All'…"
      ]
     },
     "metadata": {},
     "output_type": "display_data"
    }
   ],
   "source": [
    "atoms = molecule(\"H2O\")\n",
    "\n",
    "#atoms.set_cell([8, 8, 8, 90, 90, 90])\n",
    "#atoms.center()\n",
    "\n",
    "atoms.center(vacuum=2.0)\n",
    "\n",
    "atoms.set_pbc(True)\n",
    "\n",
    "view(atoms, viewer=\"ngl\")"
   ]
  },
  {
   "cell_type": "markdown",
   "id": "c2d2313e",
   "metadata": {},
   "source": [
    "This isn a custom function that I wrote for creating the CP2K calculator object. It augments the default CP2K input file that ASE would normally generate with these keywords."
   ]
  },
  {
   "cell_type": "code",
   "execution_count": 6,
   "id": "2e0cbb56",
   "metadata": {},
   "outputs": [],
   "source": [
    "def myCP2KCalculator(tag, functional, ecut):\n",
    "    \"\"\"Creates a CP2K calculator object with Settings for Production Runs\n",
    "    tag -> label for cp2k output\n",
    "    functional -> Either PBE+D3, BEEFVDW, rVV10, or LDA+FermiDirac\n",
    "    ecut -> PW Kinetic Energy Cutoff (Rydberg)\n",
    "    \"\"\"\n",
    "    \n",
    "    if functional == \"PBE+D3\":\n",
    "        xc = \"PBE\"\n",
    "        inp = '''\n",
    "&GLOBAL\n",
    "  WALLTIME 47:58:00\n",
    "&END GLOBAL\n",
    "&FORCE_EVAL\n",
    "  &DFT\n",
    "    SURFACE_DIPOLE_CORRECTION .FALSE.\n",
    "    SURF_DIP_DIR Z\n",
    "    &SCF\n",
    "      &OT .TRUE.\n",
    "        MINIMIZER DIIS\n",
    "        PRECONDITIONER FULL_SINGLE_INVERSE\n",
    "      &END OT\n",
    "      &OUTER_SCF .TRUE.\n",
    "        MAX_SCF 50\n",
    "      &END OUTER_SCF\n",
    "    &END SCF\n",
    "    &XC\n",
    "      &VDW_POTENTIAL\n",
    "        POTENTIAL_TYPE PAIR_POTENTIAL\n",
    "        &PAIR_POTENTIAL\n",
    "          R_CUTOFF 15.0\n",
    "          TYPE DFTD3\n",
    "          CALCULATE_C9_TERM .FALSE.\n",
    "          REFERENCE_FUNCTIONAL PBE\n",
    "          PARAMETER_FILE_NAME dftd3.dat\n",
    "        &END PAIR_POTENTIAL\n",
    "      &END VDW_POTENTIAL\n",
    "      &XC_GRID\n",
    "        XC_DERIV NN10_SMOOTH\n",
    "        XC_SMOOTH_RHO NN10\n",
    "      &END\n",
    "    &END XC\n",
    "    &PRINT\n",
    "      &E_DENSITY_BQB OFF\n",
    "      &END E_DENSITY_BQB\n",
    "      &VORONOI OFF\n",
    "          OUTPUT_TEXT .TRUE.\n",
    "      &END VORONOI\n",
    "    &END PRINT\n",
    "  &END DFT\n",
    "&END FORCE_EVAL\n",
    "'''\n",
    "    elif functional == \"BEEFVDW\":\n",
    "        xc = \"GGA_XC_BEEFVDW\"\n",
    "        inp = '''\n",
    "&GLOBAL\n",
    "  WALLTIME 47:58:00\n",
    "&END GLOBAL\n",
    "&FORCE_EVAL\n",
    "  &DFT\n",
    "    SURFACE_DIPOLE_CORRECTION .FALSE.\n",
    "    SURF_DIP_DIR Z\n",
    "    &SCF\n",
    "      &OT .TRUE.\n",
    "        MINIMIZER DIIS\n",
    "        PRECONDITIONER FULL_SINGLE_INVERSE\n",
    "      &END OT\n",
    "      &OUTER_SCF .TRUE.\n",
    "        MAX_SCF 50\n",
    "      &END OUTER_SCF\n",
    "    &END SCF\n",
    "    &XC\n",
    "      &XC_GRID\n",
    "        XC_DERIV NN10_SMOOTH\n",
    "        XC_SMOOTH_RHO NN10\n",
    "      &END\n",
    "      &VDW_POTENTIAL\n",
    "          &NON_LOCAL\n",
    "              TYPE LMKLL\n",
    "              KERNEL_FILE_NAME vdW_kernel_table.dat\n",
    "          &END NON_LOCAL\n",
    "      &END VDW_POTENTIAL\n",
    "    &END XC\n",
    "    &PRINT\n",
    "      &E_DENSITY_BQB OFF\n",
    "      &END E_DENSITY_BQB\n",
    "      &VORONOI ON\n",
    "          OUTPUT_TEXT .TRUE.\n",
    "      &END VORONOI\n",
    "    &END PRINT\n",
    "  &END DFT\n",
    "&END FORCE_EVAL\n",
    "'''\n",
    "    elif functional == \"rVV10\":\n",
    "        xc = None\n",
    "        inp = '''\n",
    "&GLOBAL\n",
    "  WALLTIME 47:58:00\n",
    "&END GLOBAL\n",
    "&FORCE_EVAL\n",
    "  &DFT\n",
    "    SURFACE_DIPOLE_CORRECTION .FALSE.\n",
    "    SURF_DIP_DIR Z\n",
    "    &SCF\n",
    "      &OT .TRUE.\n",
    "        MINIMIZER DIIS\n",
    "        PRECONDITIONER FULL_SINGLE_INVERSE\n",
    "      &END OT\n",
    "      &OUTER_SCF .TRUE.\n",
    "        MAX_SCF 50\n",
    "      &END OUTER_SCF\n",
    "    &END SCF\n",
    "    &XC\n",
    "       &XC_FUNCTIONAL\n",
    "         &GGA_X_RPW86\n",
    "         &END GGA_X_RPW86\n",
    "         &GGA_C_PBE\n",
    "         &END GGA_C_PBE\n",
    "       &END XC_FUNCTIONAL\n",
    "       &vdW_POTENTIAL\n",
    "          DISPERSION_FUNCTIONAL NON_LOCAL\n",
    "          &NON_LOCAL\n",
    "            TYPE RVV10\n",
    "            PARAMETERS 6.3 0.0093\n",
    "            VERBOSE_OUTPUT\n",
    "            KERNEL_FILE_NAME rVV10_kernel_table.dat\n",
    "            CUTOFF 40\n",
    "          &END NON_LOCAL\n",
    "       &END vdW_POTENTIAL\n",
    "      &XC_GRID\n",
    "        XC_DERIV NN10_SMOOTH\n",
    "        XC_SMOOTH_RHO NN10\n",
    "      &END\n",
    "    &END XC\n",
    "    &PRINT\n",
    "      &E_DENSITY_BQB OFF\n",
    "      &END E_DENSITY_BQB\n",
    "      &VORONOI ON\n",
    "          OUTPUT_TEXT .TRUE.\n",
    "      &END VORONOI\n",
    "    &END PRINT\n",
    "  &END DFT\n",
    "&END FORCE_EVAL\n",
    "'''\n",
    "    elif functional == \"LDA+FermiDirac\":\n",
    "        xc = \"LDA\"\n",
    "        inp = '''\n",
    "&GLOBAL\n",
    "  WALLTIME 47:58:00\n",
    "&END GLOBAL\n",
    "&FORCE_EVAL\n",
    "  &DFT\n",
    "    SURFACE_DIPOLE_CORRECTION .FALSE.\n",
    "    SURF_DIP_DIR Z\n",
    "    &KPOINTS\n",
    "        SCHEME MONKHORST-PACK 6 6 6\n",
    "    &END KPOINTS\n",
    "    &SCF\n",
    "      ADDED_MOS 10\n",
    "      &SMEAR ON\n",
    "          METHOD FERMI_DIRAC\n",
    "          ELECTRONIC_TEMPERATURE [K] 300\n",
    "      &END SMEAR\n",
    "      &MIXING .TRUE.\n",
    "          METHOD BROYDEN_MIXING\n",
    "      &END MIXING\n",
    "      &OUTER_SCF .TRUE.\n",
    "        MAX_SCF 50\n",
    "      &END OUTER_SCF\n",
    "    &END SCF\n",
    "    &XC\n",
    "      &XC_GRID\n",
    "        XC_DERIV NN10_SMOOTH\n",
    "        XC_SMOOTH_RHO NN10\n",
    "      &END\n",
    "    &END XC\n",
    "    &PRINT\n",
    "      &E_DENSITY_BQB OFF\n",
    "      &END E_DENSITY_BQB\n",
    "      &VORONOI OFF\n",
    "          OUTPUT_EMP .TRUE.\n",
    "      &END VORONOI\n",
    "    &END PRINT\n",
    "  &END DFT\n",
    "&END FORCE_EVAL\n",
    "'''\n",
    "    else:\n",
    "        xc = \"LDA\"\n",
    "        inp = ''''''\n",
    "        \n",
    "    calc = CP2K(\n",
    "        auto_write=False,\n",
    "        basis_set=\"DZVP-MOLOPT-SR-GTH\",\n",
    "        basis_set_file=\"BASIS_MOLOPT\",\n",
    "        charge=0,\n",
    "        cutoff = ecut*Rydberg,\n",
    "        debug = False,\n",
    "        force_eval_method = \"Quickstep\",\n",
    "        xc = xc,\n",
    "        inp = inp,\n",
    "        max_scf = 50,\n",
    "        poisson_solver =\"auto\",\n",
    "        potential_file = \"POTENTIAL\",\n",
    "        pseudo_potential = \"GTH-PBE\",\n",
    "        stress_tensor = True,\n",
    "        print_level = \"LOW\",\n",
    "        label = tag,\n",
    "    )\n",
    "    return calc"
   ]
  },
  {
   "cell_type": "markdown",
   "id": "f640fab8",
   "metadata": {},
   "source": [
    "## Minimization\n",
    "\n",
    "Now that we have our system and how we are going to calculate energies defined, we can jump into the calculations. These cells are structured so that a directory will be made and then the calculation will run. The Fast Inertial Relaxation Engine or (FIRE)[https://link.aps.org/doi/10.1103/PhysRevLett.97.170201] minimizes the structure with molecular dynamics. Other Quasi-Newton algorithms are also available instead with a similar interface."
   ]
  },
  {
   "cell_type": "code",
   "execution_count": 7,
   "id": "d5a5a340",
   "metadata": {},
   "outputs": [],
   "source": [
    "dirname = \"minimization\"\n",
    "if not os.path.isdir(dirname):\n",
    "    os.mkdir(dirname)\n",
    "else:\n",
    "    pass\n",
    "os.chdir(dirname)\n",
    "\n",
    "atoms.calc = myCP2KCalculator(dirname, \"PBE+D3\", 450.0)\n",
    "\n",
    "minimizer = FIRE(atoms, trajectory=\"fire.traj\", logfile=\"fire.log\")\n",
    "minimizer.run(fmax=0.03)\n",
    "potentialenergy = atoms.get_potential_energy()\n",
    "\n",
    "os.chdir(cwd)\n"
   ]
  },
  {
   "cell_type": "markdown",
   "id": "4023322f",
   "metadata": {},
   "source": [
    "## Normal Mode Analysis"
   ]
  },
  {
   "cell_type": "code",
   "execution_count": 8,
   "id": "c4fb98ae",
   "metadata": {},
   "outputs": [],
   "source": [
    "dirname = \"vibrations\"\n",
    "if not os.path.isdir(dirname):\n",
    "    os.mkdir(dirname)\n",
    "else:\n",
    "    pass\n",
    "os.chdir(dirname)\n",
    "\n",
    "atoms.calc = myCP2KCalculator(dirname, \"PBE+D3\", 450.0)\n",
    "\n",
    "vib = Vibrations(atoms)\n",
    "vib.run()\n",
    "vib_energies = vib.get_energies()\n",
    "\n",
    "os.chdir(cwd)"
   ]
  },
  {
   "cell_type": "code",
   "execution_count": 9,
   "id": "9efb1a72",
   "metadata": {
    "scrolled": false
   },
   "outputs": [
    {
     "name": "stdout",
     "output_type": "stream",
     "text": [
      "Enthalpy components at T = 298.15 K:\n",
      "===============================\n",
      "E_pot               -467.721 eV\n",
      "E_ZPE                  0.568 eV\n",
      "Cv_trans (0->T)        0.039 eV\n",
      "Cv_rot (0->T)          0.039 eV\n",
      "Cv_vib (0->T)          0.000 eV\n",
      "(C_v -> C_p)           0.026 eV\n",
      "-------------------------------\n",
      "H                   -467.050 eV\n",
      "===============================\n",
      "\n",
      "Entropy components at T = 298.15 K and P = 101325.0 Pa:\n",
      "=================================================\n",
      "                           S               T*S\n",
      "S_trans (1 bar)    0.0015019 eV/K        0.448 eV\n",
      "S_rot              0.0004572 eV/K        0.136 eV\n",
      "S_elec             0.0000000 eV/K        0.000 eV\n",
      "S_vib              0.0000003 eV/K        0.000 eV\n",
      "S (1 bar -> P)    -0.0000011 eV/K       -0.000 eV\n",
      "-------------------------------------------------\n",
      "S                  0.0019583 eV/K        0.584 eV\n",
      "=================================================\n",
      "\n",
      "Free energy components at T = 298.15 K and P = 101325.0 Pa:\n",
      "=======================\n",
      "    H       -467.050 eV\n",
      " -T*S         -0.584 eV\n",
      "-----------------------\n",
      "    G       -467.634 eV\n",
      "=======================\n"
     ]
    }
   ],
   "source": [
    "thermo = IdealGasThermo(vib_energies=vib_energies,\n",
    "                        potentialenergy=potentialenergy,\n",
    "                        atoms=atoms,\n",
    "                        geometry='nonlinear',\n",
    "                        symmetrynumber=2, spin=0)\n",
    "G = thermo.get_gibbs_energy(temperature=298.15, pressure=101325.)"
   ]
  },
  {
   "cell_type": "markdown",
   "id": "7657066e",
   "metadata": {},
   "source": [
    "## NVT Molecular Dynamics\n",
    "\n",
    "ASE comes with several integrators for Newton's equations of motions. The most robust one for the canonical ensemble is the Langevin thermostat. "
   ]
  },
  {
   "cell_type": "code",
   "execution_count": 10,
   "id": "cb85edce",
   "metadata": {},
   "outputs": [],
   "source": [
    "dirname = \"nvt\"\n",
    "if not os.path.isdir(dirname):\n",
    "    os.mkdir(dirname)\n",
    "else:\n",
    "    pass\n",
    "os.chdir(dirname)\n",
    "\n",
    "MaxwellBoltzmannDistribution(atoms, temperature_K=300)\n",
    "\n",
    "atoms.calc = myCP2KCalculator(dirname, \"PBE+D3\", 450.0)\n",
    "\n",
    "md = Langevin(atoms, 0.5*fs, temperature_K = 300.0, friction=0.01, \n",
    "              trajectory=\"langevin.traj\", logfile='langevin.log')\n",
    "\n",
    "md.run(200)\n",
    "\n",
    "os.chdir(cwd)"
   ]
  },
  {
   "cell_type": "markdown",
   "id": "7dde5769",
   "metadata": {},
   "source": [
    "## Unit Cell Equation of State Fitting\n",
    "\n",
    "For finding optimal lattice vectors, ASE can calculate the equation of state for a unit cell."
   ]
  },
  {
   "cell_type": "code",
   "execution_count": 11,
   "id": "c50ba821",
   "metadata": {},
   "outputs": [
    {
     "data": {
      "application/vnd.jupyter.widget-view+json": {
       "model_id": "81d31c3a4f8c48afa1c23cd146be3034",
       "version_major": 2,
       "version_minor": 0
      },
      "text/plain": [
       "HBox(children=(NGLWidget(), VBox(children=(Dropdown(description='Show', options=('All', 'Mo', 'C'), value='All…"
      ]
     },
     "metadata": {},
     "output_type": "display_data"
    }
   ],
   "source": [
    "atoms = read(\"Resources/cif/beta-Mo2C_mp-1221498_conventional_standard.cif\")\n",
    "view(atoms, viewer = \"ngl\")"
   ]
  },
  {
   "cell_type": "code",
   "execution_count": 12,
   "id": "1e9815af",
   "metadata": {
    "scrolled": true
   },
   "outputs": [
    {
     "name": "stdout",
     "output_type": "stream",
     "text": [
      "[[ 2.91944646  0.          0.        ]\n",
      " [-1.45972323  2.5283148   0.        ]\n",
      " [ 0.          0.          4.41991057]]\n",
      "[[ 2.996274   0.         0.       ]\n",
      " [-1.498137   2.5948494  0.       ]\n",
      " [ 0.         0.         4.536224 ]]\n",
      "[[ 3.07310154  0.          0.        ]\n",
      " [-1.53655077  2.661384    0.        ]\n",
      " [ 0.          0.          4.65253744]]\n",
      "[[ 3.14992908  0.          0.        ]\n",
      " [-1.57496454  2.7279186   0.        ]\n",
      " [ 0.          0.          4.76885088]]\n",
      "[[ 3.22675662  0.          0.        ]\n",
      " [-1.61337831  2.7944532   0.        ]\n",
      " [ 0.          0.          4.88516431]]\n"
     ]
    }
   ],
   "source": [
    "dirname = \"uc-eos\"\n",
    "if not os.path.isdir(dirname):\n",
    "    os.mkdir(dirname)\n",
    "else:\n",
    "    pass\n",
    "os.chdir(dirname)\n",
    "\n",
    "atoms.calc = myCP2KCalculator(dirname, \"LDA+FermiDirac\", 450.0)\n",
    "\n",
    "cell = atoms.get_cell()\n",
    "traj = Trajectory('eos.traj', 'w')\n",
    "for x in np.linspace(0.95, 1.05, 5):\n",
    "    print(cell * x)\n",
    "    atoms.set_cell(cell * x, scale_atoms=True)\n",
    "    atoms.get_potential_energy()\n",
    "    traj.write(atoms)\n",
    "\n",
    "os.chdir(cwd)"
   ]
  },
  {
   "cell_type": "code",
   "execution_count": 14,
   "id": "ca491c7c",
   "metadata": {},
   "outputs": [
    {
     "name": "stdout",
     "output_type": "stream",
     "text": [
      "Bulk Modulus [GPa]: 271.1278927277926\n"
     ]
    },
    {
     "data": {
      "text/plain": [
       "<AxesSubplot:title={'center':'sj: E: -3861.696 eV, V: 36.877 Å$^3$, B: 271.128 GPa'}, xlabel='volume [Å$^3$]', ylabel='energy [eV]'>"
      ]
     },
     "execution_count": 14,
     "metadata": {},
     "output_type": "execute_result"
    },
    {
     "data": {
      "image/png": "[encoded data removed]",
      "text/plain": [
       "<Figure size 432x288 with 1 Axes>"
      ]
     },
     "metadata": {
      "needs_background": "light"
     },
     "output_type": "display_data"
    }
   ],
   "source": [
    "os.chdir(cwd)\n",
    "configs = read('uc-eos/eos.traj@0:5')  # read 5 configurations\n",
    "# Extract volumes and energies:\n",
    "volumes = [atoms.get_volume() for atoms in configs]\n",
    "energies = [atoms.get_potential_energy() for atoms in configs]\n",
    "eos = EquationOfState(volumes, energies)\n",
    "v0, e0, B = eos.fit()\n",
    "print(\"Bulk Modulus [GPa]:\", B / kJ * 1.0e24)\n",
    "eos.plot()"
   ]
  },
  {
   "cell_type": "markdown",
   "id": "28ea908c",
   "metadata": {},
   "source": [
    "## Metadynamics"
   ]
  },
  {
   "cell_type": "markdown",
   "id": "568ae71e",
   "metadata": {},
   "source": [
    "### Simple metadynamics of a LJ Particles on a Plane\n",
    "\n",
    "This tutorial is originally from https://gitlab.com/Sucerquia/ase-plumed_tutorial#planar-7-atoms-cluster. In principle, the calculator set inside of the Plumed calculator can be any calculator, not just for Lennard Jones, but also with CP2K!"
   ]
  },
  {
   "cell_type": "code",
   "execution_count": null,
   "id": "3ac1caf0",
   "metadata": {},
   "outputs": [],
   "source": []
  }
 ],
 "metadata": {
  "kernelspec": {
   "display_name": "Python 3",
   "language": "python",
   "name": "python3"
  },
  "language_info": {
   "codemirror_mode": {
    "name": "ipython",
    "version": 3
   },
   "file_extension": ".py",
   "mimetype": "text/x-python",
   "name": "python",
   "nbconvert_exporter": "python",
   "pygments_lexer": "ipython3",
   "version": "3.9.10"
  }
 },
 "nbformat": 4,
 "nbformat_minor": 5
}
