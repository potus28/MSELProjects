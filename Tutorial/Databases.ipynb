{
 "cells": [
  {
   "cell_type": "code",
   "execution_count": 1,
   "id": "bb0f9609",
   "metadata": {},
   "outputs": [],
   "source": [
    "from ase.build import bulk\n",
    "from ase.calculators.emt import EMT\n",
    "from ase.eos import calculate_eos\n",
    "from ase.db import connect\n",
    "\n",
    "db = connect('bulk.db')\n",
    "for symb in ['Al', 'Ni', 'Cu', 'Pd', 'Ag', 'Pt', 'Au']:\n",
    "    atoms = bulk(symb, 'fcc')\n",
    "    atoms.calc = EMT()\n",
    "    eos = calculate_eos(atoms)\n",
    "    v, e, B = eos.fit()  # find minimum\n",
    "    # Do one more calculation at the minimum and write to database:\n",
    "    atoms.cell *= (v / atoms.get_volume())**(1 / 3)\n",
    "    atoms.get_potential_energy()\n",
    "    db.write(atoms, bm=B)"
   ]
  },
  {
   "cell_type": "code",
   "execution_count": 2,
   "id": "a4b7ff96",
   "metadata": {},
   "outputs": [
    {
     "name": "stdout",
     "output_type": "stream",
     "text": [
      "id|age|user         |formula|calculator|energy|natoms| fmax|pbc|volume|charge|   mass|   bm\r\n",
      " 1|29s|woodrowwilson|Al     |emt       |-0.005|     1|0.000|TTT|15.932| 0.000| 26.982|0.249\r\n",
      " 2|29s|woodrowwilson|Ni     |emt       |-0.013|     1|0.000|TTT|10.601| 0.000| 58.693|1.105\r\n",
      " 3|29s|woodrowwilson|Cu     |emt       |-0.007|     1|0.000|TTT|11.565| 0.000| 63.546|0.839\r\n",
      " 4|28s|woodrowwilson|Pd     |emt       |-0.000|     1|0.000|TTT|14.588| 0.000|106.420|1.118\r\n",
      " 5|28s|woodrowwilson|Ag     |emt       |-0.000|     1|0.000|TTT|16.775| 0.000|107.868|0.625\r\n",
      " 6|28s|woodrowwilson|Pt     |emt       |-0.000|     1|0.000|TTT|15.080| 0.000|195.084|1.736\r\n",
      " 7|28s|woodrowwilson|Au     |emt       |-0.000|     1|0.000|TTT|16.684| 0.000|196.967|1.085\r\n",
      "Rows: 7\r\n",
      "Keys: bm\r\n"
     ]
    }
   ],
   "source": [
    "!ase db bulk.db -c +bm"
   ]
  },
  {
   "cell_type": "code",
   "execution_count": 3,
   "id": "f0091298",
   "metadata": {},
   "outputs": [
    {
     "name": "stdout",
     "output_type": "stream",
     "text": [
      "bulk.db: SQLite 3.x database, last written using SQLite version 3038002, file counter 14, database pages 17, cookie 0xe, schema 4, UTF-8, version-valid-for 14\r\n"
     ]
    }
   ],
   "source": [
    "!file bulk.db"
   ]
  },
  {
   "cell_type": "code",
   "execution_count": 4,
   "id": "bca90401",
   "metadata": {},
   "outputs": [
    {
     "name": "stdout",
     "output_type": "stream",
     "text": [
      "Added 0 key-value pairs (0 pairs updated)\r\n",
      "Inserted 7 rows\r\n"
     ]
    }
   ],
   "source": [
    "!ase db bulk.db --insert-into bulk.json"
   ]
  },
  {
   "cell_type": "code",
   "execution_count": 5,
   "id": "79557146",
   "metadata": {},
   "outputs": [
    {
     "name": "stdout",
     "output_type": "stream",
     "text": [
      "total 132K\r\n",
      "-rw-rw-r-- 1 woodrowwilson woodrowwilson  48K Aug  2 10:08 ASE-CP2K.ipynb\r\n",
      "-rw-r--r-- 1 woodrowwilson woodrowwilson  68K Aug  4 07:33 bulk.db\r\n",
      "-rw-rw-r-- 1 woodrowwilson woodrowwilson 2.5K Aug  4 07:35 Databases.ipynb\r\n",
      "-rw-rw-r-- 1 woodrowwilson woodrowwilson 5.2K Aug  4 07:36 bulk.json\r\n"
     ]
    }
   ],
   "source": [
    "!ls -lhtr"
   ]
  },
  {
   "cell_type": "code",
   "execution_count": 7,
   "id": "f909e296",
   "metadata": {},
   "outputs": [],
   "source": [
    "from ase.calculators.emt import EMT\n",
    "from ase.db import connect\n",
    "from ase.build import fcc111, add_adsorbate\n",
    "from ase.constraints import FixAtoms\n",
    "from ase.optimize import BFGS\n",
    "\n",
    "db1 = connect('bulk.db')\n",
    "db2 = connect('ads.db')\n",
    "\n",
    "\n",
    "def run(symb, a, n, ads):\n",
    "    atoms = fcc111(symb, (1, 1, n), a=a)\n",
    "    add_adsorbate(atoms, ads, height=1.0, position='fcc')\n",
    "\n",
    "    # Constrain all atoms except the adsorbate:\n",
    "    fixed = list(range(len(atoms) - 1))\n",
    "    atoms.constraints = [FixAtoms(indices=fixed)]\n",
    "\n",
    "    atoms.calc = EMT()\n",
    "    opt = BFGS(atoms, logfile=None)\n",
    "    opt.run(fmax=0.01)\n",
    "    return atoms\n",
    "\n",
    "\n",
    "for row in db1.select():\n",
    "    a = row.cell[0, 1] * 2\n",
    "    symb = row.symbols[0]\n",
    "    for n in [1, 2, 3]:\n",
    "        for ads in 'CNO':\n",
    "            id = db2.reserve(layers=n, surf=symb, ads=ads)\n",
    "            if id is not None:\n",
    "                atoms = run(symb, a, n, ads)\n",
    "                db2.write(atoms, layers=n, surf=symb, ads=ads)\n",
    "                del db2[id]\n"
   ]
  },
  {
   "cell_type": "code",
   "execution_count": 8,
   "id": "9e563300",
   "metadata": {},
   "outputs": [
    {
     "name": "stdout",
     "output_type": "stream",
     "text": [
      "\r\n",
      "Rows: 0\r\n"
     ]
    }
   ],
   "source": [
    "!ase db ads.db natoms=0 -c ++"
   ]
  },
  {
   "cell_type": "code",
   "execution_count": 9,
   "id": "6e608a3a",
   "metadata": {},
   "outputs": [
    {
     "name": "stdout",
     "output_type": "stream",
     "text": [
      "Deleted 0 rows\r\n"
     ]
    }
   ],
   "source": [
    "!ase db ads.db natoms=0 --delete"
   ]
  },
  {
   "cell_type": "code",
   "execution_count": 10,
   "id": "2b5f48bd",
   "metadata": {},
   "outputs": [],
   "source": [
    "from ase import Atoms\n",
    "from ase.calculators.emt import EMT\n",
    "from ase.db import connect\n",
    "from ase.build import fcc111\n",
    "\n",
    "db1 = connect('bulk.db')\n",
    "db2 = connect('ads.db')\n",
    "\n",
    "\n",
    "def run(symb, a, n):\n",
    "    atoms = fcc111(symb, (1, 1, n), a=a)\n",
    "    atoms.calc = EMT()\n",
    "    atoms.get_forces()\n",
    "    return atoms\n",
    "\n",
    "\n",
    "# Clean slabs:\n",
    "for row in db1.select():\n",
    "    a = row.cell[0, 1] * 2\n",
    "    symb = row.symbols[0]\n",
    "    for n in [1, 2, 3]:\n",
    "        id = db2.reserve(layers=n, surf=symb, ads='clean')\n",
    "        if id is not None:\n",
    "            atoms = run(symb, a, n)\n",
    "            db2.write(atoms, id=id, layers=n, surf=symb, ads='clean')\n",
    "\n",
    "# Atoms:\n",
    "for ads in 'CNO':\n",
    "    a = Atoms(ads)\n",
    "    a.calc = EMT()\n",
    "    a.get_potential_energy()\n",
    "    db2.write(a)\n"
   ]
  },
  {
   "cell_type": "code",
   "execution_count": 11,
   "id": "ec728c5b",
   "metadata": {},
   "outputs": [
    {
     "name": "stdout",
     "output_type": "stream",
     "text": [
      "87 rows\r\n"
     ]
    }
   ],
   "source": [
    "!ase db ads.db -n"
   ]
  },
  {
   "cell_type": "code",
   "execution_count": 12,
   "id": "0640b9ca",
   "metadata": {},
   "outputs": [
    {
     "name": "stdout",
     "output_type": "stream",
     "text": [
      "Added 0 key-value pairs (0 pairs updated)\r\n",
      "Inserted 21 rows\r\n"
     ]
    }
   ],
   "source": [
    "!ase db ads.db ads=clean --insert-into refs.db"
   ]
  },
  {
   "cell_type": "code",
   "execution_count": 13,
   "id": "d173ef16",
   "metadata": {},
   "outputs": [
    {
     "name": "stdout",
     "output_type": "stream",
     "text": [
      "Deleted 21 rows\r\n"
     ]
    }
   ],
   "source": [
    "!ase db ads.db ads=clean --delete --yes"
   ]
  },
  {
   "cell_type": "code",
   "execution_count": 14,
   "id": "76aa5764",
   "metadata": {},
   "outputs": [
    {
     "name": "stdout",
     "output_type": "stream",
     "text": [
      "Added 0 key-value pairs (0 pairs updated)\r\n",
      "Inserted 3 rows\r\n"
     ]
    }
   ],
   "source": [
    "!ase db ads.db pbc=FFF --insert-into refs.db"
   ]
  },
  {
   "cell_type": "code",
   "execution_count": 15,
   "id": "55032b7f",
   "metadata": {},
   "outputs": [
    {
     "name": "stdout",
     "output_type": "stream",
     "text": [
      "Deleted 3 rows\r\n"
     ]
    }
   ],
   "source": [
    "!ase db ads.db pbc=FFF --delete --yes"
   ]
  },
  {
   "cell_type": "code",
   "execution_count": 16,
   "id": "733cee61",
   "metadata": {},
   "outputs": [
    {
     "name": "stdout",
     "output_type": "stream",
     "text": [
      "63 rows\r\n"
     ]
    }
   ],
   "source": [
    "!ase db ads.db -n"
   ]
  },
  {
   "cell_type": "code",
   "execution_count": 17,
   "id": "71125e7d",
   "metadata": {},
   "outputs": [
    {
     "name": "stdout",
     "output_type": "stream",
     "text": [
      "24 rows\r\n"
     ]
    }
   ],
   "source": [
    "!ase db refs.db -n"
   ]
  },
  {
   "cell_type": "code",
   "execution_count": 18,
   "id": "be7c9703",
   "metadata": {},
   "outputs": [],
   "source": [
    "from ase.db import connect\n",
    "\n",
    "refs = connect('refs.db')\n",
    "db = connect('ads.db')\n",
    "\n",
    "for row in db.select():\n",
    "    ea = (row.energy -\n",
    "          refs.get(formula=row.ads).energy -\n",
    "          refs.get(layers=row.layers, surf=row.surf).energy)\n",
    "    h = row.positions[-1, 2] - row.positions[-2, 2]\n",
    "    db.update(row.id, height=h, ea=ea)"
   ]
  },
  {
   "cell_type": "code",
   "execution_count": 25,
   "id": "419255ea",
   "metadata": {},
   "outputs": [
    {
     "name": "stdout",
     "output_type": "stream",
     "text": [
      "formula|    ea|height\r\n",
      "Al3C   |-3.418| 1.262\r\n",
      "Al3N   |-5.223| 1.219\r\n",
      "Al3O   |-4.495| 1.553\r\n",
      "Ni3C   |-3.730| 1.376\r\n",
      "Ni3N   |-5.477| 1.382\r\n",
      "Ni3O   |-4.741| 1.590\r\n",
      "Cu3C   |-3.591| 1.378\r\n",
      "Cu3N   |-5.344| 1.376\r\n",
      "Cu3O   |-4.643| 1.587\r\n",
      "Pd3C   |-3.630| 1.448\r\n",
      "Pd3N   |-5.369| 1.461\r\n",
      "Pd3O   |-4.660| 1.644\r\n",
      "Ag3C   |-3.560| 1.377\r\n",
      "Ag3N   |-5.336| 1.375\r\n",
      "Ag3O   |-4.592| 1.599\r\n",
      "Pt3C   |-3.715| 1.503\r\n",
      "Pt3N   |-5.419| 1.535\r\n",
      "Pt3O   |-4.724| 1.706\r\n",
      "Au3C   |-3.547| 1.485\r\n",
      "Au3N   |-5.281| 1.499\r\n",
      "Rows: 21 (showing first 20)\r\n",
      "Keys: ads, ea, height, layers, surf\r\n"
     ]
    }
   ],
   "source": [
    "!ase db ads.db layers=3 -c formula,ea,height"
   ]
  },
  {
   "cell_type": "code",
   "execution_count": null,
   "id": "fc9f0565",
   "metadata": {},
   "outputs": [],
   "source": []
  }
 ],
 "metadata": {
  "kernelspec": {
   "display_name": "Python 3 (ipykernel)",
   "language": "python",
   "name": "python3"
  },
  "language_info": {
   "codemirror_mode": {
    "name": "ipython",
    "version": 3
   },
   "file_extension": ".py",
   "mimetype": "text/x-python",
   "name": "python",
   "nbconvert_exporter": "python",
   "pygments_lexer": "ipython3",
   "version": "3.9.12"
  }
 },
 "nbformat": 4,
 "nbformat_minor": 5
}
