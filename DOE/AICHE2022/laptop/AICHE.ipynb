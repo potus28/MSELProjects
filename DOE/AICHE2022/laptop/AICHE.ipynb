{
 "cells": [
  {
   "cell_type": "code",
   "execution_count": 1,
   "id": "30a5a492",
   "metadata": {},
   "outputs": [
    {
     "name": "stdout",
     "output_type": "stream",
     "text": [
      "env: SHELL=/bin/bash\n",
      "env: OMP_NUM_THREADS=8\n",
      "env: VECLIB_MAXIMUM_THREADS=1\n",
      "env: ASE_CP2K_COMMAND=cp2k_shell.ssmp\n"
     ]
    }
   ],
   "source": [
    "%set_env SHELL=/bin/bash\n",
    "%set_env OMP_NUM_THREADS=8\n",
    "%set_env VECLIB_MAXIMUM_THREADS=1\n",
    "%set_env ASE_CP2K_COMMAND=cp2k_shell.ssmp"
   ]
  },
  {
   "cell_type": "code",
   "execution_count": 2,
   "id": "468f5af7",
   "metadata": {},
   "outputs": [
    {
     "name": "stderr",
     "output_type": "stream",
     "text": [
      "/home/woodrowwilson/Programs/miniconda3/lib/python3.9/site-packages/scipy/__init__.py:146: UserWarning: A NumPy version >=1.16.5 and <1.23.0 is required for this version of SciPy (detected version 1.23.1\n",
      "  warnings.warn(f\"A NumPy version >={np_minversion} and <{np_maxversion}\"\n"
     ]
    }
   ],
   "source": [
    "# General\n",
    "import os\n",
    "import sys\n",
    "import numpy as np\n",
    "import pandas as pd\n",
    "import matplotlib as mpl\n",
    "import matplotlib.pyplot as plt\n",
    "import time\n",
    "from copy import deepcopy\n",
    "\n",
    "# For building things\n",
    "from ase import Atom, Atoms\n",
    "from ase.io import read, write\n",
    "from ase.io.trajectory import Trajectory\n",
    "from ase.build import molecule, sort, add_adsorbate, surface\n",
    "from ase.visualize import view\n",
    "from ase.neighborlist import NeighborList, natural_cutoffs\n",
    "\n",
    "# Unit Conversions and Fixing Atoms\n",
    "from ase.units import Bohr,Rydberg,kJ,kB,fs,Hartree,mol,kcal\n",
    "from ase.constraints import FixedPlane, FixedLine, FixAtoms\n",
    "\n",
    "# ASE Calculators\n",
    "from plumed import Plumed\n",
    "from ase.calculators.cp2k import CP2K\n",
    "from ase.calculators.lj import LennardJones\n",
    "from ase.calculators.plumed import Plumed\n",
    "from ase.calculators.idealgas import IdealGas\n",
    "\n",
    "# Geometry Optimizations and Normal Mode Analysis\n",
    "from ase.optimize import LBFGS, FIRE\n",
    "from ase.vibrations import Vibrations\n",
    "from ase.thermochemistry import IdealGasThermo\n",
    "\n",
    "# EOS fitting for Unit Cells\n",
    "from ase.eos import EquationOfState, calculate_eos\n",
    "\n",
    "# Molecular Dynamics\n",
    "from ase.md.velocitydistribution import MaxwellBoltzmannDistribution\n",
    "from ase.md.verlet import VelocityVerlet\n",
    "from ase.md.langevin import Langevin\n",
    "from ase.md.npt import NPT\n",
    "\n",
    "cwd = os.getcwd()\n",
    "\n",
    "from mycalculators import *"
   ]
  },
  {
   "cell_type": "code",
   "execution_count": 26,
   "id": "1c05f0a7",
   "metadata": {
    "scrolled": false
   },
   "outputs": [],
   "source": [
    "bo4 = read(\"../../../Resources/xyz/lignin/GG/BO4.xyz\")\n",
    "zeo = Trajectory(\"fire.traj\")[-1]\n",
    "calc = CP2KCalculator(ecut=400, functional=\"rVV10\", scf=20, orbital_transform=True, voronoi=False)"
   ]
  },
  {
   "cell_type": "markdown",
   "id": "6c7eefae",
   "metadata": {},
   "source": [
    "# Adding Bronsted Acidity"
   ]
  },
  {
   "cell_type": "code",
   "execution_count": 24,
   "id": "1d4ec16f",
   "metadata": {},
   "outputs": [],
   "source": [
    "# Atom Indices of the Si atoms we want to substitute for Al, as well as the O atoms for the BA Site\n",
    "\n",
    "halfslab = True\n",
    "run = \"pureSi\"\n",
    "\n",
    "if halfslab:\n",
    "    T1 = 107\n",
    "    T4 = 83\n",
    "    T1_O = 99\n",
    "    T4_O = 89\n",
    "    \n",
    "else:\n",
    "    T1 = 209\n",
    "    T4 = 185\n",
    "    T1_O = 201\n",
    "    T4_O = 191\n"
   ]
  },
  {
   "cell_type": "code",
   "execution_count": 25,
   "id": "e8106777",
   "metadata": {},
   "outputs": [],
   "source": [
    "def create_bronsted_acid_site(atoms, Si_index, O_index, rOH=1.0):\n",
    "    \n",
    "    # Make the Symbol for the Si_index Aluminum\n",
    "    \n",
    "    tmp = deepcopy(atoms)\n",
    "    original_elements = tmp.get_chemical_symbols()\n",
    "    \n",
    "    original_elements[Si_index] = \"Al\"\n",
    "    tmp.set_chemical_symbols(original_elements)\n",
    "    \n",
    "    # Get the coordinates of the Al atom and the Si atom next to the oxygen\n",
    "    #r_Al = atoms.positions[Si_index]\n",
    "    cuts = natural_cutoffs(tmp)\n",
    "    nl = NeighborList(cuts, self_interaction=False, bothways=True)\n",
    "    nl.update(tmp)\n",
    "    \n",
    "    # Get neighbors for atom i\n",
    "    indices, offsets = nl.get_neighbors(O_index)\n",
    "    \n",
    "    # Get corrdinates of neighboring atoms\n",
    "    neighbor_O_xyzs = []\n",
    "    for i, offset in zip(indices, offsets):\n",
    "        neighbor_O_xyzs.append(tmp.positions[i] + np.dot(offset, tmp.get_cell()))\n",
    "    \n",
    "    midpoint = 0.5*(neighbor_O_xyzs[0]+neighbor_O_xyzs[1])\n",
    "    vector_midpoint_to_oxygen = tmp.positions[O_index] - midpoint\n",
    "    unit_vector = vector_midpoint_to_oxygen / np.linalg.norm(vector_midpoint_to_oxygen)\n",
    "    H_position = midpoint + vector_midpoint_to_oxygen + rOH*unit_vector\n",
    "    \n",
    "    Hatom = Atom('H', H_position)\n",
    "    return tmp + Hatom\n",
    "\n",
    "def create_probe_on_zeo(zeolite, probe, height=1.5, nrepeats=(1,1,1)):\n",
    "\n",
    "    system = zeolite.repeat(nrepeats)\n",
    "    system = sort(system, system.positions[:,2])\n",
    "    \n",
    "    box = system.get_cell()\n",
    "    x = 0.5*(box[0][0] + box[1][0] + box[2][0])\n",
    "    y = 0.5*(box[0][1] + box[1][1] + box[2][1])\n",
    "    \n",
    "    # Get the center of mass of the probe\n",
    "    r_com = probe.get_center_of_mass()\n",
    "    \n",
    "    # Find out how far the COM is from index 0\n",
    "    delta = probe.positions[0] - r_com\n",
    "    \n",
    "    add_adsorbate(system, probe, height, position=(x+delta[0], y+delta[1]), offset=None, mol_index=0)\n",
    "      \n",
    "    return system\n",
    "\n",
    "def set_tags(atoms, slablength, probelength):\n",
    "    \n",
    "    for i in range(0, slablength):\n",
    "        atoms[i].tag = 0\n",
    "        \n",
    "    for i in range(slablength, probelength+slablength):\n",
    "        atoms[i].tag = 1\n",
    "\n",
    "def runMD(atoms, name, temp=298.0, runlength=40000):\n",
    "    \n",
    "    MaxwellBoltzmannDistribution(atoms, temperature_K=temp)\n",
    "    \n",
    "    md = Langevin(atoms, 0.5*fs, temperature_K = temp, friction=0.01, \n",
    "              trajectory=name+\"_langevin.traj\", logfile=name+'_langevin.log')\n",
    "    \n",
    "    md.run(runlength)"
   ]
  },
  {
   "cell_type": "code",
   "execution_count": 11,
   "id": "79110099",
   "metadata": {},
   "outputs": [],
   "source": [
    "supercell = zeo\n",
    "supercell_T1 = create_bronsted_acid_site(supercell, T1, T1_O, rOH=1.0)\n",
    "supercell_T4 = create_bronsted_acid_site(supercell, T4, T4_O, rOH=1.0)\n",
    "supercell_T1T4 = create_bronsted_acid_site(supercell_T1, T4, T4_O, rOH=1.0)"
   ]
  },
  {
   "cell_type": "code",
   "execution_count": 16,
   "id": "3145aa2c",
   "metadata": {},
   "outputs": [],
   "source": [
    "bo4_pureSi = create_probe_on_zeo(supercell, bo4, nrepeats=(2,2,1))\n",
    "bo4_T1 = create_probe_on_zeo(supercell_T1, bo4, nrepeats=(2,2,1))\n",
    "bo4_T4 = create_probe_on_zeo(supercell_T4, bo4, nrepeats=(2,2,1))\n",
    "bo4_T1T4 = create_probe_on_zeo(supercell_T1T4, bo4, nrepeats=(2,2,1))"
   ]
  },
  {
   "cell_type": "code",
   "execution_count": 23,
   "id": "61d3d53e",
   "metadata": {},
   "outputs": [],
   "source": [
    "if run == \"pureSi\":\n",
    "    bo4_pureSi.calc = calc\n",
    "    set_tags(bo4_pureSi, len(supercell.repeat((2,2,1))), len(bo4))\n",
    "    runMD(bo4_pureSi, name=\"pureSi\", temp=450.0, runlength=40000)\n",
    "    \n",
    "elif run == \"T1\":\n",
    "    bo4_T1.calc = calc\n",
    "    set_tags(bo4_T1, len(supercell_T1.repeat((2,2,1))), len(bo4))\n",
    "    runMD(bo4_T1, name=\"T1\", temp=450.0, runlength=40000)\n",
    "    \n",
    "elif run == \"T4\":\n",
    "    bo4_T4.calc = calc\n",
    "    set_tags(bo4_T4, len(supercell_T4.repeat((2,2,1))), len(bo4))\n",
    "    runMD(bo4_T4, name=\"T4\", temp=450.0, runlength=40000)\n",
    "    \n",
    "elif run == \"T1T4\":\n",
    "    bo4_T1T4.calc = calc\n",
    "    set_tags(bo4_T1T4, len(supercell_T1T4.repeat((2,2,1))), len(bo4))\n",
    "    runMD(bo4_T1T4, name=\"T1T4\", temp=450.0, runlength=40000)\n",
    "    "
   ]
  }
 ],
 "metadata": {
  "kernelspec": {
   "display_name": "Python 3 (ipykernel)",
   "language": "python",
   "name": "python3"
  },
  "language_info": {
   "codemirror_mode": {
    "name": "ipython",
    "version": 3
   },
   "file_extension": ".py",
   "mimetype": "text/x-python",
   "name": "python",
   "nbconvert_exporter": "python",
   "pygments_lexer": "ipython3",
   "version": "3.9.12"
  }
 },
 "nbformat": 4,
 "nbformat_minor": 5
}
