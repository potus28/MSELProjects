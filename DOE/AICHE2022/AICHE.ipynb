{
 "cells": [
  {
   "cell_type": "code",
   "execution_count": 76,
   "id": "30a5a492",
   "metadata": {},
   "outputs": [
    {
     "name": "stdout",
     "output_type": "stream",
     "text": [
      "env: SHELL=/bin/bash\n",
      "env: OMP_NUM_THREADS=8\n",
      "env: VECLIB_MAXIMUM_THREADS=1\n",
      "env: ASE_CP2K_COMMAND=cp2k_shell.ssmp\n"
     ]
    }
   ],
   "source": [
    "%set_env SHELL=/bin/bash\n",
    "%set_env OMP_NUM_THREADS=8\n",
    "%set_env VECLIB_MAXIMUM_THREADS=1\n",
    "%set_env ASE_CP2K_COMMAND=cp2k_shell.ssmp"
   ]
  },
  {
   "cell_type": "code",
   "execution_count": 77,
   "id": "468f5af7",
   "metadata": {},
   "outputs": [],
   "source": [
    "# General\n",
    "import os\n",
    "import sys\n",
    "import numpy as np\n",
    "import pandas as pd\n",
    "import matplotlib as mpl\n",
    "import matplotlib.pyplot as plt\n",
    "import time\n",
    "from copy import deepcopy\n",
    "\n",
    "# For building things\n",
    "from ase import Atom, Atoms\n",
    "from ase.io import read, write\n",
    "from ase.io.trajectory import Trajectory\n",
    "from ase.build import molecule, sort, add_adsorbate, surface\n",
    "from ase.visualize import view\n",
    "from ase.neighborlist import NeighborList, natural_cutoffs\n",
    "\n",
    "# Unit Conversions and Fixing Atoms\n",
    "from ase.units import Bohr,Rydberg,kJ,kB,fs,Hartree,mol,kcal\n",
    "from ase.constraints import FixedPlane, FixedLine, FixAtoms\n",
    "\n",
    "# ASE Calculators\n",
    "from plumed import Plumed\n",
    "from ase.calculators.cp2k import CP2K\n",
    "from ase.calculators.lj import LennardJones\n",
    "from ase.calculators.plumed import Plumed\n",
    "from ase.calculators.idealgas import IdealGas\n",
    "\n",
    "# Geometry Optimizations and Normal Mode Analysis\n",
    "from ase.optimize import LBFGS, FIRE\n",
    "from ase.vibrations import Vibrations\n",
    "from ase.thermochemistry import IdealGasThermo\n",
    "\n",
    "# EOS fitting for Unit Cells\n",
    "from ase.eos import EquationOfState, calculate_eos\n",
    "\n",
    "# Molecular Dynamics\n",
    "from ase.md.velocitydistribution import MaxwellBoltzmannDistribution\n",
    "from ase.md.verlet import VelocityVerlet\n",
    "from ase.md.langevin import Langevin\n",
    "from ase.md.npt import NPT\n",
    "\n",
    "cwd = os.getcwd()"
   ]
  },
  {
   "cell_type": "code",
   "execution_count": 78,
   "id": "1043a0ba",
   "metadata": {},
   "outputs": [],
   "source": [
    "from mycalculators import *"
   ]
  },
  {
   "cell_type": "code",
   "execution_count": 79,
   "id": "1c05f0a7",
   "metadata": {},
   "outputs": [
    {
     "data": {
      "application/vnd.jupyter.widget-view+json": {
       "model_id": "c15be0262e9c4a8b9e3ad305f5f2f43f",
       "version_major": 2,
       "version_minor": 0
      },
      "text/plain": [
       "HBox(children=(NGLWidget(), VBox(children=(Dropdown(description='Show', options=('All', 'H', 'C', 'O'), value=…"
      ]
     },
     "metadata": {},
     "output_type": "display_data"
    }
   ],
   "source": [
    "bo4 = read(\"../../Resources/xyz/lignin/GG/BO4.xyz\")\n",
    "view(bo4, viewer = \"ngl\")"
   ]
  },
  {
   "cell_type": "code",
   "execution_count": 7,
   "id": "fe49dcdd",
   "metadata": {},
   "outputs": [
    {
     "data": {
      "application/vnd.jupyter.widget-view+json": {
       "model_id": "1b17e7bb3be04cb79e3f60a35748a4c5",
       "version_major": 2,
       "version_minor": 0
      },
      "text/plain": [
       "HBox(children=(NGLWidget(), VBox(children=(Dropdown(description='Show', options=('All', 'O', 'Si'), value='All…"
      ]
     },
     "metadata": {},
     "output_type": "display_data"
    }
   ],
   "source": [
    "zeo = read(\"../../Resources/cif/zeolites/MWW.cif\")\n",
    "view(zeo, viewer=\"ngl\")"
   ]
  },
  {
   "cell_type": "markdown",
   "id": "64aa0315",
   "metadata": {},
   "source": [
    "# EOS for Zeolite"
   ]
  },
  {
   "cell_type": "code",
   "execution_count": 80,
   "id": "4b43402e",
   "metadata": {},
   "outputs": [],
   "source": [
    "calc = CP2KCalculator(ecut=400, functional=\"rVV10\", scf=20, orbital_transform=True, voronoi=True)"
   ]
  },
  {
   "cell_type": "code",
   "execution_count": 15,
   "id": "0ec4726c",
   "metadata": {},
   "outputs": [
    {
     "data": {
      "text/plain": [
       "<AxesSubplot:title={'center':'\\\\bf sj: E: -70887.143 eV, V: 4550.336 Å$^3$, B: 141.023 GPa'}, xlabel='\\\\bf Volume (Å$^3$)', ylabel='\\\\bf Energy (eV)'>"
      ]
     },
     "execution_count": 15,
     "metadata": {},
     "output_type": "execute_result"
    },
    {
     "data": {
      "image/png": "[encoded data removed]",
      "text/plain": [
       "<Figure size 432x288 with 1 Axes>"
      ]
     },
     "metadata": {
      "needs_background": "light"
     },
     "output_type": "display_data"
    }
   ],
   "source": [
    "zeo.calc = calc\n",
    "\n",
    "v0 = zeo.get_volume()\n",
    "cell0 = zeo.get_cell()\n",
    "    \n",
    "start = time.time()\n",
    "eos = calculate_eos(zeo,npoints=5, eps=0.04,trajectory=\"zeo-eos.traj\")\n",
    "v, e, B = eos.fit()  # find minimum\n",
    "end = time.time()\n",
    "elapsed = end - start\n",
    "\n",
    "# Do one more calculation at the minimum and write to database:\n",
    "s = (v/v0)**(1./3.)\n",
    "zeo.set_cell(cell0*s, scale_atoms=True)\n",
    "zeo.get_potential_energy()\n",
    "write(\"zeo-optimized.xyz\", zeo) \n",
    "B_GPa = B / kJ * 1.0e24\n",
    "    \n",
    "eos.plot(filename=\"zeo.png\")"
   ]
  },
  {
   "cell_type": "code",
   "execution_count": 72,
   "id": "68c87434",
   "metadata": {},
   "outputs": [
    {
     "data": {
      "text/plain": [
       "-70887.030717182"
      ]
     },
     "execution_count": 72,
     "metadata": {},
     "output_type": "execute_result"
    }
   ],
   "source": [
    "zeo.get_potential_energy()"
   ]
  },
  {
   "cell_type": "code",
   "execution_count": 83,
   "id": "72116047",
   "metadata": {},
   "outputs": [
    {
     "data": {
      "application/vnd.jupyter.widget-view+json": {
       "model_id": "4cecfa4493884545a292f4bc46981154",
       "version_major": 2,
       "version_minor": 0
      },
      "text/plain": [
       "HBox(children=(NGLWidget(), VBox(children=(Dropdown(description='Show', options=('All', 'O', 'Si', 'H'), value…"
      ]
     },
     "metadata": {},
     "output_type": "display_data"
    }
   ],
   "source": [
    "rOH = 1.0\n",
    "rSiO = 1.0\n",
    "\n",
    "angleSiOH = np.deg2rad(109.5)\n",
    "angleOSiO = np.deg2rad(109.5)\n",
    "\n",
    "supercell = surface(supercell, indices=(0,0,1), layers=1, vacuum=10.0, tol=1e-10, periodic=True)\n",
    "\n",
    "cutoffz = 0.5*np.sum(supercell.get_cell()[:,2])\n",
    "#del supercell[[atom.index for atom in supercell if atom.position[2] < cutoffz]]\n",
    "#supercell.center()\n",
    "#view(supercell)\n",
    "\n",
    "cuts = natural_cutoffs(supercell)\n",
    "nl = NeighborList(cuts, self_interaction=False, bothways=True)\n",
    "nl.update(supercell)\n",
    "\n",
    "# Loop over all atoms\n",
    "natoms = len(supercell)\n",
    "for idx in range(0, natoms):\n",
    "\n",
    "        # Get neighbors for atom i\n",
    "        indices, offsets = nl.get_neighbors(idx)\n",
    "        \n",
    "        # If atom i is and Oxygen with only 1 neighbor, it needs H to satisfy its valency\n",
    "        if supercell[idx].symbol == 'O' and len(indices) < 2:\n",
    "                \n",
    "                # Get corrdinates of Oxygen Atom\n",
    "                terminal_O_xyz = supercell[idx].position\n",
    "\n",
    "                # Get corrdinates of neighboring atoms\n",
    "                for i, offset in zip(indices, offsets):\n",
    "                    neighboring_Si_xyz = supercell.positions[i] + np.dot(offset, supercell.get_cell())\n",
    "\n",
    "                    \n",
    "                # Generate vector\n",
    "                position_vector_Si_to_O = terminal_O_xyz - neighboring_Si_xyz\n",
    "\n",
    "                \n",
    "                # Use spherical coordinates to make coordinates for H atom\n",
    "                if neighboring_Si_xyz[2] >= 0:\n",
    "                    theta = 2.0*np.random.rand()*np.pi\n",
    "                    terminal_H_x = rOH * np.cos(theta) * np.sin(angleSiOH) \n",
    "                    terminal_H_y = rOH * np.sin(theta) * np.sin(angleSiOH)\n",
    "                    terminal_H_z = rOH * np.cos(angleSiOH)\n",
    "                    terminal_H_x = neighboring_Si_xyz[0] + position_vector_Si_to_O[0] + terminal_H_x \n",
    "                    terminal_H_y = neighboring_Si_xyz[1] + position_vector_Si_to_O[1] + terminal_H_y \n",
    "                    terminal_H_z = neighboring_Si_xyz[2] + position_vector_Si_to_O[2] + terminal_H_z\n",
    "                else:\n",
    "                    theta = 2.0*np.random.rand()*np.pi\n",
    "                    terminal_H_x = rOH * np.cos(theta) * np.sin(angleSiOH) \n",
    "                    terminal_H_y = rOH * np.sin(theta) * np.sin(angleSiOH)\n",
    "                    terminal_H_z = rOH * np.cos(angleSiOH)\n",
    "                    terminal_H_x = neighboring_Si_xyz[0] + position_vector_Si_to_O[0] - terminal_H_x \n",
    "                    terminal_H_y = neighboring_Si_xyz[1] + position_vector_Si_to_O[1] - terminal_H_y \n",
    "                    terminal_H_z = neighboring_Si_xyz[2] + position_vector_Si_to_O[2] - terminal_H_z\n",
    "\n",
    "                Hatom = Atom('H', [terminal_H_x, terminal_H_y, terminal_H_z])\n",
    "\n",
    "                supercell = supercell + Hatom\n",
    "        \n",
    "        # If atom i is Si with 3 neighbors, it needs OH to satisfy its valency\n",
    "        if supercell[idx].symbol == 'Si' and len(indices) < 4:\n",
    "            # Get corrdinates of Si Atom\n",
    "            terminal_Si_xyz = supercell[idx].position\n",
    "\n",
    "            # Get corrdinates of neighboring atoms\n",
    "            neighbor_O_xyzs = []\n",
    "            for i, offset in zip(indices, offsets):\n",
    "                neighbor_O_xyzs.append(supercell.positions[i] + np.dot(offset, supercell.get_cell()))\n",
    "                \n",
    "            # Find the center of the circle made by the three oxygen atoms\n",
    "            A = neighbor_O_xyzs[0]\n",
    "            B = neighbor_O_xyzs[1]\n",
    "            C = neighbor_O_xyzs[2]\n",
    "            u1 = B - A\n",
    "            w1 = np.cross(C-A, u1)\n",
    "            \n",
    "            u = u1 / np.linalg.norm(u1)\n",
    "            w = w1 / np.linalg.norm(w1)\n",
    "            v = np.cross(w,u)\n",
    "            \n",
    "            b = [np.dot(B-A,u), 0.0]\n",
    "            c = [np.dot(C-A,u),np.dot(C-A,v)]\n",
    "            \n",
    "            h = ((c[0] - 0.5*b[0])**2 + c[1]**2 - (0.5*b[0])**2) / (2.0 * c[1])\n",
    "            center = A + 0.5*b[0]*u + h*v\n",
    "            \n",
    "            # Generate vector\n",
    "            vector_center_to_Si = terminal_Si_xyz - center\n",
    "            unit_vector = vector_center_to_Si / np.linalg.norm(vector_center_to_Si)\n",
    "            position_O = terminal_Si_xyz + rSiO*unit_vector\n",
    "            \n",
    "            Oatom =  Atoms('O', [position_O])\n",
    "            \n",
    "            vector_Si_to_O = position_O - terminal_Si_xyz\n",
    "          \n",
    "            # Use spherical coordinates to make coordinates for H atom\n",
    "            theta = 2.0*np.random.rand()*np.pi\n",
    "            terminal_H_x = rOH * np.cos(theta) * np.sin(angleSiOH) \n",
    "            terminal_H_y = rOH * np.sin(theta) * np.sin(angleSiOH)\n",
    "            terminal_H_z = rOH * np.cos(angleSiOH)\n",
    "\n",
    "            if terminal_Si_xyz[2] >= 0:\n",
    "                terminal_H_x = terminal_Si_xyz[0] + vector_Si_to_O[0] - terminal_H_x \n",
    "                terminal_H_y = terminal_Si_xyz[1] + vector_Si_to_O[1] - terminal_H_y \n",
    "                terminal_H_z = terminal_Si_xyz[2] + vector_Si_to_O[2] - terminal_H_z\n",
    "                \n",
    "            else:\n",
    "                terminal_H_x = terminal_Si_xyz[0] + vector_Si_to_O[0] + terminal_H_x \n",
    "                terminal_H_y = terminal_Si_xyz[1] + vector_Si_to_O[1] + terminal_H_y \n",
    "                terminal_H_z = terminal_Si_xyz[2] + vector_Si_to_O[2] + terminal_H_z\n",
    "\n",
    "            Hatom = Atom('H', [terminal_H_x, terminal_H_y, terminal_H_z])\n",
    "            \n",
    "            OH = Oatom + Hatom \n",
    "            supercell = supercell + OH\n",
    "            print()\n",
    "                \n",
    "\n",
    "supercell= sort(supercell, supercell.positions[:,2])\n",
    "\n",
    "#Try to get two oxygen atoms in the middle of the framework\n",
    "c = FixAtoms(indices=[len(supercell)//2, len(supercell)//2 + 1])\n",
    "supercell.set_constraint(c)\n",
    "supercell.calc = calc\n",
    "view(supercell, viewer=\"ngl\")"
   ]
  },
  {
   "cell_type": "markdown",
   "id": "867a4a7d",
   "metadata": {},
   "source": [
    "# Minimize the Nanosheet"
   ]
  },
  {
   "cell_type": "code",
   "execution_count": 85,
   "id": "0beed595",
   "metadata": {},
   "outputs": [],
   "source": [
    "minimizer = FIRE(supercell, trajectory=\"fire.traj\", logfile=\"fire.log\")\n",
    "minimizer.run(fmax=0.03)\n",
    "potentialenergy = supercell.get_potential_energy()"
   ]
  },
  {
   "cell_type": "code",
   "execution_count": 39,
   "id": "646ca1eb",
   "metadata": {},
   "outputs": [],
   "source": [
    "traj = Trajectory('fire.traj')\n",
    "supercell = traj[-1]"
   ]
  },
  {
   "cell_type": "code",
   "execution_count": 40,
   "id": "1ff1b933",
   "metadata": {},
   "outputs": [
    {
     "data": {
      "application/vnd.jupyter.widget-view+json": {
       "model_id": "ac5ffe20a1df4839aea59c641207a035",
       "version_major": 2,
       "version_minor": 0
      },
      "text/plain": [
       "HBox(children=(NGLWidget(), VBox(children=(Dropdown(description='Show', options=('All', 'H', 'Si', 'O'), value…"
      ]
     },
     "metadata": {},
     "output_type": "display_data"
    }
   ],
   "source": [
    "view(supercell, viewer=\"ngl\")"
   ]
  },
  {
   "cell_type": "markdown",
   "id": "6c7eefae",
   "metadata": {},
   "source": [
    "# Adding Bronsted Acidity"
   ]
  },
  {
   "cell_type": "code",
   "execution_count": 81,
   "id": "1d4ec16f",
   "metadata": {},
   "outputs": [],
   "source": [
    "# Atom Indices of the Si atoms we want to substitute for Al, as well as the O atoms for the BA Site\n",
    "T1 = 209\n",
    "T4 = 185\n",
    "T1_O = 201\n",
    "T4_O = 191"
   ]
  },
  {
   "cell_type": "code",
   "execution_count": 82,
   "id": "e8106777",
   "metadata": {},
   "outputs": [],
   "source": [
    "def create_bronsted_acid_site(atoms, Si_index, O_index, rOH=1.0):\n",
    "    \n",
    "    # Make the Symbol for the Si_index Aluminum\n",
    "    \n",
    "    tmp = deepcopy(atoms)\n",
    "    original_elements = tmp.get_chemical_symbols()\n",
    "    \n",
    "    original_elements[Si_index] = \"Al\"\n",
    "    tmp.set_chemical_symbols(original_elements)\n",
    "    \n",
    "    # Get the coordinates of the Al atom and the Si atom next to the oxygen\n",
    "    #r_Al = atoms.positions[Si_index]\n",
    "    cuts = natural_cutoffs(tmp)\n",
    "    nl = NeighborList(cuts, self_interaction=False, bothways=True)\n",
    "    nl.update(tmp)\n",
    "    \n",
    "    # Get neighbors for atom i\n",
    "    indices, offsets = nl.get_neighbors(O_index)\n",
    "    \n",
    "    # Get corrdinates of neighboring atoms\n",
    "    neighbor_O_xyzs = []\n",
    "    for i, offset in zip(indices, offsets):\n",
    "        neighbor_O_xyzs.append(tmp.positions[i] + np.dot(offset, tmp.get_cell()))\n",
    "    \n",
    "    midpoint = 0.5*(neighbor_O_xyzs[0]+neighbor_O_xyzs[1])\n",
    "    vector_midpoint_to_oxygen = tmp.positions[O_index] - midpoint\n",
    "    unit_vector = vector_midpoint_to_oxygen / np.linalg.norm(vector_midpoint_to_oxygen)\n",
    "    H_position = midpoint + vector_midpoint_to_oxygen + rOH*unit_vector\n",
    "    \n",
    "    Hatom = Atom('H', H_position)\n",
    "    return tmp + Hatom\n"
   ]
  },
  {
   "cell_type": "code",
   "execution_count": 50,
   "id": "79110099",
   "metadata": {},
   "outputs": [],
   "source": [
    "supercell\n",
    "supercell_T1 = create_bronsted_acid_site(supercell, T1, T1_O, rOH=1.0)\n",
    "supercell_T4 = create_bronsted_acid_site(supercell, T4, T4_O, rOH=1.0)\n",
    "supercell_T1T4 = create_bronsted_acid_site(supercell_T1, T4, T4_O, rOH=1.0)"
   ]
  },
  {
   "cell_type": "code",
   "execution_count": 92,
   "id": "2b5b3c03",
   "metadata": {},
   "outputs": [],
   "source": [
    "def create_probe_on_zeo(zeolite, probe, height=1.5, nrepeats=(1,1,1)):\n",
    "\n",
    "    system = zeolite.repeat(nrepeats)\n",
    "    system = sort(system, system.positions[:,2])\n",
    "    \n",
    "    box = system.get_cell()\n",
    "    x = 0.5*(box[0][0] + box[1][0] + box[2][0])\n",
    "    y = 0.5*(box[0][1] + box[1][1] + box[2][1])\n",
    "    \n",
    "    # Get the center of mass of the probe\n",
    "    r_com = probe.get_center_of_mass()\n",
    "    \n",
    "    # Find out how far the COM is from index 0\n",
    "    delta = probe.positions[0] - r_com\n",
    "    \n",
    "    add_adsorbate(system, probe, height, position=(x+delta[0], y+delta[1]), offset=None, mol_index=0)\n",
    "      \n",
    "    return system"
   ]
  },
  {
   "cell_type": "code",
   "execution_count": 61,
   "id": "3145aa2c",
   "metadata": {},
   "outputs": [
    {
     "data": {
      "application/vnd.jupyter.widget-view+json": {
       "model_id": "c4f5f518745b4bf5a882f69dac83a7c0",
       "version_major": 2,
       "version_minor": 0
      },
      "text/plain": [
       "HBox(children=(NGLWidget(), VBox(children=(Dropdown(description='Show', options=('All', 'H', 'C', 'Si', 'O'), …"
      ]
     },
     "metadata": {},
     "output_type": "display_data"
    }
   ],
   "source": [
    "bo4_supercell = create_probe_on_zeo(supercell, bo4, nrepeats=(2,2,1))\n",
    "view(bo4_supercell, viewer=\"ngl\")"
   ]
  },
  {
   "cell_type": "code",
   "execution_count": 69,
   "id": "b30c1c27",
   "metadata": {},
   "outputs": [],
   "source": [
    "def set_tags(atoms, slablength, probelength):\n",
    "    \n",
    "    for i in range(0, slablength):\n",
    "        atoms[i].tag = 0\n",
    "        \n",
    "    for i in range(slablength, probelength+slablength):\n",
    "        atoms[i].tag = 1\n",
    "\n",
    "def runMD(atoms, name, temp=298.0, runlength=40000):\n",
    "    \n",
    "    MaxwellBoltzmannDistribution(atoms, temperature_K=300)\n",
    "    \n",
    "    md = Langevin(atoms, 0.5*fs, temperature_K = temp, friction=0.01, \n",
    "              trajectory=name+\"_langevin.traj\", logfile=name+'_langevin.log')\n",
    "    \n",
    "    md.run(runlength)"
   ]
  },
  {
   "cell_type": "code",
   "execution_count": 93,
   "id": "61d3d53e",
   "metadata": {},
   "outputs": [],
   "source": [
    "bo4_supercell.calc = calc\n",
    "set_tags(bo4_supercell, len(supercell.repeat((2,2,1))), len(bo4))\n",
    "\n",
    "# Freeze two atoms in the middle of the zeolite\n",
    "idx_1 = (len(supercell.repeat((2,2,1))) - len(bo4)) // 2\n",
    "idx_2 = (len(supercell.repeat((2,2,1))) - len(bo4)) // 2 + 1\n",
    "\n",
    "c = FixAtoms(indices=[idx_1, idx_2])\n",
    "bo4_supercell.set_constraint(c)"
   ]
  },
  {
   "cell_type": "code",
   "execution_count": 94,
   "id": "c58d9277",
   "metadata": {},
   "outputs": [
    {
     "data": {
      "text/plain": [
       "<Popen: returncode: None args: ['/home/woodrowwilson/Programs/miniconda3/bin...>"
      ]
     },
     "execution_count": 94,
     "metadata": {},
     "output_type": "execute_result"
    },
    {
     "name": "stderr",
     "output_type": "stream",
     "text": [
      "/home/woodrowwilson/Programs/miniconda3/lib/python3.9/site-packages/scipy/__init__.py:146: UserWarning: A NumPy version >=1.16.5 and <1.23.0 is required for this version of SciPy (detected version 1.23.1\n",
      "  warnings.warn(f\"A NumPy version >={np_minversion} and <{np_maxversion}\"\n"
     ]
    }
   ],
   "source": [
    "view(bo4_supercell)"
   ]
  },
  {
   "cell_type": "code",
   "execution_count": null,
   "id": "120319de",
   "metadata": {},
   "outputs": [],
   "source": [
    "runMD(bo4_supercell, name=\"pureSi\", temp=450.0, runlength=2000)"
   ]
  }
 ],
 "metadata": {
  "kernelspec": {
   "display_name": "Python 3 (ipykernel)",
   "language": "python",
   "name": "python3"
  },
  "language_info": {
   "codemirror_mode": {
    "name": "ipython",
    "version": 3
   },
   "file_extension": ".py",
   "mimetype": "text/x-python",
   "name": "python",
   "nbconvert_exporter": "python",
   "pygments_lexer": "ipython3",
   "version": "3.9.12"
  }
 },
 "nbformat": 4,
 "nbformat_minor": 5
}
