{
 "cells": [
  {
   "cell_type": "code",
   "execution_count": 5,
   "id": "529e3e41",
   "metadata": {},
   "outputs": [
    {
     "name": "stdout",
     "output_type": "stream",
     "text": [
      "env: SHELL=/bin/bash\n",
      "env: OMP_NUM_THREADS=8\n",
      "env: VECLIB_MAXIMUM_THREADS=1\n",
      "env: ASE_CP2K_COMMAND=cp2k_shell.ssmp\n"
     ]
    }
   ],
   "source": [
    "%set_env SHELL=/bin/bash\n",
    "%set_env OMP_NUM_THREADS=8\n",
    "%set_env VECLIB_MAXIMUM_THREADS=1\n",
    "%set_env ASE_CP2K_COMMAND=cp2k_shell.ssmp"
   ]
  },
  {
   "cell_type": "code",
   "execution_count": 10,
   "id": "f54d0592",
   "metadata": {},
   "outputs": [
    {
     "data": {
      "application/javascript": [
       "IPython.notebook.set_autosave_interval(2000)"
      ]
     },
     "metadata": {},
     "output_type": "display_data"
    },
    {
     "name": "stdout",
     "output_type": "stream",
     "text": [
      "Autosaving every 2 seconds\n"
     ]
    }
   ],
   "source": [
    "# General\n",
    "import os\n",
    "import sys\n",
    "import numpy as np\n",
    "import pandas as pd\n",
    "import matplotlib as mpl\n",
    "import matplotlib.pyplot as plt\n",
    "import time\n",
    "\n",
    "# For building things\n",
    "from ase import Atom, Atoms\n",
    "from ase.io import read, write\n",
    "from ase.io.trajectory import Trajectory\n",
    "from ase.build import molecule, surface, add_adsorbate, add_vacuum, sort\n",
    "from ase.visualize import view\n",
    "from ase.db import connect\n",
    "from ase.geometry import get_layers\n",
    "import nglview as nv\n",
    "\n",
    "# Unit Conversions and Fixing Atoms\n",
    "from ase.units import Bohr,Rydberg,kJ,kB,fs,Hartree,mol,kcal\n",
    "from ase.constraints import FixedPlane, FixedLine, FixAtoms\n",
    "\n",
    "# ASE Calculators\n",
    "from plumed import Plumed\n",
    "from ase.calculators.cp2k import CP2K\n",
    "from ase.calculators.lj import LennardJones\n",
    "from ase.calculators.plumed import Plumed\n",
    "from ase.calculators.idealgas import IdealGas\n",
    "\n",
    "# Geometry Optimizations and Normal Mode Analysis\n",
    "from ase.optimize import LBFGS, FIRE\n",
    "from ase.vibrations import Vibrations\n",
    "from ase.thermochemistry import IdealGasThermo\n",
    "\n",
    "# EOS fitting for Unit Cells\n",
    "from ase.eos import EquationOfState, calculate_eos\n",
    "\n",
    "# Molecular Dynamics\n",
    "from ase.md.velocitydistribution import MaxwellBoltzmannDistribution\n",
    "from ase.md.verlet import VelocityVerlet\n",
    "from ase.md.langevin import Langevin\n",
    "from ase.md.npt import NPT\n",
    "\n",
    "cwd = os.getcwd()\n",
    "\n",
    "%matplotlib inline\n",
    "#%reload_ext autoreload\n",
    "%autosave 2\n"
   ]
  },
  {
   "cell_type": "code",
   "execution_count": 11,
   "id": "0345065a",
   "metadata": {},
   "outputs": [],
   "source": [
    "# Make sure to create a softlink to MSELProjects/Python/mycalculators.py in this directory before running this command\n",
    "from mycalculators import *"
   ]
  },
  {
   "cell_type": "code",
   "execution_count": 8,
   "id": "192ff1e1",
   "metadata": {},
   "outputs": [
    {
     "data": {
      "application/vnd.jupyter.widget-view+json": {
       "model_id": "1aa3fb7854bf4d3ca66adaeb2bb9952e",
       "version_major": 2,
       "version_minor": 0
      },
      "text/plain": [
       "HBox(children=(NGLWidget(), VBox(children=(Dropdown(description='Show', options=('All', 'H', 'O', 'C'), value=…"
      ]
     },
     "metadata": {},
     "output_type": "display_data"
    }
   ],
   "source": [
    "fal = read(\"../../Resources/xyz/furfural/FAL.xyz\")\n",
    "view(fal, viewer=\"ngl\")"
   ]
  },
  {
   "cell_type": "code",
   "execution_count": 12,
   "id": "b2796be4",
   "metadata": {},
   "outputs": [
    {
     "data": {
      "application/vnd.jupyter.widget-view+json": {
       "model_id": "54c078bbd034404096fe8bb85ec4d29e",
       "version_major": 2,
       "version_minor": 0
      },
      "text/plain": [
       "HBox(children=(NGLWidget(), VBox(children=(Dropdown(description='Show', options=('All', 'H', 'O', 'C'), value=…"
      ]
     },
     "metadata": {},
     "output_type": "display_data"
    }
   ],
   "source": [
    "meoh = read(\"../../Resources/xyz/solvents/CH3OH.xyz\")\n",
    "view(meoh, viewer=\"ngl\")"
   ]
  },
  {
   "cell_type": "code",
   "execution_count": 6,
   "id": "1503b1e9",
   "metadata": {},
   "outputs": [
    {
     "data": {
      "application/vnd.jupyter.widget-view+json": {
       "model_id": "be16e8c27fcb49e4ad0cd9dd436e4df6",
       "version_major": 2,
       "version_minor": 0
      },
      "text/plain": [
       "HBox(children=(NGLWidget(), VBox(children=(Dropdown(description='Show', options=('All', 'C', 'Mo'), value='All…"
      ]
     },
     "metadata": {},
     "output_type": "display_data"
    }
   ],
   "source": [
    "beta = read(\"../../Resources/cif/tmc/Beta-Mo2C_mp-1221498_conventional_standard.cif\")\n",
    "view(beta, viewer=\"ngl\")"
   ]
  },
  {
   "cell_type": "code",
   "execution_count": 9,
   "id": "64cbfbd4",
   "metadata": {},
   "outputs": [],
   "source": [
    "calc = CP2KCalculator(\n",
    "    400, \n",
    "    \"rVV10\",\n",
    "    kpoints=None,\n",
    "    dipole_correction=True,\n",
    "    orbital_transform=False,\n",
    "    smearing=True,\n",
    "    added_mos=100)"
   ]
  },
  {
   "cell_type": "code",
   "execution_count": 7,
   "id": "fc6543ca",
   "metadata": {},
   "outputs": [],
   "source": [
    "def SetTags(atoms, tag):\n",
    "    for atom in atoms:\n",
    "        atom.tag = tag\n",
    "\n",
    "def CheckOverlap(atoms, atom_idx, rmin):\n",
    "    distances = atoms.get_distances(atom_idx, range(0,natoms), mic=True)\n",
    "    distances = np.delete(distances, atom_idx)\n",
    "    if np.any(distances) < rmin:\n",
    "        return True\n",
    "    else:\n",
    "        return False\n",
    "    \n",
    "    \n",
    "def CreateProbeOnSlab(uc, probe, miller_indices, nlayers, vacuum):\n",
    "    \n",
    "    slab = surface(uc, miller_indices, nlayers, vacuum)\n",
    "    system = slab.repeat([3,4] + [1])\n",
    "    system = sort(system, system.positions[:,2])\n",
    "    \n",
    "    SetTags(system, 0)\n",
    "    SetTags(probe, 1)\n",
    "    \n",
    "    box = system.get_cell()\n",
    "    x = 0.5*(box[0][0] + box[1][0] + box[2][0])\n",
    "    y = 0.5*(box[0][1] + box[1][1] + box[2][1])\n",
    "    \n",
    "    add_adsorbate(system, probe, 2.5, position=(x, y), offset=None, mol_index=0)\n",
    "    \n",
    "    c = FixAtoms(indices=[atom.index for atom in system if atom.position[2] < 0.5*np.sum(system.get_cell()[:,2])])\n",
    "    system.set_constraint(c)\n",
    "      \n",
    "    return system\n",
    "\n",
    "\n",
    "def CheckOverlap(atoms, atom_idx, rmin):\n",
    "    distances = atoms.get_distances(atom_idx, range(0,natoms), mic=True)\n",
    "    distances = np.delete(distances, atom_idx)\n",
    "    if np.any(distances) < rmin:\n",
    "        return True\n",
    "    else:\n",
    "        return False\n",
    "     \n",
    "\n",
    "        \n",
    "def Translate(atoms, selected_atoms, drmax):\n",
    "\n",
    "    dr = drmax*(np.random.rand(3)-np.array([0.5, 0.5, 0.5]))\n",
    "    \n",
    "    atoms_tmp = atoms[selected_atoms]\n",
    "    old_position = deepcopy(atoms_tmp.positions)\n",
    "    \n",
    "    atoms_tmp.translate(dr)\n",
    "    new_position = atoms_tmp.positions\n",
    "    \n",
    "    atoms[selected_atoms].positions = new_position\n",
    "    atoms.wrap()\n",
    "    \n",
    "    return old_position\n",
    "    \n",
    "\n",
    "def MCTranslate(atoms, selected_atoms, drmax, step, updatefreq, rmin, energy = None):\n",
    "    \n",
    "    if energy is None:\n",
    "        potential_energy_o = atoms.get_potential_energy()\n",
    "        \n",
    "    else:\n",
    "        potential_energy_o = energy\n",
    "    \n",
    "    # Generate new configuration, but save old coordinates\n",
    "    dr = drmax*(np.random.rand(3)-np.array([0.5, 0.5, 0.5]))\n",
    "    \n",
    "    atoms_tmp = atoms[selected_atoms]\n",
    "    old_position = deepcopy(atoms_tmp.positions)\n",
    "    \n",
    "    atoms_tmp.translate(dr)\n",
    "    new_position = atoms_tmp.positions\n",
    "    \n",
    "    atoms[selected_atoms].positions = new_position\n",
    "\n",
    "    del atoms_tmp\n",
    "    atoms.wrap()\n",
    "    \n",
    "    # Reject the Move if our overlap criteria is met\n",
    "    if CheckOverlap(atoms,rmin):\n",
    "        atoms[selected_atoms].positions = old_position\n",
    "        energy = atoms.get_potential_energy()\n",
    "                \n",
    "    else:\n",
    "        # Calculate New Potential Energy\n",
    "        potential_energy_n = atoms.get_potential_energy()\n",
    "        d_potential_energy = potential_energy_n - potential_energy_o\n",
    "        d_potential_energy /= natoms\n",
    "        \n",
    "        # Accept or Reject the move according to the Metropolis Scheme\n",
    "        if d_potential_energy <= 0.0:\n",
    "            naccepted += 1\n",
    "            energy = potential_energy_n \n",
    "        \n",
    "        else:\n",
    "            \n",
    "            if np.random.rand() <= np.exp(-beta*d_potential_energy):\n",
    "                naccepted += 1\n",
    "                energy = potential_energy_n\n",
    "            \n",
    "            else:\n",
    "                atoms[random_atom].positions = old_position\n",
    "                energy = atoms.get_potential_energy()\n",
    "                \n",
    "    if move % maxupdate == 0:\n",
    "        if naccepted/(move+1) > 0.5:\n",
    "            drmax *= 1.1\n",
    "        else:\n",
    "            drmax *= 0.9\n",
    "\n",
    "    \n",
    "\n",
    "def MCRotate(atoms, selected_atoms, dthetamax, step, updatefreq, rmin, energy = None):\n",
    "    \n",
    "    if energy is None:\n",
    "        potential_energy_o = atoms.get_potential_energy()\n",
    "        \n",
    "    else:\n",
    "        potential_energy_o = energy\n",
    "    \n",
    "    # Generate new configuration, but save old coordinates\n",
    "    atoms_tmp = atoms[selected_atoms]\n",
    "    old_position = deepcopy(atoms_tmp.positions)\n",
    "    \n",
    "    rotation_vector = np.random.rand(3)\n",
    "    dtheta = dthetamax*np.random.rand()  \n",
    "    \n",
    "    atoms_tmp.rotate(a=dtheta, v=rotation_vector, center=\"COP\", rotate_cell=False)\n",
    "    new_position = atoms_tmp.positions\n",
    "    \n",
    "    atoms[selected_atoms].positions = new_position\n",
    "    \n",
    "    del atoms_tmp\n",
    "    atoms.wrap()\n",
    "    \n",
    "    # Reject the Move if our overlap criteria is met\n",
    "    if CheckOverlap(atoms,rmin):\n",
    "        atoms[random_atom].position = old_position\n",
    "        energy = atoms.get_potential_energy()\n",
    "                \n",
    "    else:\n",
    "        # Calculate New Potential Energy\n",
    "        potential_energy_n = atoms.get_potential_energy()\n",
    "        d_potential_energy = potential_energy_n - potential_energy_o\n",
    "        d_potential_energy /= natoms\n",
    "        \n",
    "        # Accept or Reject the move according to the Metropolis Scheme\n",
    "        if d_potential_energy <= 0.0:\n",
    "            naccepted += 1\n",
    "            energy = potential_energy_n \n",
    "        \n",
    "        else:\n",
    "            \n",
    "            if np.random.rand() <= np.exp(-beta*d_potential_energy):\n",
    "                naccepted += 1\n",
    "                energy = potential_energy_n\n",
    "            \n",
    "            else:\n",
    "                atoms[random_atom].position = old_position\n",
    "                energy = atoms.get_potential_energy()\n",
    "                \n",
    "    if move % maxupdate == 0:\n",
    "        if naccepted/(move+1) > 0.5:\n",
    "            dthetamax *= 1.1\n",
    "        else:\n",
    "            dthetamax *= 0.9\n",
    "            \n",
    "    \n",
    "    \n",
    "        \n",
    "def SelectFromDictionary(self, dictionary):\n",
    "        chi = np.random.rand()\n",
    "        lower = 0.0\n",
    "        upper = 0.0\n",
    "        for k, v in dictionary.items():\n",
    "            upper += v\n",
    "            if lower <= chi and chi <= upper:\n",
    "                return k\n",
    "            else:\n",
    "                lower += v\n",
    "\n",
    "                \n",
    "def GetRandomSpecies(system, speciescount, solid):\n",
    "    \"\"\"Returns a list of indices for a random species present in the system based on the atom.tag attribute\n",
    "    Assumes that solids (if present) have a tag of 0\n",
    "    \"\"\"\n",
    "    # Pick a random tag (species), if there is a solid, pick a tag other than 0\n",
    "    random_species = np.random.randint(0,speciescount)\n",
    "    if solid:\n",
    "        random_species += 1\n",
    "        \n",
    "    # Get all atoms with that tag\n",
    "    return [atom.index for atom in system if atom.tag == random_species]\n",
    "    \n",
    "    \n",
    "    \n",
    "def GCMC(system, adsorbate, species_tags, solid=False, chemical_potential=-10, nsteps=10):\n",
    "    '''Performs a GCMC simulation to set up an initial system with solvent molecules'''\n",
    "    \n",
    "    moveprobabilities={\"translation\":0.45, \"rotation\":0.45, \"insertion\":0.05, \"deletion\":0.05}\n",
    "    maxdisplacements={\"translation\":1.0, \"rotation\":60.0, \"insertion\":None, \"deletion\":None}\n",
    "    Naccepted={\"translation\":0, \"rotation\":0, \"insertion\":0, \"deletion\":0}\n",
    "    Nattempted={\"translation\":0, \"rotation\":0, \"insertion\":0, \"deletion\":0}\n",
    "    \n",
    "    moleculecount = 0\n",
    "    speciescount = len(species_tags)\n",
    "    updatefreq = 10\n",
    "    rmin = 0.75\n",
    "    \n",
    "    \n",
    "    moveprobabilities = dict(sorted(moveprobabilities.items(), key=lambda item: item[1]))\n",
    "    energy = None\n",
    "    for imove in range(0, nsteps):\n",
    "        # If there are molecules present, decide from the dictionary\n",
    "        # Otherwise, try to insert one\n",
    "        \n",
    "        if not moleculecount == 0:\n",
    "            \n",
    "            move = SelectFromDictionary(moveprobabilities)\n",
    "            \n",
    "            \n",
    "            if move == \"translation\":\n",
    "                selected_atoms = GetRandomSpecies(system, speciescount, solid)\n",
    "                energy = MCTranslate(atoms, selected_atoms, maxdisplacements[move], imove, updatefreq, rmin)\n",
    "            \n",
    "            elif move == \"rotation\":\n",
    "                selected_atoms = GetRandomSpecies(system, speciescount, solid)\n",
    "                energy = MCRotate(system)\n",
    "            \n",
    "            elif move == \"insertion\":\n",
    "                \n",
    "                MCInsert(system, solvent, chemical_potential)\n",
    "            \n",
    "            elif move == \"deletion\":\n",
    "                MCDelete(system, solvent, chemical_potential)\n",
    "            \n",
    "        else:\n",
    "            \n",
    "            move = SelectFromDictionary(moveprobabilities)\n",
    "            \n",
    "            if move == \"translation\":\n",
    "                MCTranslate(system)\n",
    "            \n",
    "            elif move == \"rotation\":\n",
    "                MCRotate(system)\n",
    "            \n",
    "            elif move == \"insertion\" or \"deletion\":\n",
    "                MCInsert(system, solvent, chemical_potential)\n",
    "\n",
    "        print(\"Move, PotentialEnergy [eV], movetype, deltamax, Naccepted, AcceptanceRate\")\n",
    "        print(imove, energy, move, maxdisplacements[move], Naccepted, AcceptanceRate)"
   ]
  },
  {
   "cell_type": "markdown",
   "id": "812fc4b3",
   "metadata": {},
   "source": [
    "We have to have a way to distinguish between probe, slab, and solvent molecules within ASE. The best way to do this is with the atom.tag attribute (int). In the future, reactive moves can cause atoms to change tags and change identities. By convention, we will assume that the last key-value pair in the dictionary can fluctuate and any tag greater than the last belongs to that key type. A dictionary will be used to keep track of which atoms are what in the system. An example API could be as follows:\n",
    "\n",
    "species_tags = {\"Slab\":0, \"probe\":1, \"BA-Hydrogen\":2, \"Solvent\":3}\n",
    "\n",
    "1. If tag == 0, the Atom is part of the slab\n",
    "2. If tag == 1, the Atom is part of the probe\n",
    "3. If tag == 2, the Atom belongs to a Bronsted acid site and can react with something else. \n",
    "3. If tag >= 3, the Atom is part of a solvent molecule"
   ]
  },
  {
   "cell_type": "code",
   "execution_count": null,
   "id": "83606ade",
   "metadata": {},
   "outputs": [],
   "source": []
  },
  {
   "cell_type": "code",
   "execution_count": 39,
   "id": "de4266ba",
   "metadata": {},
   "outputs": [
    {
     "data": {
      "text/plain": [
       "<Popen: returncode: None args: ['/home/woodrowwilson/Programs/miniconda3/bin...>"
      ]
     },
     "execution_count": 39,
     "metadata": {},
     "output_type": "execute_result"
    }
   ],
   "source": [
    "fal = read(\"../../Resources/xyz/furfural/FAL.xyz\")\n",
    "view(fal)"
   ]
  },
  {
   "cell_type": "code",
   "execution_count": 40,
   "id": "5ce2f9bd",
   "metadata": {},
   "outputs": [],
   "source": [
    "rotation_vector = np.random.rand(3)\n",
    "fal.rotate(a=60, v=rotation_vector, center=\"COP\", rotate_cell=False)"
   ]
  },
  {
   "cell_type": "code",
   "execution_count": 41,
   "id": "76b635d3",
   "metadata": {},
   "outputs": [
    {
     "data": {
      "text/plain": [
       "<Popen: returncode: None args: ['/home/woodrowwilson/Programs/miniconda3/bin...>"
      ]
     },
     "execution_count": 41,
     "metadata": {},
     "output_type": "execute_result"
    }
   ],
   "source": [
    "view(fal)"
   ]
  },
  {
   "cell_type": "code",
   "execution_count": 17,
   "id": "b72788ec",
   "metadata": {},
   "outputs": [
    {
     "name": "stdout",
     "output_type": "stream",
     "text": [
      "0\n",
      "0\n",
      "0\n",
      "0\n",
      "0\n",
      "0\n",
      "0\n",
      "0\n",
      "0\n",
      "0\n",
      "0\n",
      "0\n",
      "0\n",
      "0\n",
      "0\n",
      "0\n",
      "0\n",
      "0\n",
      "0\n",
      "0\n",
      "0\n",
      "0\n",
      "0\n",
      "0\n",
      "0\n",
      "0\n",
      "0\n",
      "0\n",
      "0\n",
      "0\n",
      "0\n",
      "0\n",
      "0\n",
      "0\n",
      "0\n",
      "0\n",
      "0\n",
      "0\n",
      "0\n",
      "0\n",
      "0\n",
      "0\n",
      "0\n",
      "0\n",
      "0\n",
      "0\n",
      "0\n",
      "0\n",
      "0\n",
      "0\n",
      "0\n",
      "0\n",
      "0\n",
      "0\n",
      "0\n",
      "0\n",
      "0\n",
      "0\n",
      "0\n",
      "0\n",
      "0\n",
      "0\n",
      "0\n",
      "0\n",
      "0\n",
      "0\n",
      "0\n",
      "0\n",
      "0\n",
      "0\n",
      "0\n",
      "0\n",
      "0\n",
      "0\n",
      "0\n",
      "0\n",
      "0\n",
      "0\n",
      "0\n",
      "0\n",
      "0\n",
      "0\n",
      "0\n",
      "0\n",
      "0\n",
      "0\n",
      "0\n",
      "0\n",
      "0\n",
      "0\n",
      "0\n",
      "0\n",
      "0\n",
      "0\n",
      "0\n",
      "0\n",
      "0\n",
      "0\n",
      "0\n",
      "0\n",
      "0\n",
      "0\n",
      "0\n",
      "0\n",
      "0\n",
      "0\n",
      "0\n",
      "0\n",
      "0\n",
      "0\n",
      "0\n",
      "0\n",
      "0\n",
      "0\n",
      "0\n",
      "0\n",
      "0\n",
      "0\n",
      "0\n",
      "0\n",
      "0\n",
      "0\n",
      "0\n",
      "0\n",
      "0\n",
      "0\n",
      "0\n",
      "0\n",
      "0\n",
      "0\n",
      "0\n",
      "0\n",
      "0\n",
      "0\n",
      "0\n",
      "0\n",
      "0\n",
      "0\n",
      "0\n",
      "0\n",
      "0\n",
      "0\n",
      "0\n",
      "0\n",
      "1\n",
      "1\n",
      "1\n",
      "1\n",
      "1\n",
      "1\n",
      "1\n",
      "1\n",
      "1\n",
      "1\n",
      "1\n"
     ]
    }
   ],
   "source": [
    "   \n",
    "        \n",
    "def CreateProbeOnSlab(uc, probe, miller_indices, nlayers, vacuum):\n",
    "    \n",
    "    slab = surface(uc, miller_indices, nlayers, vacuum)\n",
    "    system = slab.repeat([3,4] + [1])\n",
    "    system = sort(system, system.positions[:,2])\n",
    "    \n",
    "    SetTags(system, 0)\n",
    "    SetTags(probe, 1)\n",
    "    \n",
    "    box = system.get_cell()\n",
    "    x = 0.5*(box[0][0] + box[1][0] + box[2][0])\n",
    "    y = 0.5*(box[0][1] + box[1][1] + box[2][1])\n",
    "    \n",
    "    add_adsorbate(system, probe, 2.5, position=(x, y), offset=None, mol_index=0)\n",
    "    \n",
    "    c = FixAtoms(indices=[atom.index for atom in system if atom.position[2] < 0.5*np.sum(system.get_cell()[:,2])])\n",
    "    system.set_constraint(c)\n",
    "      \n",
    "    return system\n",
    "\n",
    "\n",
    "\n",
    "system = CreateProbeOnSlab(beta, fal, [1,0,1], 4, 7.5)"
   ]
  },
  {
   "cell_type": "code",
   "execution_count": 14,
   "id": "5dd7f62c",
   "metadata": {},
   "outputs": [
    {
     "data": {
      "application/vnd.jupyter.widget-view+json": {
       "model_id": "fa927616e8d54706af5503c456683740",
       "version_major": 2,
       "version_minor": 0
      },
      "text/plain": [
       "HBox(children=(NGLWidget(), VBox(children=(Dropdown(description='Show', options=('All', 'Mo', 'C', 'H', 'O'), …"
      ]
     },
     "metadata": {},
     "output_type": "display_data"
    }
   ],
   "source": [
    "view(system, viewer=\"ngl\")"
   ]
  },
  {
   "cell_type": "code",
   "execution_count": 47,
   "id": "923a8113",
   "metadata": {},
   "outputs": [
    {
     "data": {
      "text/plain": [
       "array([[ 6.67004326,  5.90822358, 17.3151135 ],\n",
       "       [ 5.77823497,  6.49957763, 17.48831564],\n",
       "       [ 6.88206281,  4.56017219, 17.14170231],\n",
       "       [ 8.28185698,  4.397244  , 16.95971344],\n",
       "       [ 8.84364817,  5.65563943, 17.03514251],\n",
       "       [ 7.84468794,  6.59855222, 17.25098654],\n",
       "       [ 6.12086422,  3.78691809, 17.14918627],\n",
       "       [ 8.84105807,  3.48279396, 16.78853216],\n",
       "       [10.2141407 ,  6.13532085, 16.95245405],\n",
       "       [10.32659791,  7.2387939 , 17.03009429],\n",
       "       [11.18313843,  5.38755964, 16.81087511]])"
      ]
     },
     "execution_count": 47,
     "metadata": {},
     "output_type": "execute_result"
    }
   ],
   "source": [
    "indices = [atom.index for atom in system if atom.tag==1]\n",
    "system[indices].positions"
   ]
  },
  {
   "cell_type": "code",
   "execution_count": null,
   "id": "765984cb",
   "metadata": {},
   "outputs": [],
   "source": [
    "system.calc = calc\n",
    "system.get_potential_energy()  "
   ]
  },
  {
   "cell_type": "code",
   "execution_count": 15,
   "id": "5334d661",
   "metadata": {},
   "outputs": [
    {
     "name": "stdout",
     "output_type": "stream",
     "text": [
      "1\n",
      "1\n",
      "1\n",
      "1\n",
      "1\n",
      "1\n",
      "1\n",
      "1\n",
      "1\n",
      "1\n",
      "1\n"
     ]
    }
   ],
   "source": [
    "for atom in fal:\n",
    "    atom.tag = 1\n",
    "    print(atom.tag)"
   ]
  },
  {
   "cell_type": "code",
   "execution_count": 54,
   "id": "68ba9ed4",
   "metadata": {},
   "outputs": [
    {
     "name": "stdout",
     "output_type": "stream",
     "text": [
      "6\n",
      "[4]\n",
      "3\n",
      "1\n"
     ]
    }
   ],
   "source": [
    "x = np.array([2])\n",
    "y = 3\n",
    "Naccepted={\"translation\":0, \"rotation\":0, \"insertion\":0, \"deletion\":0}\n",
    "Nattempted={\"translation\":0, \"rotation\":0, \"insertion\":0, \"deletion\":0}\n",
    "\n",
    "def foo(x,y,Naccepted):\n",
    "    x[0] +=2\n",
    "    Naccepted[\"translation\"] += 1\n",
    "    return y+3\n",
    "\n",
    "bar = foo(x,y, Naccepted)\n",
    "print(bar)\n",
    "print(x)\n",
    "print(y)\n",
    "print(Naccepted[\"translation\"])"
   ]
  },
  {
   "cell_type": "code",
   "execution_count": null,
   "id": "050b102c",
   "metadata": {},
   "outputs": [],
   "source": []
  }
 ],
 "metadata": {
  "kernelspec": {
   "display_name": "Python 3 (ipykernel)",
   "language": "python",
   "name": "python3"
  },
  "language_info": {
   "codemirror_mode": {
    "name": "ipython",
    "version": 3
   },
   "file_extension": ".py",
   "mimetype": "text/x-python",
   "name": "python",
   "nbconvert_exporter": "python",
   "pygments_lexer": "ipython3",
   "version": "3.9.12"
  }
 },
 "nbformat": 4,
 "nbformat_minor": 5
}
