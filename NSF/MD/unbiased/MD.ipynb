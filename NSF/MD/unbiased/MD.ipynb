{
 "cells": [
  {
   "cell_type": "code",
   "execution_count": 1,
   "id": "137c2ca1",
   "metadata": {},
   "outputs": [
    {
     "name": "stdout",
     "output_type": "stream",
     "text": [
      "env: SHELL=/bin/bash\n",
      "env: OMP_NUM_THREADS=8\n",
      "env: VECLIB_MAXIMUM_THREADS=1\n",
      "env: ASE_CP2K_COMMAND=cp2k_shell.ssmp\n"
     ]
    }
   ],
   "source": [
    "%set_env SHELL=/bin/bash\n",
    "%set_env OMP_NUM_THREADS=8\n",
    "%set_env VECLIB_MAXIMUM_THREADS=1\n",
    "%set_env ASE_CP2K_COMMAND=cp2k_shell.ssmp"
   ]
  },
  {
   "cell_type": "code",
   "execution_count": 2,
   "id": "586b2297",
   "metadata": {},
   "outputs": [
    {
     "name": "stderr",
     "output_type": "stream",
     "text": [
      "/home/woodrowwilson/Programs/miniconda3/lib/python3.9/site-packages/scipy/__init__.py:146: UserWarning: A NumPy version >=1.16.5 and <1.23.0 is required for this version of SciPy (detected version 1.23.1\n",
      "  warnings.warn(f\"A NumPy version >={np_minversion} and <{np_maxversion}\"\n"
     ]
    },
    {
     "data": {
      "application/vnd.jupyter.widget-view+json": {
       "model_id": "bd65568777534b889fb72e37620de3e6",
       "version_major": 2,
       "version_minor": 0
      },
      "text/plain": []
     },
     "metadata": {},
     "output_type": "display_data"
    }
   ],
   "source": [
    "# General\n",
    "import os\n",
    "import sys\n",
    "import numpy as np\n",
    "import pandas as pd\n",
    "import matplotlib as mpl\n",
    "import matplotlib.pyplot as plt\n",
    "import time\n",
    "\n",
    "# For building things\n",
    "from ase import Atom, Atoms\n",
    "from ase.io import read, write\n",
    "from ase.io.trajectory import Trajectory\n",
    "from ase.build import molecule, surface, add_adsorbate, add_vacuum, sort\n",
    "from ase.visualize import view\n",
    "from ase.db import connect\n",
    "from ase.geometry import get_layers\n",
    "import nglview as nv\n",
    "\n",
    "# Unit Conversions and Fixing Atoms\n",
    "from ase.units import Bohr,Rydberg,kJ,kB,fs,Hartree,mol,kcal\n",
    "from ase.constraints import FixedPlane, FixedLine, FixAtoms\n",
    "\n",
    "# ASE Calculators\n",
    "from plumed import Plumed\n",
    "from ase.calculators.cp2k import CP2K\n",
    "from ase.calculators.lj import LennardJones\n",
    "from ase.calculators.plumed import Plumed\n",
    "from ase.calculators.idealgas import IdealGas\n",
    "\n",
    "# Geometry Optimizations and Normal Mode Analysis\n",
    "from ase.optimize import LBFGS, FIRE\n",
    "from ase.vibrations import Vibrations\n",
    "from ase.thermochemistry import IdealGasThermo\n",
    "\n",
    "# EOS fitting for Unit Cells\n",
    "from ase.eos import EquationOfState, calculate_eos\n",
    "\n",
    "# Molecular Dynamics\n",
    "from ase.md.velocitydistribution import MaxwellBoltzmannDistribution\n",
    "from ase.md.verlet import VelocityVerlet\n",
    "from ase.md.langevin import Langevin\n",
    "from ase.md.npt import NPT\n",
    "\n",
    "cwd = os.getcwd()\n",
    "\n",
    "from mycalculators import *"
   ]
  },
  {
   "cell_type": "code",
   "execution_count": 69,
   "id": "a3626e29",
   "metadata": {},
   "outputs": [
    {
     "name": "stderr",
     "output_type": "stream",
     "text": [
      "/home/woodrowwilson/Programs/miniconda3/lib/python3.9/site-packages/scipy/__init__.py:146: UserWarning: A NumPy version >=1.16.5 and <1.23.0 is required for this version of SciPy (detected version 1.23.1\n",
      "  warnings.warn(f\"A NumPy version >={np_minversion} and <{np_maxversion}\"\n"
     ]
    }
   ],
   "source": [
    "def main():\n",
    "    \n",
    "    unitcelldb = \"../../SurfacesAndBulk-HPC/bulk.db\"\n",
    "    probefile = \"../../../Resources/xyz/furfural/FAL.xyz\"\n",
    "    \n",
    "    metal =  \"Beta-Mo2C_mp-1221498\"\n",
    "    functional = \"rVV10\"\n",
    "    \n",
    "    calc = CP2KCalculator(ecut=400, functional=functional, scf=20, orbital_transform=True, voronoi=True)\n",
    "    \n",
    "    if metal == \"Alpha-Mo2C_mp-1552\":\n",
    "        miller=(1,2,0)\n",
    "        repeats=(2,3,1)\n",
    "        layers = 3\n",
    "        \n",
    "    elif metal == \"Beta-Mo2C_mp-1221498\":\n",
    "        miller=(1,0,1)\n",
    "        repeats=(3,4,1)\n",
    "        layers = 3\n",
    "    \n",
    "    db = connect(unitcelldb)\n",
    "    row = db.get(xcfunctional=functional, metal=metal)\n",
    "    uc = row.toatoms()\n",
    "    \n",
    "    slab = surface(lattice=uc, indices=miller,vacuum=10.0, layers=layers, periodic=True)\n",
    "    \n",
    "    system = create_probe_on_surface(slab, read(probefile),nrepeats=repeats, height=2.5)\n",
    "    \n",
    "    set_tags(system,len(slab.repeat(repeats)), len(read(probefile)))\n",
    "    \n",
    "    c = FixAtoms(indices=[atom.index for atom in system if atom.position[2] < 0.5*system.get_cell()[2][2]])\n",
    "    system.set_constraint(c)\n",
    "    \n",
    "    \n",
    "    md = Langevin(\n",
    "        system, \n",
    "        temperature_K=450.0, \n",
    "        friction=0.01, \n",
    "        logfile = \"langevin.log\", \n",
    "        trajectory = \"langevin.traj\"\n",
    "    )\n",
    "    \n",
    "    md.run(40000)\n",
    "    #view(system)\n",
    "\n",
    "    \n",
    "def set_tags(atoms, slablength, probelength):\n",
    "    \n",
    "    for i in range(0, slablength):\n",
    "        atoms[i].tag = 0\n",
    "        \n",
    "    for i in range(slablength, probelength+slablength):\n",
    "        atoms[i].tag = 1\n",
    "\n",
    "\n",
    "def create_probe_on_surface(zeolite, probe, height=1.5, nrepeats=(1,1,1)):\n",
    "\n",
    "    system = zeolite.repeat(nrepeats)\n",
    "    system = sort(system, system.positions[:,2])\n",
    "    \n",
    "    box = system.get_cell()\n",
    "    x = 0.5*(box[0][0] + box[1][0] + box[2][0])\n",
    "    y = 0.5*(box[0][1] + box[1][1] + box[2][1])\n",
    "    \n",
    "    # Get the center of mass of the probe\n",
    "    r_com = probe.get_center_of_mass()\n",
    "    \n",
    "    # Find out how far the COM is from index 0\n",
    "    delta = probe.positions[0] - r_com\n",
    "    \n",
    "    add_adsorbate(system, probe, height, position=(x+delta[0], y+delta[1]), offset=None, mol_index=0)\n",
    "      \n",
    "    return system\n",
    "\n",
    "main()"
   ]
  },
  {
   "cell_type": "code",
   "execution_count": null,
   "id": "9ad936fa",
   "metadata": {},
   "outputs": [],
   "source": []
  }
 ],
 "metadata": {
  "kernelspec": {
   "display_name": "Python 3 (ipykernel)",
   "language": "python",
   "name": "python3"
  },
  "language_info": {
   "codemirror_mode": {
    "name": "ipython",
    "version": 3
   },
   "file_extension": ".py",
   "mimetype": "text/x-python",
   "name": "python",
   "nbconvert_exporter": "python",
   "pygments_lexer": "ipython3",
   "version": "3.9.12"
  }
 },
 "nbformat": 4,
 "nbformat_minor": 5
}
