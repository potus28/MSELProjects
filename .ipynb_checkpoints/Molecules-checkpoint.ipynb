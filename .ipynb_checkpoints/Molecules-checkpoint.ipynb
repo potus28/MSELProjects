{
 "cells": [
  {
   "cell_type": "markdown",
   "id": "00a2c82c",
   "metadata": {},
   "source": [
    "# ASE & CP2K"
   ]
  },
  {
   "cell_type": "markdown",
   "id": "1c079c1a",
   "metadata": {},
   "source": [
    "Set some environment variables for the notebook. For doing this on a HPC resource, these would be set as export commands in the slurm script. Also, the ASE_CP2K_COMMAND would change to \"srun cp2k_shell.psmp\""
   ]
  },
  {
   "cell_type": "code",
   "execution_count": 1,
   "id": "eb8ab910",
   "metadata": {},
   "outputs": [
    {
     "name": "stdout",
     "output_type": "stream",
     "text": [
      "env: SHELL=/bin/bash\n",
      "env: OMP_NUM_THREADS=8\n"
     ]
    }
   ],
   "source": [
    "%set_env SHELL=/bin/bash\n",
    "%set_env OMP_NUM_THREADS=8"
   ]
  },
  {
   "cell_type": "code",
   "execution_count": null,
   "id": "efc60f12",
   "metadata": {},
   "outputs": [],
   "source": [
    "# If on a Mac\n",
    "%set_env VECLIB_MAXIMUM_THREADS=1\n",
    "%set_env ASE_CP2K_COMMAND=/Users/Woody/Programs/cp2k/9.1/exe/Darwin-gfortran/cp2k_shell.ssmp"
   ]
  },
  {
   "cell_type": "code",
   "execution_count": 2,
   "id": "4654f11c",
   "metadata": {},
   "outputs": [
    {
     "name": "stdout",
     "output_type": "stream",
     "text": [
      "env: ASE_CP2K_COMMAND=/home/woodrowwilson/Programs/cp2k/9.1/exe/PopOS-x86-64-gfortran/cp2k_shell.ssmp\n"
     ]
    }
   ],
   "source": [
    "# If on Linux\n",
    "%set_env ASE_CP2K_COMMAND=/home/woodrowwilson/Programs/cp2k/9.1/exe/PopOS-x86-64-gfortran/cp2k_shell.ssmp"
   ]
  },
  {
   "cell_type": "markdown",
   "id": "703fd075",
   "metadata": {},
   "source": [
    "## Modules"
   ]
  },
  {
   "cell_type": "code",
   "execution_count": 3,
   "id": "e1467479",
   "metadata": {
    "scrolled": true
   },
   "outputs": [],
   "source": [
    "# General\n",
    "import os\n",
    "import sys\n",
    "import numpy as np\n",
    "import pandas as pd\n",
    "import matplotlib as mpl\n",
    "import matplotlib.pyplot as plt\n",
    "\n",
    "# For building things\n",
    "from ase import Atom, Atoms\n",
    "from ase.io import read, write\n",
    "from ase.io.trajectory import Trajectory\n",
    "from ase.build import molecule\n",
    "from ase.visualize import view\n",
    "\n",
    "# Unit Conversions and Fixing Atoms\n",
    "from ase.units import Bohr,Rydberg,kJ,kB,fs,Hartree,mol,kcal\n",
    "from ase.constraints import FixedPlane, FixedLine, FixAtoms\n",
    "\n",
    "# ASE Calculators\n",
    "#from plumed import Plumed\n",
    "from ase.calculators.cp2k import CP2K\n",
    "from ase.calculators.lj import LennardJones\n",
    "#from ase.calculators.plumed import Plumed\n",
    "from ase.calculators.idealgas import IdealGas\n",
    "\n",
    "# Geometry Optimizations and Normal Mode Analysis\n",
    "from ase.optimize import LBFGS, FIRE\n",
    "from ase.vibrations import Vibrations\n",
    "from ase.thermochemistry import IdealGasThermo\n",
    "\n",
    "# EOS fitting for Unit Cells\n",
    "from ase.eos import EquationOfState\n",
    "\n",
    "# Molecular Dynamics\n",
    "from ase.md.velocitydistribution import MaxwellBoltzmannDistribution\n",
    "from ase.md.verlet import VelocityVerlet\n",
    "from ase.md.langevin import Langevin\n",
    "from ase.md.npt import NPT"
   ]
  },
  {
   "cell_type": "code",
   "execution_count": 4,
   "id": "fae0e256",
   "metadata": {},
   "outputs": [
    {
     "data": {
      "text/plain": [
       "'/home/woodrowwilson/Documents/Projects/MSELProjects'"
      ]
     },
     "execution_count": 4,
     "metadata": {},
     "output_type": "execute_result"
    }
   ],
   "source": [
    "cwd = os.getcwd()\n",
    "cwd"
   ]
  },
  {
   "cell_type": "code",
   "execution_count": 4,
   "id": "2e0cbb56",
   "metadata": {},
   "outputs": [],
   "source": [
    "def myCP2KCalculator(tag, functional, ecut):\n",
    "    \"\"\"Creates a CP2K calculator object with Settings for Production Runs\n",
    "    tag -> label for cp2k output\n",
    "    functional -> Either PBE+D3, BEEFVDW, rVV10, or LDA+FermiDirac\n",
    "    ecut -> PW Kinetic Energy Cutoff (Rydberg)\n",
    "    \"\"\"\n",
    "    \n",
    "    if functional == \"PBE+D3\":\n",
    "        xc = \"PBE\"\n",
    "        inp = '''\n",
    "&GLOBAL\n",
    "  WALLTIME 47:58:00\n",
    "&END GLOBAL\n",
    "&FORCE_EVAL\n",
    "  &DFT\n",
    "    SURFACE_DIPOLE_CORRECTION .FALSE.\n",
    "    SURF_DIP_DIR Z\n",
    "    &SCF\n",
    "      &OT .TRUE.\n",
    "        MINIMIZER DIIS\n",
    "        PRECONDITIONER FULL_SINGLE_INVERSE\n",
    "      &END OT\n",
    "      &OUTER_SCF .TRUE.\n",
    "        MAX_SCF 50\n",
    "      &END OUTER_SCF\n",
    "    &END SCF\n",
    "    &XC\n",
    "      &VDW_POTENTIAL\n",
    "        POTENTIAL_TYPE PAIR_POTENTIAL\n",
    "        &PAIR_POTENTIAL\n",
    "          R_CUTOFF 15.0\n",
    "          TYPE DFTD3\n",
    "          CALCULATE_C9_TERM .FALSE.\n",
    "          REFERENCE_FUNCTIONAL PBE\n",
    "          PARAMETER_FILE_NAME dftd3.dat\n",
    "        &END PAIR_POTENTIAL\n",
    "      &END VDW_POTENTIAL\n",
    "      &XC_GRID\n",
    "        XC_DERIV NN10_SMOOTH\n",
    "        XC_SMOOTH_RHO NN10\n",
    "      &END\n",
    "    &END XC\n",
    "    &PRINT\n",
    "      &E_DENSITY_BQB OFF\n",
    "      &END E_DENSITY_BQB\n",
    "      &VORONOI ON\n",
    "          OUTPUT_TEXT .TRUE.\n",
    "      &END VORONOI\n",
    "    &END PRINT\n",
    "  &END DFT\n",
    "&END FORCE_EVAL\n",
    "'''\n",
    "    elif functional == \"BEEFVDW\":\n",
    "        xc = \"GGA_XC_BEEFVDW\"\n",
    "        inp = '''\n",
    "&GLOBAL\n",
    "  WALLTIME 47:58:00\n",
    "&END GLOBAL\n",
    "&FORCE_EVAL\n",
    "  &DFT\n",
    "    SURFACE_DIPOLE_CORRECTION .FALSE.\n",
    "    SURF_DIP_DIR Z\n",
    "    &SCF\n",
    "      &OT .TRUE.\n",
    "        MINIMIZER DIIS\n",
    "        PRECONDITIONER FULL_SINGLE_INVERSE\n",
    "      &END OT\n",
    "      &OUTER_SCF .TRUE.\n",
    "        MAX_SCF 50\n",
    "      &END OUTER_SCF\n",
    "    &END SCF\n",
    "    &XC\n",
    "      &XC_GRID\n",
    "        XC_DERIV NN10_SMOOTH\n",
    "        XC_SMOOTH_RHO NN10\n",
    "      &END\n",
    "      &VDW_POTENTIAL\n",
    "          &NON_LOCAL\n",
    "              TYPE LMKLL\n",
    "              KERNEL_FILE_NAME vdW_kernel_table.dat\n",
    "          &END NON_LOCAL\n",
    "      &END VDW_POTENTIAL\n",
    "    &END XC\n",
    "    &PRINT\n",
    "      &E_DENSITY_BQB OFF\n",
    "      &END E_DENSITY_BQB\n",
    "      &VORONOI ON\n",
    "          OUTPUT_TEXT .TRUE.\n",
    "      &END VORONOI\n",
    "    &END PRINT\n",
    "  &END DFT\n",
    "&END FORCE_EVAL\n",
    "'''\n",
    "    elif functional == \"rVV10\":\n",
    "        xc = None\n",
    "        inp = '''\n",
    "&GLOBAL\n",
    "  WALLTIME 47:58:00\n",
    "&END GLOBAL\n",
    "&FORCE_EVAL\n",
    "  &DFT\n",
    "    SURFACE_DIPOLE_CORRECTION .FALSE.\n",
    "    SURF_DIP_DIR Z\n",
    "    &SCF\n",
    "      &OT .TRUE.\n",
    "        MINIMIZER DIIS\n",
    "        PRECONDITIONER FULL_SINGLE_INVERSE\n",
    "      &END OT\n",
    "      &OUTER_SCF .TRUE.\n",
    "        MAX_SCF 50\n",
    "      &END OUTER_SCF\n",
    "    &END SCF\n",
    "    &XC\n",
    "       &XC_FUNCTIONAL\n",
    "         &GGA_X_RPW86\n",
    "         &END GGA_X_RPW86\n",
    "         &GGA_C_PBE\n",
    "         &END GGA_C_PBE\n",
    "       &END XC_FUNCTIONAL\n",
    "       &vdW_POTENTIAL\n",
    "          DISPERSION_FUNCTIONAL NON_LOCAL\n",
    "          &NON_LOCAL\n",
    "            TYPE RVV10\n",
    "            PARAMETERS 6.3 0.0093\n",
    "            VERBOSE_OUTPUT\n",
    "            KERNEL_FILE_NAME rVV10_kernel_table.dat\n",
    "            CUTOFF 40\n",
    "          &END NON_LOCAL\n",
    "       &END vdW_POTENTIAL\n",
    "      &XC_GRID\n",
    "        XC_DERIV NN10_SMOOTH\n",
    "        XC_SMOOTH_RHO NN10\n",
    "      &END\n",
    "    &END XC\n",
    "    &PRINT\n",
    "      &E_DENSITY_BQB OFF\n",
    "      &END E_DENSITY_BQB\n",
    "      &VORONOI ON\n",
    "          OUTPUT_TEXT .TRUE.\n",
    "      &END VORONOI\n",
    "    &END PRINT\n",
    "  &END DFT\n",
    "&END FORCE_EVAL\n",
    "'''\n",
    "    elif functional == \"LDA+FermiDirac\":\n",
    "        xc = \"LDA\"\n",
    "        inp = '''\n",
    "&GLOBAL\n",
    "  WALLTIME 47:58:00\n",
    "&END GLOBAL\n",
    "&FORCE_EVAL\n",
    "  &DFT\n",
    "    &KPOINTS\n",
    "        SCHEME MONKHORST-PACK 6 6 6\n",
    "    &END KPOINTS\n",
    "    &SCF\n",
    "      ADDED_MOS 10\n",
    "      &SMEAR ON\n",
    "          METHOD FERMI_DIRAC\n",
    "          ELECTRONIC_TEMPERATURE [K] 300\n",
    "      &END SMEAR\n",
    "      &MIXING .TRUE.\n",
    "          METHOD BROYDEN_MIXING\n",
    "      &END MIXING\n",
    "      &OUTER_SCF .TRUE.\n",
    "        MAX_SCF 50\n",
    "      &END OUTER_SCF\n",
    "    &END SCF\n",
    "    &XC\n",
    "      &XC_GRID\n",
    "        XC_DERIV NN10_SMOOTH\n",
    "        XC_SMOOTH_RHO NN10\n",
    "      &END\n",
    "    &END XC\n",
    "    &PRINT\n",
    "      &E_DENSITY_BQB OFF\n",
    "      &END E_DENSITY_BQB\n",
    "      &VORONOI OFF\n",
    "          OUTPUT_EMP .TRUE.\n",
    "      &END VORONOI\n",
    "    &END PRINT\n",
    "  &END DFT\n",
    "&END FORCE_EVAL\n",
    "'''\n",
    "        \n",
    "    elif functional == \"PBED3+FermiDirac\":\n",
    "        xc = \"PBE\"\n",
    "        inp = '''\n",
    "&GLOBAL\n",
    "  WALLTIME 47:58:00\n",
    "&END GLOBAL\n",
    "&FORCE_EVAL\n",
    "  &DFT\n",
    "    &KPOINTS\n",
    "        SCHEME MONKHORST-PACK 6 6 6\n",
    "    &END KPOINTS\n",
    "    &SCF\n",
    "      ADDED_MOS 10\n",
    "      &SMEAR ON\n",
    "          METHOD FERMI_DIRAC\n",
    "          ELECTRONIC_TEMPERATURE [K] 300\n",
    "      &END SMEAR\n",
    "      &MIXING .TRUE.\n",
    "          METHOD BROYDEN_MIXING\n",
    "      &END MIXING\n",
    "      &OUTER_SCF .TRUE.\n",
    "        MAX_SCF 50\n",
    "      &END OUTER_SCF\n",
    "    &END SCF\n",
    "    &XC\n",
    "      &VDW_POTENTIAL\n",
    "        POTENTIAL_TYPE PAIR_POTENTIAL\n",
    "        &PAIR_POTENTIAL\n",
    "          R_CUTOFF 15.0\n",
    "          TYPE DFTD3\n",
    "          CALCULATE_C9_TERM .FALSE.\n",
    "          REFERENCE_FUNCTIONAL PBE\n",
    "          PARAMETER_FILE_NAME dftd3.dat\n",
    "        &END PAIR_POTENTIAL\n",
    "      &END VDW_POTENTIAL\n",
    "      &XC_GRID\n",
    "        XC_DERIV NN10_SMOOTH\n",
    "        XC_SMOOTH_RHO NN10\n",
    "      &END\n",
    "    &END XC\n",
    "    &PRINT\n",
    "      &E_DENSITY_BQB OFF\n",
    "      &END E_DENSITY_BQB\n",
    "      &VORONOI OFF\n",
    "          OUTPUT_EMP .TRUE.\n",
    "      &END VORONOI\n",
    "    &END PRINT\n",
    "  &END DFT\n",
    "&END FORCE_EVAL\n",
    "'''\n",
    "    else:\n",
    "        xc = \"LDA\"\n",
    "        inp = ''''''\n",
    "        \n",
    "    calc = CP2K(\n",
    "        auto_write=False,\n",
    "        basis_set=\"DZVP-MOLOPT-SR-GTH\",\n",
    "        basis_set_file=\"BASIS_MOLOPT\",\n",
    "        charge=0,\n",
    "        cutoff = ecut*Rydberg,\n",
    "        debug = False,\n",
    "        force_eval_method = \"Quickstep\",\n",
    "        xc = xc,\n",
    "        inp = inp,\n",
    "        max_scf = 50,\n",
    "        poisson_solver =\"auto\",\n",
    "        potential_file = \"POTENTIAL\",\n",
    "        pseudo_potential = \"GTH-PBE\",\n",
    "        stress_tensor = True,\n",
    "        print_level = \"LOW\",\n",
    "        label = tag,\n",
    "    )\n",
    "    return calc"
   ]
  },
  {
   "cell_type": "markdown",
   "id": "7dde5769",
   "metadata": {},
   "source": [
    "## Unit Cell Equation of State Fitting\n",
    "\n",
    "For finding optimal lattice vectors, ASE can calculate the equation of state for a unit cell."
   ]
  },
  {
   "cell_type": "code",
   "execution_count": 8,
   "id": "aa27216c",
   "metadata": {},
   "outputs": [],
   "source": [
    "def MyEOSFitting(atoms, dirname):\n",
    "\n",
    "    if not os.path.isdir(dirname):\n",
    "        os.mkdir(dirname)\n",
    "    else:\n",
    "        pass\n",
    "    \n",
    "    os.chdir(dirname)\n",
    "    \n",
    "    atoms.calc = myCP2KCalculator(dirname, \"PBED3+FermiDirac\", 400.0)\n",
    "    \n",
    "    cell = atoms.get_cell()\n",
    "    traj = Trajectory('eos.traj', 'w')\n",
    "    for x in np.linspace(0.95, 1.05, 5):\n",
    "        print(cell * x)\n",
    "        atoms.set_cell(cell * x, scale_atoms=True)\n",
    "        atoms.get_potential_energy()\n",
    "        traj.write(atoms)\n",
    "        \n",
    "    os.chdir(cwd)\n",
    "    \n",
    "    configs = read(dirname+'/eos.traj@0:5')  # read 5 configurations\n",
    "    \n",
    "    # Extract volumes and energies:\n",
    "    volumes = [atoms.get_volume() for atoms in configs]\n",
    "    energies = [atoms.get_potential_energy() for atoms in configs]\n",
    "    eos = EquationOfState(volumes, energies)\n",
    "    \n",
    "    v0, e0, B = eos.fit()\n",
    "    \n",
    "    s = (v0/cell.volume)**(1./3.)\n",
    "    atoms.set_cell(cell*s, scale_atoms=True)\n",
    "    print(\"Scalar: \", s)\n",
    "    print(\"Lattice Vectors: \")\n",
    "    print(cell*s)\n",
    "    print(\"Evaluating at Minimum:\", atoms.get_potential_energy())\n",
    "    print(\"Bulk Modulus [GPa]:\", B / kJ * 1.0e24)\n",
    "    eos.plot()\n",
    "    "
   ]
  },
  {
   "cell_type": "code",
   "execution_count": 9,
   "id": "c50ba821",
   "metadata": {},
   "outputs": [
    {
     "data": {
      "application/vnd.jupyter.widget-view+json": {
       "model_id": "b7eb2829b2fd42259263785fe527944d",
       "version_major": 2,
       "version_minor": 0
      },
      "text/plain": [
       "HBox(children=(NGLWidget(), VBox(children=(Dropdown(description='Show', options=('All', 'Mo', 'C'), value='All…"
      ]
     },
     "metadata": {},
     "output_type": "display_data"
    }
   ],
   "source": [
    "beta = read(\"Resources/cif/tmc/Beta-Mo2C_mp-1221498_conventional_standard.cif\")\n",
    "view(beta, viewer = \"ngl\")"
   ]
  },
  {
   "cell_type": "code",
   "execution_count": 10,
   "id": "1e9815af",
   "metadata": {
    "scrolled": true
   },
   "outputs": [
    {
     "name": "stdout",
     "output_type": "stream",
     "text": [
      "[[ 2.91944646  0.          0.        ]\n",
      " [-1.45972323  2.5283148   0.        ]\n",
      " [ 0.          0.          4.41991057]]\n",
      "[[ 2.996274   0.         0.       ]\n",
      " [-1.498137   2.5948494  0.       ]\n",
      " [ 0.         0.         4.536224 ]]\n",
      "[[ 3.07310154  0.          0.        ]\n",
      " [-1.53655077  2.661384    0.        ]\n",
      " [ 0.          0.          4.65253744]]\n",
      "[[ 3.14992908  0.          0.        ]\n",
      " [-1.57496454  2.7279186   0.        ]\n",
      " [ 0.          0.          4.76885088]]\n",
      "[[ 3.22675662  0.          0.        ]\n",
      " [-1.61337831  2.7944532   0.        ]\n",
      " [ 0.          0.          4.88516431]]\n",
      "Scalar:  0.988158203623384\n",
      "Lattice Vectors: \n",
      "[[ 3.0367105   0.          0.        ]\n",
      " [-1.51835525  2.62986843  0.        ]\n",
      " [ 0.          0.          4.59744304]]\n",
      "Evaluating at Minimum: -3868.1991952894\n",
      "Bulk Modulus [GPa]: 459.20858919395494\n"
     ]
    },
    {
     "data": {
      "image/png": "[encoded data removed]",
      "text/plain": [
       "<Figure size 432x288 with 1 Axes>"
      ]
     },
     "metadata": {
      "needs_background": "light"
     },
     "output_type": "display_data"
    }
   ],
   "source": [
    "MyEOSFitting(beta, \"simulations_tmc_uc-eos_beta\")"
   ]
  },
  {
   "cell_type": "code",
   "execution_count": 11,
   "id": "7604daec",
   "metadata": {},
   "outputs": [
    {
     "data": {
      "application/vnd.jupyter.widget-view+json": {
       "model_id": "2389b1eb89534c2b808b1a3ec9a58537",
       "version_major": 2,
       "version_minor": 0
      },
      "text/plain": [
       "HBox(children=(NGLWidget(), VBox(children=(Dropdown(description='Show', options=('All', 'Mo', 'C'), value='All…"
      ]
     },
     "metadata": {},
     "output_type": "display_data"
    }
   ],
   "source": [
    "alpha = read(\"Resources/cif/tmc/Alpha-Mo2C_mp-1552_conventional_standard.cif\")\n",
    "view(alpha, viewer = \"ngl\")"
   ]
  },
  {
   "cell_type": "code",
   "execution_count": 12,
   "id": "bbe4ab80",
   "metadata": {},
   "outputs": [
    {
     "name": "stdout",
     "output_type": "stream",
     "text": [
      "[[4.51639985 0.         0.        ]\n",
      " [0.         4.97940664 0.        ]\n",
      " [0.         0.         5.77266095]]\n",
      "[[4.63525247 0.         0.        ]\n",
      " [0.         5.11044365 0.        ]\n",
      " [0.         0.         5.92457308]]\n",
      "[[4.7541051  0.         0.        ]\n",
      " [0.         5.24148067 0.        ]\n",
      " [0.         0.         6.07648521]]\n",
      "[[4.87295773 0.         0.        ]\n",
      " [0.         5.37251769 0.        ]\n",
      " [0.         0.         6.22839734]]\n",
      "[[4.99181036 0.         0.        ]\n",
      " [0.         5.5035547  0.        ]\n",
      " [0.         0.         6.38030947]]\n",
      "Scalar:  0.9901243536847008\n",
      "Lattice Vectors: \n",
      "[[4.70715524 0.         0.        ]\n",
      " [0.         5.18971766 0.        ]\n",
      " [0.         0.         6.01647599]]\n",
      "Evaluating at Minimum: -15472.943879481\n",
      "Bulk Modulus [GPa]: 302.05581940301084\n"
     ]
    },
    {
     "data": {
      "image/png": "[encoded data removed]",
      "text/plain": [
       "<Figure size 432x288 with 1 Axes>"
      ]
     },
     "metadata": {
      "needs_background": "light"
     },
     "output_type": "display_data"
    }
   ],
   "source": [
    "MyEOSFitting(alpha, \"simulations_tmc_uc-eos_alpha\")"
   ]
  },
  {
   "cell_type": "code",
   "execution_count": null,
   "id": "c69496ff",
   "metadata": {},
   "outputs": [],
   "source": []
  }
 ],
 "metadata": {
  "kernelspec": {
   "display_name": "Python 3 (ipykernel)",
   "language": "python",
   "name": "python3"
  },
  "language_info": {
   "codemirror_mode": {
    "name": "ipython",
    "version": 3
   },
   "file_extension": ".py",
   "mimetype": "text/x-python",
   "name": "python",
   "nbconvert_exporter": "python",
   "pygments_lexer": "ipython3",
   "version": "3.9.12"
  }
 },
 "nbformat": 4,
 "nbformat_minor": 5
}
