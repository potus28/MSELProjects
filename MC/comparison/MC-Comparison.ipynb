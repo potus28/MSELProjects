{
 "cells": [
  {
   "cell_type": "markdown",
   "id": "11642b96",
   "metadata": {},
   "source": [
    "# Monte Carlo Justificaction"
   ]
  },
  {
   "cell_type": "markdown",
   "id": "b27672f0",
   "metadata": {},
   "source": [
    "## MoSDeF Cassandra"
   ]
  },
  {
   "cell_type": "code",
   "execution_count": 4,
   "id": "b98356f0",
   "metadata": {},
   "outputs": [
    {
     "name": "stderr",
     "output_type": "stream",
     "text": [
      "\n",
      "\u001b[91m################################################################\u001b[0m\n",
      "\n",
      "The code at conversion.py:252 requires the \"rdkit\" package\n",
      "\n",
      "rdkit can be installed with conda using:\n",
      "\n",
      "# conda install -c conda-forge rdkit\n",
      "\n",
      "or from source following instructions at:\n",
      "\n",
      "https://www.rdkit.org/docs/Install.html#installation-from-source\n",
      "\n",
      "\u001b[91m################################################################\u001b[0m\n"
     ]
    },
    {
     "ename": "DelayImportError",
     "evalue": "\nThe code at conversion.py:252 requires the \"rdkit\" package\n\nrdkit can be installed with conda using:\n\n# conda install -c conda-forge rdkit\n\nor from source following instructions at:\n\nhttps://www.rdkit.org/docs/Install.html#installation-from-source\n",
     "output_type": "error",
     "traceback": [
      "\u001b[0;31m---------------------------------------------------------------------------\u001b[0m",
      "\u001b[0;31mModuleNotFoundError\u001b[0m                       Traceback (most recent call last)",
      "File \u001b[0;32m~/Programs/miniconda3/lib/python3.9/site-packages/mbuild/utils/io.py:227\u001b[0m, in \u001b[0;36mimport_\u001b[0;34m(module)\u001b[0m\n\u001b[1;32m    226\u001b[0m \u001b[38;5;28;01mtry\u001b[39;00m:\n\u001b[0;32m--> 227\u001b[0m     \u001b[38;5;28;01mreturn\u001b[39;00m \u001b[43mimportlib\u001b[49m\u001b[38;5;241;43m.\u001b[39;49m\u001b[43mimport_module\u001b[49m\u001b[43m(\u001b[49m\u001b[43mmodule\u001b[49m\u001b[43m)\u001b[49m\n\u001b[1;32m    228\u001b[0m \u001b[38;5;28;01mexcept\u001b[39;00m \u001b[38;5;167;01mImportError\u001b[39;00m \u001b[38;5;28;01mas\u001b[39;00m e:\n",
      "File \u001b[0;32m~/Programs/miniconda3/lib/python3.9/importlib/__init__.py:127\u001b[0m, in \u001b[0;36mimport_module\u001b[0;34m(name, package)\u001b[0m\n\u001b[1;32m    126\u001b[0m         level \u001b[38;5;241m+\u001b[39m\u001b[38;5;241m=\u001b[39m \u001b[38;5;241m1\u001b[39m\n\u001b[0;32m--> 127\u001b[0m \u001b[38;5;28;01mreturn\u001b[39;00m \u001b[43m_bootstrap\u001b[49m\u001b[38;5;241;43m.\u001b[39;49m\u001b[43m_gcd_import\u001b[49m\u001b[43m(\u001b[49m\u001b[43mname\u001b[49m\u001b[43m[\u001b[49m\u001b[43mlevel\u001b[49m\u001b[43m:\u001b[49m\u001b[43m]\u001b[49m\u001b[43m,\u001b[49m\u001b[43m \u001b[49m\u001b[43mpackage\u001b[49m\u001b[43m,\u001b[49m\u001b[43m \u001b[49m\u001b[43mlevel\u001b[49m\u001b[43m)\u001b[49m\n",
      "File \u001b[0;32m<frozen importlib._bootstrap>:1030\u001b[0m, in \u001b[0;36m_gcd_import\u001b[0;34m(name, package, level)\u001b[0m\n",
      "File \u001b[0;32m<frozen importlib._bootstrap>:1007\u001b[0m, in \u001b[0;36m_find_and_load\u001b[0;34m(name, import_)\u001b[0m\n",
      "File \u001b[0;32m<frozen importlib._bootstrap>:984\u001b[0m, in \u001b[0;36m_find_and_load_unlocked\u001b[0;34m(name, import_)\u001b[0m\n",
      "\u001b[0;31mModuleNotFoundError\u001b[0m: No module named 'rdkit'",
      "\nDuring handling of the above exception, another exception occurred:\n",
      "\u001b[0;31mDelayImportError\u001b[0m                          Traceback (most recent call last)",
      "Input \u001b[0;32mIn [4]\u001b[0m, in \u001b[0;36m<cell line: 7>\u001b[0;34m()\u001b[0m\n\u001b[1;32m      4\u001b[0m \u001b[38;5;28;01mimport\u001b[39;00m \u001b[38;5;21;01munyt\u001b[39;00m \u001b[38;5;28;01mas\u001b[39;00m \u001b[38;5;21;01mu\u001b[39;00m\n\u001b[1;32m      6\u001b[0m \u001b[38;5;66;03m# Use mbuild to create a methane\u001b[39;00m\n\u001b[0;32m----> 7\u001b[0m adsorbate \u001b[38;5;241m=\u001b[39m \u001b[43mmbuild\u001b[49m\u001b[38;5;241;43m.\u001b[39;49m\u001b[43mload\u001b[49m\u001b[43m(\u001b[49m\u001b[38;5;124;43m\"\u001b[39;49m\u001b[38;5;124;43mAr\u001b[39;49m\u001b[38;5;124;43m\"\u001b[39;49m\u001b[43m,\u001b[49m\u001b[43m \u001b[49m\u001b[43msmiles\u001b[49m\u001b[38;5;241;43m=\u001b[39;49m\u001b[38;5;28;43;01mTrue\u001b[39;49;00m\u001b[43m)\u001b[49m\n\u001b[1;32m      9\u001b[0m \u001b[38;5;66;03m# Create an empty mbuild.Box\u001b[39;00m\n\u001b[1;32m     10\u001b[0m box \u001b[38;5;241m=\u001b[39m mbuild\u001b[38;5;241m.\u001b[39mBox(lengths\u001b[38;5;241m=\u001b[39m[\u001b[38;5;241m10.0\u001b[39m, \u001b[38;5;241m10.0\u001b[39m, \u001b[38;5;241m10.0\u001b[39m])\n",
      "File \u001b[0;32m~/Programs/miniconda3/lib/python3.9/site-packages/mbuild/conversion.py:115\u001b[0m, in \u001b[0;36mload\u001b[0;34m(filename_or_object, relative_to_module, compound, coords_only, rigid, smiles, infer_hierarchy, backend, ignore_box_warn, **kwargs)\u001b[0m\n\u001b[1;32m    112\u001b[0m \u001b[38;5;28;01melif\u001b[39;00m smiles:\n\u001b[1;32m    113\u001b[0m     \u001b[38;5;66;03m# Ignore the box info for SMILES (its never there)\u001b[39;00m\n\u001b[1;32m    114\u001b[0m     ignore_box_warn \u001b[38;5;241m=\u001b[39m \u001b[38;5;28;01mTrue\u001b[39;00m\n\u001b[0;32m--> 115\u001b[0m     \u001b[38;5;28;01mreturn\u001b[39;00m \u001b[43mload_smiles\u001b[49m\u001b[43m(\u001b[49m\n\u001b[1;32m    116\u001b[0m \u001b[43m        \u001b[49m\u001b[43msmiles_or_filename\u001b[49m\u001b[38;5;241;43m=\u001b[39;49m\u001b[43mfilename_or_object\u001b[49m\u001b[43m,\u001b[49m\n\u001b[1;32m    117\u001b[0m \u001b[43m        \u001b[49m\u001b[43mcompound\u001b[49m\u001b[38;5;241;43m=\u001b[39;49m\u001b[43mcompound\u001b[49m\u001b[43m,\u001b[49m\n\u001b[1;32m    118\u001b[0m \u001b[43m        \u001b[49m\u001b[43minfer_hierarchy\u001b[49m\u001b[38;5;241;43m=\u001b[39;49m\u001b[43minfer_hierarchy\u001b[49m\u001b[43m,\u001b[49m\n\u001b[1;32m    119\u001b[0m \u001b[43m        \u001b[49m\u001b[43mignore_box_warn\u001b[49m\u001b[38;5;241;43m=\u001b[39;49m\u001b[43mignore_box_warn\u001b[49m\u001b[43m,\u001b[49m\n\u001b[1;32m    120\u001b[0m \u001b[43m        \u001b[49m\u001b[43mbackend\u001b[49m\u001b[38;5;241;43m=\u001b[39;49m\u001b[43mbackend\u001b[49m\u001b[43m,\u001b[49m\n\u001b[1;32m    121\u001b[0m \u001b[43m        \u001b[49m\u001b[38;5;241;43m*\u001b[39;49m\u001b[38;5;241;43m*\u001b[39;49m\u001b[43mkwargs\u001b[49m\u001b[43m,\u001b[49m\n\u001b[1;32m    122\u001b[0m \u001b[43m    \u001b[49m\u001b[43m)\u001b[49m\n\u001b[1;32m    123\u001b[0m \u001b[38;5;66;03m# Last, if none of the above, load from file\u001b[39;00m\n\u001b[1;32m    124\u001b[0m \u001b[38;5;28;01melse\u001b[39;00m:\n\u001b[1;32m    125\u001b[0m     \u001b[38;5;28;01mreturn\u001b[39;00m load_file(\n\u001b[1;32m    126\u001b[0m         filename\u001b[38;5;241m=\u001b[39mfilename_or_object,\n\u001b[1;32m    127\u001b[0m         relative_to_module\u001b[38;5;241m=\u001b[39mrelative_to_module,\n\u001b[0;32m   (...)\u001b[0m\n\u001b[1;32m    133\u001b[0m         \u001b[38;5;241m*\u001b[39m\u001b[38;5;241m*\u001b[39mkwargs,\n\u001b[1;32m    134\u001b[0m     )\n",
      "File \u001b[0;32m~/Programs/miniconda3/lib/python3.9/site-packages/mbuild/conversion.py:252\u001b[0m, in \u001b[0;36mload_smiles\u001b[0;34m(smiles_or_filename, compound, infer_hierarchy, ignore_box_warn, backend, coords_only, **kwargs)\u001b[0m\n\u001b[1;32m    249\u001b[0m     backend \u001b[38;5;241m=\u001b[39m \u001b[38;5;124m\"\u001b[39m\u001b[38;5;124mrdkit\u001b[39m\u001b[38;5;124m\"\u001b[39m\n\u001b[1;32m    251\u001b[0m \u001b[38;5;28;01mif\u001b[39;00m backend \u001b[38;5;241m==\u001b[39m \u001b[38;5;124m\"\u001b[39m\u001b[38;5;124mrdkit\u001b[39m\u001b[38;5;124m\"\u001b[39m:\n\u001b[0;32m--> 252\u001b[0m     rdkit \u001b[38;5;241m=\u001b[39m \u001b[43mimport_\u001b[49m\u001b[43m(\u001b[49m\u001b[38;5;124;43m\"\u001b[39;49m\u001b[38;5;124;43mrdkit\u001b[39;49m\u001b[38;5;124;43m\"\u001b[39;49m\u001b[43m)\u001b[49m\n\u001b[1;32m    253\u001b[0m     \u001b[38;5;28;01mfrom\u001b[39;00m \u001b[38;5;21;01mrdkit\u001b[39;00m \u001b[38;5;28;01mimport\u001b[39;00m Chem\n\u001b[1;32m    254\u001b[0m     \u001b[38;5;28;01mfrom\u001b[39;00m \u001b[38;5;21;01mrdkit\u001b[39;00m\u001b[38;5;21;01m.\u001b[39;00m\u001b[38;5;21;01mChem\u001b[39;00m \u001b[38;5;28;01mimport\u001b[39;00m AllChem\n",
      "File \u001b[0;32m~/Programs/miniconda3/lib/python3.9/site-packages/mbuild/utils/io.py:262\u001b[0m, in \u001b[0;36mimport_\u001b[0;34m(module)\u001b[0m\n\u001b[1;32m    260\u001b[0m \u001b[38;5;28mprint\u001b[39m(m, file\u001b[38;5;241m=\u001b[39msys\u001b[38;5;241m.\u001b[39mstderr)\n\u001b[1;32m    261\u001b[0m \u001b[38;5;28mprint\u001b[39m(bar, file\u001b[38;5;241m=\u001b[39msys\u001b[38;5;241m.\u001b[39mstderr)\n\u001b[0;32m--> 262\u001b[0m \u001b[38;5;28;01mraise\u001b[39;00m DelayImportError(m)\n",
      "\u001b[0;31mDelayImportError\u001b[0m: \nThe code at conversion.py:252 requires the \"rdkit\" package\n\nrdkit can be installed with conda using:\n\n# conda install -c conda-forge rdkit\n\nor from source following instructions at:\n\nhttps://www.rdkit.org/docs/Install.html#installation-from-source\n"
     ]
    }
   ],
   "source": [
    "import mbuild\n",
    "import foyer\n",
    "import mosdef_cassandra as mc\n",
    "import unyt as u\n",
    "\n",
    "# Use mbuild to create a methane\n",
    "adsorbate = mbuild.load(\"Ar\", smiles=True)\n",
    "\n",
    "# Create an empty mbuild.Box\n",
    "box = mbuild.Box(lengths=[10.0, 10.0, 10.0])\n",
    "\n",
    "# Load force field\n",
    "ff = foyer.Forcefield(\"../../Resources/foyer/noble_gas.xml\")\n",
    "\n",
    "# Use foyer to apply the force field\n",
    "adsorbate_ff = ff.apply(adsorbate)\n",
    "\n",
    "# Create box and species list\n",
    "box_list = [box]\n",
    "species_list = [adsorbate_ff]\n",
    "\n",
    "mols_to_add = [[64]]\n",
    "\n",
    "system = mc.System(box_list, species_list, mols_to_add=mols_to_add)\n",
    "moveset = mc.MoveSet(\"gcmc\", species_list)\n",
    "\n",
    "custom_args = {\n",
    "    \"chemical_potentials\": [-10.0 * (u.kJ / u.mol)],\n",
    "    \"prop_freq\": 100,\n",
    "}\n",
    "\n",
    "mc.run(\n",
    "    system=system,\n",
    "    moveset=moveset,\n",
    "    run_type=\"equilibration\",\n",
    "    run_length=64000,\n",
    "    temperature=100.0 * u.K,\n",
    "    **custom_args,\n",
    ")"
   ]
  },
  {
   "cell_type": "markdown",
   "id": "63eeb1b0",
   "metadata": {},
   "source": [
    "## ASE-LJ"
   ]
  },
  {
   "cell_type": "code",
   "execution_count": null,
   "id": "3b21f7ed",
   "metadata": {},
   "outputs": [],
   "source": []
  },
  {
   "cell_type": "markdown",
   "id": "6bb03a5d",
   "metadata": {},
   "source": [
    "## ASE-CP2K"
   ]
  },
  {
   "cell_type": "code",
   "execution_count": null,
   "id": "b002fe69",
   "metadata": {},
   "outputs": [],
   "source": []
  },
  {
   "cell_type": "markdown",
   "id": "d12cc3d5",
   "metadata": {},
   "source": [
    "# Analysis"
   ]
  },
  {
   "cell_type": "code",
   "execution_count": null,
   "id": "011deb27",
   "metadata": {},
   "outputs": [],
   "source": []
  }
 ],
 "metadata": {
  "kernelspec": {
   "display_name": "Python 3 (ipykernel)",
   "language": "python",
   "name": "python3"
  },
  "language_info": {
   "codemirror_mode": {
    "name": "ipython",
    "version": 3
   },
   "file_extension": ".py",
   "mimetype": "text/x-python",
   "name": "python",
   "nbconvert_exporter": "python",
   "pygments_lexer": "ipython3",
   "version": "3.9.12"
  }
 },
 "nbformat": 4,
 "nbformat_minor": 5
}
